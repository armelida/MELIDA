{
  "nbformat": 4,
  "nbformat_minor": 0,
  "metadata": {
    "colab": {
      "provenance": [],
      "authorship_tag": "ABX9TyNv1y8oFaH83q4EvFuLddLN",
      "include_colab_link": true
    },
    "kernelspec": {
      "name": "python3",
      "display_name": "Python 3"
    },
    "language_info": {
      "name": "python"
    }
  },
  "cells": [
    {
      "cell_type": "markdown",
      "metadata": {
        "id": "view-in-github",
        "colab_type": "text"
      },
      "source": [
        "<a href=\"https://colab.research.google.com/github/armelida/MELIDA/blob/main/notebooks/prompting_strategy_evaluator.ipynb\" target=\"_parent\"><img src=\"https://colab.research.google.com/assets/colab-badge.svg\" alt=\"Open In Colab\"/></a>"
      ]
    },
    {
      "cell_type": "code",
      "source": [
        "gpu_info = !nvidia-smi\n",
        "gpu_info = '\\n'.join(gpu_info)\n",
        "if gpu_info.find('failed') >= 0:\n",
        "  print('Not connected to a GPU')\n",
        "else:\n",
        "  print(gpu_info)"
      ],
      "metadata": {
        "id": "768__yPTbRda",
        "outputId": "0f34e2bd-a2cd-4529-bfc6-e6005dcfbf08",
        "colab": {
          "base_uri": "https://localhost:8080/"
        }
      },
      "execution_count": 1,
      "outputs": [
        {
          "output_type": "stream",
          "name": "stdout",
          "text": [
            "/bin/bash: line 1: nvidia-smi: command not found\n"
          ]
        }
      ]
    },
    {
      "cell_type": "code",
      "source": [],
      "metadata": {
        "id": "NKO4-Xa5bPkX"
      },
      "execution_count": null,
      "outputs": []
    },
    {
      "cell_type": "code",
      "execution_count": null,
      "metadata": {
        "colab": {
          "base_uri": "https://localhost:8080/"
        },
        "id": "SiX7WG2jB97A",
        "outputId": "1f745ad5-066b-41b2-e197-93aaaafa2313"
      },
      "outputs": [
        {
          "output_type": "stream",
          "name": "stdout",
          "text": [
            "MELIDA: Prompting Strategy Evaluator is ready!\n"
          ]
        }
      ],
      "source": [
        "# 2. Set up configuration with support for multiple environments\n",
        "import os\n",
        "import json\n",
        "import re\n",
        "\n",
        "# Create config directory\n",
        "os.makedirs('config', exist_ok=True)\n",
        "\n",
        "# Create prompt strategies configuration\n",
        "prompt_strategies = {\n",
        "    \"Prompt-001\": {\n",
        "        \"description\": \"Spanish prompt for AI model taking standardized test\",\n",
        "        \"language\": \"Spanish\",\n",
        "        \"template\": \"Estás tomando un examen estandarizado MIR. Las respuestas correctas suman +3 puntos y las incorrectas restan -1 punto. Debes responder solo con la letra de la opción que consideres correcta (A, B, C, D) o 'NO' si prefieres no responder. No incluyas texto adicional en tu respuesta. Tu objetivo es maximizar tu puntuación.\\n\\nPregunta: {question_text}\\n\\nA) {option_a}\\nB) {option_b}\\nC) {option_c}\\nD) {option_d}\\n\\nTu respuesta (solo A, B, C, D o NO):\",\n",
        "        \"expected_format\": \"single_letter\",\n",
        "        \"tags\": [\"spanish\", \"direct\", \"no_reasoning\"]\n",
        "    },\n",
        "    \"Prompt-002\": {\n",
        "        \"description\": \"English prompt, questions and options in Spanish\",\n",
        "        \"language\": \"English\",\n",
        "        \"template\": \"You are taking a standardized MIR medical exam. Correct answers are worth +3 points and incorrect answers are -1 point. You must respond only with the letter of the option you consider correct (A, B, C, D) or 'NO' if you prefer not to answer. Do not include any additional text in your response. Your goal is to maximize your score.\\n\\nQuestion: {question_text}\\n\\nA) {option_a}\\nB) {option_b}\\nC) {option_c}\\nD) {option_d}\\n\\nYour answer (only A, B, C, D or NO):\",\n",
        "        \"expected_format\": \"single_letter\",\n",
        "        \"tags\": [\"english\", \"direct\", \"no_reasoning\"]\n",
        "    },\n",
        "    # Keep other strategies with the new format\n",
        "    # ...\n",
        "}\n",
        "\n",
        "# Validate prompt templates\n",
        "required_placeholders = [\"{question_text}\", \"{option_a}\", \"{option_b}\", \"{option_c}\", \"{option_d}\"]\n",
        "for strategy_id, strategy in prompt_strategies.items():\n",
        "    template = strategy[\"template\"]\n",
        "    missing = [ph for ph in required_placeholders if ph not in template]\n",
        "    if missing:\n",
        "        print(f\"Warning: Strategy {strategy_id} is missing placeholders: {', '.join(missing)}\")\n",
        "\n",
        "# Save prompt strategies\n",
        "with open('config/prompt_strategies.json', 'w') as f:\n",
        "    json.dump(prompt_strategies, f, indent=2)\n",
        "\n",
        "# Try to get API keys from different sources\n",
        "api_keys = {\"openai\": None, \"anthropic\": None}\n",
        "\n",
        "# Method 1: Try Colab secrets\n",
        "try:\n",
        "    from google.colab import userdata\n",
        "    api_keys[\"openai\"] = userdata.get('OPENAI_API_KEY')\n",
        "    api_keys[\"anthropic\"] = userdata.get('ANTHROPIC_API_KEY')\n",
        "    if api_keys[\"openai\"] and api_keys[\"anthropic\"]:\n",
        "        print(\"✓ API keys loaded from Colab secrets\")\n",
        "except (ImportError, Exception) as e:\n",
        "    print(f\"Note: Couldn't load from Colab secrets - {str(e)}\")\n",
        "\n",
        "# Method 2: Try environment variables if any keys are still missing\n",
        "if not all(api_keys.values()):\n",
        "    try:\n",
        "        import os\n",
        "        if not api_keys[\"openai\"]:\n",
        "            api_keys[\"openai\"] = os.environ.get(\"OPENAI_API_KEY\")\n",
        "        if not api_keys[\"anthropic\"]:\n",
        "            api_keys[\"anthropic\"] = os.environ.get(\"ANTHROPIC_API_KEY\")\n",
        "        if api_keys[\"openai\"] or api_keys[\"anthropic\"]:\n",
        "            print(\"✓ API keys loaded from environment variables\")\n",
        "    except Exception as e:\n",
        "        print(f\"Note: Error accessing environment variables - {str(e)}\")\n",
        "\n",
        "# Method 3: Try loading from a local .env file\n",
        "if not all(api_keys.values()):\n",
        "    try:\n",
        "        from dotenv import load_dotenv\n",
        "        load_dotenv()\n",
        "        if not api_keys[\"openai\"]:\n",
        "            api_keys[\"openai\"] = os.environ.get(\"OPENAI_API_KEY\")\n",
        "        if not api_keys[\"anthropic\"]:\n",
        "            api_keys[\"anthropic\"] = os.environ.get(\"ANTHROPIC_API_KEY\")\n",
        "        if api_keys[\"openai\"] or api_keys[\"anthropic\"]:\n",
        "            print(\"✓ API keys loaded from .env file\")\n",
        "    except (ImportError, Exception) as e:\n",
        "        print(f\"Note: Couldn't load from .env file - {str(e)}\")\n",
        "\n",
        "# Create API configuration\n",
        "api_config = {\n",
        "    \"openai\": {\n",
        "        \"api_key\": api_keys[\"openai\"] or \"YOUR_OPENAI_API_KEY_HERE\"\n",
        "    },\n",
        "    \"anthropic\": {\n",
        "        \"api_key\": api_keys[\"anthropic\"] or \"YOUR_ANTHROPIC_API_KEY_HERE\"\n",
        "    }\n",
        "}\n",
        "\n",
        "# Save API configuration\n",
        "with open('config/api_config.json', 'w') as f:\n",
        "    json.dump(api_config, f, indent=2)\n",
        "\n",
        "# Check if real keys were found\n",
        "if api_keys[\"openai\"] and api_keys[\"anthropic\"]:\n",
        "    print(\"✓ Complete API configuration saved\")\n",
        "else:\n",
        "    missing_keys = []\n",
        "    if not api_keys[\"openai\"]:\n",
        "        missing_keys.append(\"OpenAI\")\n",
        "    if not api_keys[\"anthropic\"]:\n",
        "        missing_keys.append(\"Anthropic\")\n",
        "\n",
        "    print(f\"⚠ Missing API keys: {', '.join(missing_keys)}\")\n",
        "    print(\"Please provide API keys using one of these methods:\")\n",
        "    print(\"  - Colab: Click on the 🔑 icon and add OPENAI_API_KEY and ANTHROPIC_API_KEY\")\n",
        "    print(\"  - Environment variables: Set OPENAI_API_KEY and ANTHROPIC_API_KEY\")\n",
        "    print(\"  - .env file: Create a .env file with OPENAI_API_KEY and ANTHROPIC_API_KEY\")\n",
        "    print(\"Placeholder values have been saved to config/api_config.json\")"
      ]
    }
  ]
}