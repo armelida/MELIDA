{
  "nbformat": 4,
  "nbformat_minor": 0,
  "metadata": {
    "colab": {
      "provenance": [],
      "authorship_tag": "ABX9TyPTZIJjU5DRZF8mm5A1KmLI",
      "include_colab_link": true
    },
    "kernelspec": {
      "name": "python3",
      "display_name": "Python 3"
    },
    "language_info": {
      "name": "python"
    }
  },
  "cells": [
    {
      "cell_type": "markdown",
      "metadata": {
        "id": "view-in-github",
        "colab_type": "text"
      },
      "source": [
        "<a href=\"https://colab.research.google.com/github/armelida/MELIDA/blob/main/notebooks/prod_evaluation_runner.ipynb\" target=\"_parent\"><img src=\"https://colab.research.google.com/assets/colab-badge.svg\" alt=\"Open In Colab\"/></a>"
      ]
    },
    {
      "cell_type": "code",
      "source": [
        "# Remove existing folder (if any) and clone a fresh copy\n",
        "\n",
        "# MELIDA: Model Evaluation for Life-sciences Intelligence and Decision Assistance\n",
        "# Production Evaluation Runner\n",
        "\n",
        "!rm -rf MELIDA\n",
        "\n",
        "# 1. Clone the repository and set up the environment\n",
        "!git clone https://github.com/armelida/MELIDA.git\n",
        "%cd MELIDA\n",
        "\n",
        "# Install required packages\n",
        "!pip install -r requirements.txt\n"
      ],
      "metadata": {
        "colab": {
          "base_uri": "https://localhost:8080/"
        },
        "id": "BRXsl29qVw0Q",
        "outputId": "00d8c5ab-8de3-446f-b184-ad17f1a137a3"
      },
      "execution_count": 1,
      "outputs": [
        {
          "output_type": "stream",
          "name": "stdout",
          "text": [
            "Cloning into 'MELIDA'...\n",
            "remote: Enumerating objects: 64, done.\u001b[K\n",
            "remote: Counting objects:   1% (1/64)\u001b[K\rremote: Counting objects:   3% (2/64)\u001b[K\rremote: Counting objects:   4% (3/64)\u001b[K\rremote: Counting objects:   6% (4/64)\u001b[K\rremote: Counting objects:   7% (5/64)\u001b[K\rremote: Counting objects:   9% (6/64)\u001b[K\rremote: Counting objects:  10% (7/64)\u001b[K\rremote: Counting objects:  12% (8/64)\u001b[K\rremote: Counting objects:  14% (9/64)\u001b[K\rremote: Counting objects:  15% (10/64)\u001b[K\rremote: Counting objects:  17% (11/64)\u001b[K\rremote: Counting objects:  18% (12/64)\u001b[K\rremote: Counting objects:  20% (13/64)\u001b[K\rremote: Counting objects:  21% (14/64)\u001b[K\rremote: Counting objects:  23% (15/64)\u001b[K\rremote: Counting objects:  25% (16/64)\u001b[K\rremote: Counting objects:  26% (17/64)\u001b[K\rremote: Counting objects:  28% (18/64)\u001b[K\rremote: Counting objects:  29% (19/64)\u001b[K\rremote: Counting objects:  31% (20/64)\u001b[K\rremote: Counting objects:  32% (21/64)\u001b[K\rremote: Counting objects:  34% (22/64)\u001b[K\rremote: Counting objects:  35% (23/64)\u001b[K\rremote: Counting objects:  37% (24/64)\u001b[K\rremote: Counting objects:  39% (25/64)\u001b[K\rremote: Counting objects:  40% (26/64)\u001b[K\rremote: Counting objects:  42% (27/64)\u001b[K\rremote: Counting objects:  43% (28/64)\u001b[K\rremote: Counting objects:  45% (29/64)\u001b[K\rremote: Counting objects:  46% (30/64)\u001b[K\rremote: Counting objects:  48% (31/64)\u001b[K\rremote: Counting objects:  50% (32/64)\u001b[K\rremote: Counting objects:  51% (33/64)\u001b[K\rremote: Counting objects:  53% (34/64)\u001b[K\rremote: Counting objects:  54% (35/64)\u001b[K\rremote: Counting objects:  56% (36/64)\u001b[K\rremote: Counting objects:  57% (37/64)\u001b[K\rremote: Counting objects:  59% (38/64)\u001b[K\rremote: Counting objects:  60% (39/64)\u001b[K\rremote: Counting objects:  62% (40/64)\u001b[K\rremote: Counting objects:  64% (41/64)\u001b[K\rremote: Counting objects:  65% (42/64)\u001b[K\rremote: Counting objects:  67% (43/64)\u001b[K\rremote: Counting objects:  68% (44/64)\u001b[K\rremote: Counting objects:  70% (45/64)\u001b[K\rremote: Counting objects:  71% (46/64)\u001b[K\rremote: Counting objects:  73% (47/64)\u001b[K\rremote: Counting objects:  75% (48/64)\u001b[K\rremote: Counting objects:  76% (49/64)\u001b[K\rremote: Counting objects:  78% (50/64)\u001b[K\rremote: Counting objects:  79% (51/64)\u001b[K\rremote: Counting objects:  81% (52/64)\u001b[K\rremote: Counting objects:  82% (53/64)\u001b[K\rremote: Counting objects:  84% (54/64)\u001b[K\rremote: Counting objects:  85% (55/64)\u001b[K\rremote: Counting objects:  87% (56/64)\u001b[K\rremote: Counting objects:  89% (57/64)\u001b[K\rremote: Counting objects:  90% (58/64)\u001b[K\rremote: Counting objects:  92% (59/64)\u001b[K\rremote: Counting objects:  93% (60/64)\u001b[K\rremote: Counting objects:  95% (61/64)\u001b[K\rremote: Counting objects:  96% (62/64)\u001b[K\rremote: Counting objects:  98% (63/64)\u001b[K\rremote: Counting objects: 100% (64/64)\u001b[K\rremote: Counting objects: 100% (64/64), done.\u001b[K\n",
            "remote: Compressing objects:   1% (1/56)\u001b[K\rremote: Compressing objects:   3% (2/56)\u001b[K\rremote: Compressing objects:   5% (3/56)\u001b[K\rremote: Compressing objects:   7% (4/56)\u001b[K\rremote: Compressing objects:   8% (5/56)\u001b[K\rremote: Compressing objects:  10% (6/56)\u001b[K\rremote: Compressing objects:  12% (7/56)\u001b[K\rremote: Compressing objects:  14% (8/56)\u001b[K\rremote: Compressing objects:  16% (9/56)\u001b[K\rremote: Compressing objects:  17% (10/56)\u001b[K\rremote: Compressing objects:  19% (11/56)\u001b[K\rremote: Compressing objects:  21% (12/56)\u001b[K\rremote: Compressing objects:  23% (13/56)\u001b[K\rremote: Compressing objects:  25% (14/56)\u001b[K\rremote: Compressing objects:  26% (15/56)\u001b[K\rremote: Compressing objects:  28% (16/56)\u001b[K\rremote: Compressing objects:  30% (17/56)\u001b[K\rremote: Compressing objects:  32% (18/56)\u001b[K\rremote: Compressing objects:  33% (19/56)\u001b[K\rremote: Compressing objects:  35% (20/56)\u001b[K\rremote: Compressing objects:  37% (21/56)\u001b[K\rremote: Compressing objects:  39% (22/56)\u001b[K\rremote: Compressing objects:  41% (23/56)\u001b[K\rremote: Compressing objects:  42% (24/56)\u001b[K\rremote: Compressing objects:  44% (25/56)\u001b[K\rremote: Compressing objects:  46% (26/56)\u001b[K\rremote: Compressing objects:  48% (27/56)\u001b[K\rremote: Compressing objects:  50% (28/56)\u001b[K\rremote: Compressing objects:  51% (29/56)\u001b[K\rremote: Compressing objects:  53% (30/56)\u001b[K\rremote: Compressing objects:  55% (31/56)\u001b[K\rremote: Compressing objects:  57% (32/56)\u001b[K\rremote: Compressing objects:  58% (33/56)\u001b[K\rremote: Compressing objects:  60% (34/56)\u001b[K\rremote: Compressing objects:  62% (35/56)\u001b[K\rremote: Compressing objects:  64% (36/56)\u001b[K\rremote: Compressing objects:  66% (37/56)\u001b[K\rremote: Compressing objects:  67% (38/56)\u001b[K\rremote: Compressing objects:  69% (39/56)\u001b[K\rremote: Compressing objects:  71% (40/56)\u001b[K\rremote: Compressing objects:  73% (41/56)\u001b[K\rremote: Compressing objects:  75% (42/56)\u001b[K\rremote: Compressing objects:  76% (43/56)\u001b[K\rremote: Compressing objects:  78% (44/56)\u001b[K\rremote: Compressing objects:  80% (45/56)\u001b[K\rremote: Compressing objects:  82% (46/56)\u001b[K\rremote: Compressing objects:  83% (47/56)\u001b[K\rremote: Compressing objects:  85% (48/56)\u001b[K\rremote: Compressing objects:  87% (49/56)\u001b[K\rremote: Compressing objects:  89% (50/56)\u001b[K\rremote: Compressing objects:  91% (51/56)\u001b[K\rremote: Compressing objects:  92% (52/56)\u001b[K\rremote: Compressing objects:  94% (53/56)\u001b[K\rremote: Compressing objects:  96% (54/56)\u001b[K\rremote: Compressing objects:  98% (55/56)\u001b[K\rremote: Compressing objects: 100% (56/56)\u001b[K\rremote: Compressing objects: 100% (56/56), done.\u001b[K\n",
            "Receiving objects:   1% (1/64)\rReceiving objects:   3% (2/64)\rReceiving objects:   4% (3/64)\rReceiving objects:   6% (4/64)\rReceiving objects:   7% (5/64)\rReceiving objects:   9% (6/64)\rReceiving objects:  10% (7/64)\rReceiving objects:  12% (8/64)\rReceiving objects:  14% (9/64)\rReceiving objects:  15% (10/64)\rReceiving objects:  17% (11/64)\rReceiving objects:  18% (12/64)\rReceiving objects:  20% (13/64)\rReceiving objects:  21% (14/64)\rReceiving objects:  23% (15/64)\rReceiving objects:  25% (16/64)\rReceiving objects:  26% (17/64)\rReceiving objects:  28% (18/64)\rReceiving objects:  29% (19/64)\rReceiving objects:  31% (20/64)\rReceiving objects:  32% (21/64)\rReceiving objects:  34% (22/64)\rReceiving objects:  35% (23/64)\rReceiving objects:  37% (24/64)\rReceiving objects:  39% (25/64)\rremote: Total 64 (delta 15), reused 34 (delta 4), pack-reused 0 (from 0)\u001b[K\n",
            "Receiving objects:  40% (26/64)\rReceiving objects:  42% (27/64)\rReceiving objects:  43% (28/64)\rReceiving objects:  45% (29/64)\rReceiving objects:  46% (30/64)\rReceiving objects:  48% (31/64)\rReceiving objects:  50% (32/64)\rReceiving objects:  51% (33/64)\rReceiving objects:  53% (34/64)\rReceiving objects:  54% (35/64)\rReceiving objects:  56% (36/64)\rReceiving objects:  57% (37/64)\rReceiving objects:  59% (38/64)\rReceiving objects:  60% (39/64)\rReceiving objects:  62% (40/64)\rReceiving objects:  64% (41/64)\rReceiving objects:  65% (42/64)\rReceiving objects:  67% (43/64)\rReceiving objects:  68% (44/64)\rReceiving objects:  70% (45/64)\rReceiving objects:  71% (46/64)\rReceiving objects:  73% (47/64)\rReceiving objects:  75% (48/64)\rReceiving objects:  76% (49/64)\rReceiving objects:  78% (50/64)\rReceiving objects:  79% (51/64)\rReceiving objects:  81% (52/64)\rReceiving objects:  82% (53/64)\rReceiving objects:  84% (54/64)\rReceiving objects:  85% (55/64)\rReceiving objects:  87% (56/64)\rReceiving objects:  89% (57/64)\rReceiving objects:  90% (58/64)\rReceiving objects:  92% (59/64)\rReceiving objects:  93% (60/64)\rReceiving objects:  95% (61/64)\rReceiving objects:  96% (62/64)\rReceiving objects:  98% (63/64)\rReceiving objects: 100% (64/64)\rReceiving objects: 100% (64/64), 67.11 KiB | 5.16 MiB/s, done.\n",
            "Resolving deltas:   0% (0/15)\rResolving deltas:   6% (1/15)\rResolving deltas:  13% (2/15)\rResolving deltas:  20% (3/15)\rResolving deltas:  26% (4/15)\rResolving deltas:  33% (5/15)\rResolving deltas:  40% (6/15)\rResolving deltas:  46% (7/15)\rResolving deltas:  53% (8/15)\rResolving deltas:  60% (9/15)\rResolving deltas:  66% (10/15)\rResolving deltas:  73% (11/15)\rResolving deltas:  80% (12/15)\rResolving deltas:  86% (13/15)\rResolving deltas:  93% (14/15)\rResolving deltas: 100% (15/15)\rResolving deltas: 100% (15/15), done.\n",
            "/content/MELIDA\n",
            "Requirement already satisfied: openai>=1.0.0 in /usr/local/lib/python3.11/dist-packages (from -r requirements.txt (line 1)) (1.61.1)\n",
            "Requirement already satisfied: anthropic>=0.7.0 in /usr/local/lib/python3.11/dist-packages (from -r requirements.txt (line 2)) (0.49.0)\n",
            "Requirement already satisfied: pandas>=1.5.0 in /usr/local/lib/python3.11/dist-packages (from -r requirements.txt (line 3)) (2.2.2)\n",
            "Requirement already satisfied: tqdm>=4.65.0 in /usr/local/lib/python3.11/dist-packages (from -r requirements.txt (line 4)) (4.67.1)\n",
            "Requirement already satisfied: matplotlib>=3.7.0 in /usr/local/lib/python3.11/dist-packages (from -r requirements.txt (line 5)) (3.10.0)\n",
            "Requirement already satisfied: seaborn>=0.12.0 in /usr/local/lib/python3.11/dist-packages (from -r requirements.txt (line 6)) (0.13.2)\n",
            "Requirement already satisfied: jupyter>=1.0.0 in /usr/local/lib/python3.11/dist-packages (from -r requirements.txt (line 7)) (1.1.1)\n",
            "Requirement already satisfied: anyio<5,>=3.5.0 in /usr/local/lib/python3.11/dist-packages (from openai>=1.0.0->-r requirements.txt (line 1)) (3.7.1)\n",
            "Requirement already satisfied: distro<2,>=1.7.0 in /usr/local/lib/python3.11/dist-packages (from openai>=1.0.0->-r requirements.txt (line 1)) (1.9.0)\n",
            "Requirement already satisfied: httpx<1,>=0.23.0 in /usr/local/lib/python3.11/dist-packages (from openai>=1.0.0->-r requirements.txt (line 1)) (0.28.1)\n",
            "Requirement already satisfied: jiter<1,>=0.4.0 in /usr/local/lib/python3.11/dist-packages (from openai>=1.0.0->-r requirements.txt (line 1)) (0.8.2)\n",
            "Requirement already satisfied: pydantic<3,>=1.9.0 in /usr/local/lib/python3.11/dist-packages (from openai>=1.0.0->-r requirements.txt (line 1)) (2.10.6)\n",
            "Requirement already satisfied: sniffio in /usr/local/lib/python3.11/dist-packages (from openai>=1.0.0->-r requirements.txt (line 1)) (1.3.1)\n",
            "Requirement already satisfied: typing-extensions<5,>=4.11 in /usr/local/lib/python3.11/dist-packages (from openai>=1.0.0->-r requirements.txt (line 1)) (4.12.2)\n",
            "Requirement already satisfied: numpy>=1.23.2 in /usr/local/lib/python3.11/dist-packages (from pandas>=1.5.0->-r requirements.txt (line 3)) (1.26.4)\n",
            "Requirement already satisfied: python-dateutil>=2.8.2 in /usr/local/lib/python3.11/dist-packages (from pandas>=1.5.0->-r requirements.txt (line 3)) (2.8.2)\n",
            "Requirement already satisfied: pytz>=2020.1 in /usr/local/lib/python3.11/dist-packages (from pandas>=1.5.0->-r requirements.txt (line 3)) (2025.1)\n",
            "Requirement already satisfied: tzdata>=2022.7 in /usr/local/lib/python3.11/dist-packages (from pandas>=1.5.0->-r requirements.txt (line 3)) (2025.1)\n",
            "Requirement already satisfied: contourpy>=1.0.1 in /usr/local/lib/python3.11/dist-packages (from matplotlib>=3.7.0->-r requirements.txt (line 5)) (1.3.1)\n",
            "Requirement already satisfied: cycler>=0.10 in /usr/local/lib/python3.11/dist-packages (from matplotlib>=3.7.0->-r requirements.txt (line 5)) (0.12.1)\n",
            "Requirement already satisfied: fonttools>=4.22.0 in /usr/local/lib/python3.11/dist-packages (from matplotlib>=3.7.0->-r requirements.txt (line 5)) (4.56.0)\n",
            "Requirement already satisfied: kiwisolver>=1.3.1 in /usr/local/lib/python3.11/dist-packages (from matplotlib>=3.7.0->-r requirements.txt (line 5)) (1.4.8)\n",
            "Requirement already satisfied: packaging>=20.0 in /usr/local/lib/python3.11/dist-packages (from matplotlib>=3.7.0->-r requirements.txt (line 5)) (24.2)\n",
            "Requirement already satisfied: pillow>=8 in /usr/local/lib/python3.11/dist-packages (from matplotlib>=3.7.0->-r requirements.txt (line 5)) (11.1.0)\n",
            "Requirement already satisfied: pyparsing>=2.3.1 in /usr/local/lib/python3.11/dist-packages (from matplotlib>=3.7.0->-r requirements.txt (line 5)) (3.2.1)\n",
            "Requirement already satisfied: notebook in /usr/local/lib/python3.11/dist-packages (from jupyter>=1.0.0->-r requirements.txt (line 7)) (6.5.5)\n",
            "Requirement already satisfied: jupyter-console in /usr/local/lib/python3.11/dist-packages (from jupyter>=1.0.0->-r requirements.txt (line 7)) (6.1.0)\n",
            "Requirement already satisfied: nbconvert in /usr/local/lib/python3.11/dist-packages (from jupyter>=1.0.0->-r requirements.txt (line 7)) (7.16.6)\n",
            "Requirement already satisfied: ipykernel in /usr/local/lib/python3.11/dist-packages (from jupyter>=1.0.0->-r requirements.txt (line 7)) (6.17.1)\n",
            "Requirement already satisfied: ipywidgets in /usr/local/lib/python3.11/dist-packages (from jupyter>=1.0.0->-r requirements.txt (line 7)) (7.7.1)\n",
            "Requirement already satisfied: jupyterlab in /usr/local/lib/python3.11/dist-packages (from jupyter>=1.0.0->-r requirements.txt (line 7)) (4.3.5)\n",
            "Requirement already satisfied: idna>=2.8 in /usr/local/lib/python3.11/dist-packages (from anyio<5,>=3.5.0->openai>=1.0.0->-r requirements.txt (line 1)) (3.10)\n",
            "Requirement already satisfied: certifi in /usr/local/lib/python3.11/dist-packages (from httpx<1,>=0.23.0->openai>=1.0.0->-r requirements.txt (line 1)) (2025.1.31)\n",
            "Requirement already satisfied: httpcore==1.* in /usr/local/lib/python3.11/dist-packages (from httpx<1,>=0.23.0->openai>=1.0.0->-r requirements.txt (line 1)) (1.0.7)\n",
            "Requirement already satisfied: h11<0.15,>=0.13 in /usr/local/lib/python3.11/dist-packages (from httpcore==1.*->httpx<1,>=0.23.0->openai>=1.0.0->-r requirements.txt (line 1)) (0.14.0)\n",
            "Requirement already satisfied: annotated-types>=0.6.0 in /usr/local/lib/python3.11/dist-packages (from pydantic<3,>=1.9.0->openai>=1.0.0->-r requirements.txt (line 1)) (0.7.0)\n",
            "Requirement already satisfied: pydantic-core==2.27.2 in /usr/local/lib/python3.11/dist-packages (from pydantic<3,>=1.9.0->openai>=1.0.0->-r requirements.txt (line 1)) (2.27.2)\n",
            "Requirement already satisfied: six>=1.5 in /usr/local/lib/python3.11/dist-packages (from python-dateutil>=2.8.2->pandas>=1.5.0->-r requirements.txt (line 3)) (1.17.0)\n",
            "Requirement already satisfied: debugpy>=1.0 in /usr/local/lib/python3.11/dist-packages (from ipykernel->jupyter>=1.0.0->-r requirements.txt (line 7)) (1.8.0)\n",
            "Requirement already satisfied: ipython>=7.23.1 in /usr/local/lib/python3.11/dist-packages (from ipykernel->jupyter>=1.0.0->-r requirements.txt (line 7)) (7.34.0)\n",
            "Requirement already satisfied: jupyter-client>=6.1.12 in /usr/local/lib/python3.11/dist-packages (from ipykernel->jupyter>=1.0.0->-r requirements.txt (line 7)) (7.4.9)\n",
            "Requirement already satisfied: matplotlib-inline>=0.1 in /usr/local/lib/python3.11/dist-packages (from ipykernel->jupyter>=1.0.0->-r requirements.txt (line 7)) (0.1.7)\n",
            "Requirement already satisfied: nest-asyncio in /usr/local/lib/python3.11/dist-packages (from ipykernel->jupyter>=1.0.0->-r requirements.txt (line 7)) (1.6.0)\n",
            "Requirement already satisfied: psutil in /usr/local/lib/python3.11/dist-packages (from ipykernel->jupyter>=1.0.0->-r requirements.txt (line 7)) (5.9.5)\n",
            "Requirement already satisfied: pyzmq>=17 in /usr/local/lib/python3.11/dist-packages (from ipykernel->jupyter>=1.0.0->-r requirements.txt (line 7)) (24.0.1)\n",
            "Requirement already satisfied: tornado>=6.1 in /usr/local/lib/python3.11/dist-packages (from ipykernel->jupyter>=1.0.0->-r requirements.txt (line 7)) (6.4.2)\n",
            "Requirement already satisfied: traitlets>=5.1.0 in /usr/local/lib/python3.11/dist-packages (from ipykernel->jupyter>=1.0.0->-r requirements.txt (line 7)) (5.7.1)\n",
            "Requirement already satisfied: ipython-genutils~=0.2.0 in /usr/local/lib/python3.11/dist-packages (from ipywidgets->jupyter>=1.0.0->-r requirements.txt (line 7)) (0.2.0)\n",
            "Requirement already satisfied: widgetsnbextension~=3.6.0 in /usr/local/lib/python3.11/dist-packages (from ipywidgets->jupyter>=1.0.0->-r requirements.txt (line 7)) (3.6.10)\n",
            "Requirement already satisfied: jupyterlab-widgets>=1.0.0 in /usr/local/lib/python3.11/dist-packages (from ipywidgets->jupyter>=1.0.0->-r requirements.txt (line 7)) (3.0.13)\n",
            "Requirement already satisfied: prompt-toolkit!=3.0.0,!=3.0.1,<3.1.0,>=2.0.0 in /usr/local/lib/python3.11/dist-packages (from jupyter-console->jupyter>=1.0.0->-r requirements.txt (line 7)) (3.0.50)\n",
            "Requirement already satisfied: pygments in /usr/local/lib/python3.11/dist-packages (from jupyter-console->jupyter>=1.0.0->-r requirements.txt (line 7)) (2.18.0)\n",
            "Requirement already satisfied: async-lru>=1.0.0 in /usr/local/lib/python3.11/dist-packages (from jupyterlab->jupyter>=1.0.0->-r requirements.txt (line 7)) (2.0.4)\n",
            "Requirement already satisfied: jinja2>=3.0.3 in /usr/local/lib/python3.11/dist-packages (from jupyterlab->jupyter>=1.0.0->-r requirements.txt (line 7)) (3.1.6)\n",
            "Requirement already satisfied: jupyter-core in /usr/local/lib/python3.11/dist-packages (from jupyterlab->jupyter>=1.0.0->-r requirements.txt (line 7)) (5.7.2)\n",
            "Requirement already satisfied: jupyter-lsp>=2.0.0 in /usr/local/lib/python3.11/dist-packages (from jupyterlab->jupyter>=1.0.0->-r requirements.txt (line 7)) (2.2.5)\n",
            "Requirement already satisfied: jupyter-server<3,>=2.4.0 in /usr/local/lib/python3.11/dist-packages (from jupyterlab->jupyter>=1.0.0->-r requirements.txt (line 7)) (2.15.0)\n",
            "Requirement already satisfied: jupyterlab-server<3,>=2.27.1 in /usr/local/lib/python3.11/dist-packages (from jupyterlab->jupyter>=1.0.0->-r requirements.txt (line 7)) (2.27.3)\n",
            "Requirement already satisfied: notebook-shim>=0.2 in /usr/local/lib/python3.11/dist-packages (from jupyterlab->jupyter>=1.0.0->-r requirements.txt (line 7)) (0.2.4)\n",
            "Requirement already satisfied: setuptools>=40.8.0 in /usr/local/lib/python3.11/dist-packages (from jupyterlab->jupyter>=1.0.0->-r requirements.txt (line 7)) (75.1.0)\n",
            "Requirement already satisfied: beautifulsoup4 in /usr/local/lib/python3.11/dist-packages (from nbconvert->jupyter>=1.0.0->-r requirements.txt (line 7)) (4.13.3)\n",
            "Requirement already satisfied: bleach!=5.0.0 in /usr/local/lib/python3.11/dist-packages (from bleach[css]!=5.0.0->nbconvert->jupyter>=1.0.0->-r requirements.txt (line 7)) (6.2.0)\n",
            "Requirement already satisfied: defusedxml in /usr/local/lib/python3.11/dist-packages (from nbconvert->jupyter>=1.0.0->-r requirements.txt (line 7)) (0.7.1)\n",
            "Requirement already satisfied: jupyterlab-pygments in /usr/local/lib/python3.11/dist-packages (from nbconvert->jupyter>=1.0.0->-r requirements.txt (line 7)) (0.3.0)\n",
            "Requirement already satisfied: markupsafe>=2.0 in /usr/local/lib/python3.11/dist-packages (from nbconvert->jupyter>=1.0.0->-r requirements.txt (line 7)) (3.0.2)\n",
            "Requirement already satisfied: mistune<4,>=2.0.3 in /usr/local/lib/python3.11/dist-packages (from nbconvert->jupyter>=1.0.0->-r requirements.txt (line 7)) (3.1.2)\n",
            "Requirement already satisfied: nbclient>=0.5.0 in /usr/local/lib/python3.11/dist-packages (from nbconvert->jupyter>=1.0.0->-r requirements.txt (line 7)) (0.10.2)\n",
            "Requirement already satisfied: nbformat>=5.7 in /usr/local/lib/python3.11/dist-packages (from nbconvert->jupyter>=1.0.0->-r requirements.txt (line 7)) (5.10.4)\n",
            "Requirement already satisfied: pandocfilters>=1.4.1 in /usr/local/lib/python3.11/dist-packages (from nbconvert->jupyter>=1.0.0->-r requirements.txt (line 7)) (1.5.1)\n",
            "Requirement already satisfied: argon2-cffi in /usr/local/lib/python3.11/dist-packages (from notebook->jupyter>=1.0.0->-r requirements.txt (line 7)) (23.1.0)\n",
            "Requirement already satisfied: Send2Trash>=1.8.0 in /usr/local/lib/python3.11/dist-packages (from notebook->jupyter>=1.0.0->-r requirements.txt (line 7)) (1.8.3)\n",
            "Requirement already satisfied: terminado>=0.8.3 in /usr/local/lib/python3.11/dist-packages (from notebook->jupyter>=1.0.0->-r requirements.txt (line 7)) (0.18.1)\n",
            "Requirement already satisfied: prometheus-client in /usr/local/lib/python3.11/dist-packages (from notebook->jupyter>=1.0.0->-r requirements.txt (line 7)) (0.21.1)\n",
            "Requirement already satisfied: nbclassic>=0.4.7 in /usr/local/lib/python3.11/dist-packages (from notebook->jupyter>=1.0.0->-r requirements.txt (line 7)) (1.2.0)\n",
            "Requirement already satisfied: webencodings in /usr/local/lib/python3.11/dist-packages (from bleach!=5.0.0->bleach[css]!=5.0.0->nbconvert->jupyter>=1.0.0->-r requirements.txt (line 7)) (0.5.1)\n",
            "Requirement already satisfied: tinycss2<1.5,>=1.1.0 in /usr/local/lib/python3.11/dist-packages (from bleach[css]!=5.0.0->nbconvert->jupyter>=1.0.0->-r requirements.txt (line 7)) (1.4.0)\n",
            "Requirement already satisfied: jedi>=0.16 in /usr/local/lib/python3.11/dist-packages (from ipython>=7.23.1->ipykernel->jupyter>=1.0.0->-r requirements.txt (line 7)) (0.19.2)\n",
            "Requirement already satisfied: decorator in /usr/local/lib/python3.11/dist-packages (from ipython>=7.23.1->ipykernel->jupyter>=1.0.0->-r requirements.txt (line 7)) (4.4.2)\n",
            "Requirement already satisfied: pickleshare in /usr/local/lib/python3.11/dist-packages (from ipython>=7.23.1->ipykernel->jupyter>=1.0.0->-r requirements.txt (line 7)) (0.7.5)\n",
            "Requirement already satisfied: backcall in /usr/local/lib/python3.11/dist-packages (from ipython>=7.23.1->ipykernel->jupyter>=1.0.0->-r requirements.txt (line 7)) (0.2.0)\n",
            "Requirement already satisfied: pexpect>4.3 in /usr/local/lib/python3.11/dist-packages (from ipython>=7.23.1->ipykernel->jupyter>=1.0.0->-r requirements.txt (line 7)) (4.9.0)\n",
            "Requirement already satisfied: entrypoints in /usr/local/lib/python3.11/dist-packages (from jupyter-client>=6.1.12->ipykernel->jupyter>=1.0.0->-r requirements.txt (line 7)) (0.4)\n",
            "Requirement already satisfied: platformdirs>=2.5 in /usr/local/lib/python3.11/dist-packages (from jupyter-core->jupyterlab->jupyter>=1.0.0->-r requirements.txt (line 7)) (4.3.6)\n",
            "Requirement already satisfied: jupyter-events>=0.11.0 in /usr/local/lib/python3.11/dist-packages (from jupyter-server<3,>=2.4.0->jupyterlab->jupyter>=1.0.0->-r requirements.txt (line 7)) (0.12.0)\n",
            "Requirement already satisfied: jupyter-server-terminals>=0.4.4 in /usr/local/lib/python3.11/dist-packages (from jupyter-server<3,>=2.4.0->jupyterlab->jupyter>=1.0.0->-r requirements.txt (line 7)) (0.5.3)\n",
            "Requirement already satisfied: overrides>=5.0 in /usr/local/lib/python3.11/dist-packages (from jupyter-server<3,>=2.4.0->jupyterlab->jupyter>=1.0.0->-r requirements.txt (line 7)) (7.7.0)\n",
            "Requirement already satisfied: websocket-client>=1.7 in /usr/local/lib/python3.11/dist-packages (from jupyter-server<3,>=2.4.0->jupyterlab->jupyter>=1.0.0->-r requirements.txt (line 7)) (1.8.0)\n",
            "Requirement already satisfied: argon2-cffi-bindings in /usr/local/lib/python3.11/dist-packages (from argon2-cffi->notebook->jupyter>=1.0.0->-r requirements.txt (line 7)) (21.2.0)\n",
            "Requirement already satisfied: babel>=2.10 in /usr/local/lib/python3.11/dist-packages (from jupyterlab-server<3,>=2.27.1->jupyterlab->jupyter>=1.0.0->-r requirements.txt (line 7)) (2.17.0)\n",
            "Requirement already satisfied: json5>=0.9.0 in /usr/local/lib/python3.11/dist-packages (from jupyterlab-server<3,>=2.27.1->jupyterlab->jupyter>=1.0.0->-r requirements.txt (line 7)) (0.10.0)\n",
            "Requirement already satisfied: jsonschema>=4.18.0 in /usr/local/lib/python3.11/dist-packages (from jupyterlab-server<3,>=2.27.1->jupyterlab->jupyter>=1.0.0->-r requirements.txt (line 7)) (4.23.0)\n",
            "Requirement already satisfied: requests>=2.31 in /usr/local/lib/python3.11/dist-packages (from jupyterlab-server<3,>=2.27.1->jupyterlab->jupyter>=1.0.0->-r requirements.txt (line 7)) (2.32.3)\n",
            "Requirement already satisfied: fastjsonschema>=2.15 in /usr/local/lib/python3.11/dist-packages (from nbformat>=5.7->nbconvert->jupyter>=1.0.0->-r requirements.txt (line 7)) (2.21.1)\n",
            "Requirement already satisfied: wcwidth in /usr/local/lib/python3.11/dist-packages (from prompt-toolkit!=3.0.0,!=3.0.1,<3.1.0,>=2.0.0->jupyter-console->jupyter>=1.0.0->-r requirements.txt (line 7)) (0.2.13)\n",
            "Requirement already satisfied: ptyprocess in /usr/local/lib/python3.11/dist-packages (from terminado>=0.8.3->notebook->jupyter>=1.0.0->-r requirements.txt (line 7)) (0.7.0)\n",
            "Requirement already satisfied: soupsieve>1.2 in /usr/local/lib/python3.11/dist-packages (from beautifulsoup4->nbconvert->jupyter>=1.0.0->-r requirements.txt (line 7)) (2.6)\n",
            "Requirement already satisfied: parso<0.9.0,>=0.8.4 in /usr/local/lib/python3.11/dist-packages (from jedi>=0.16->ipython>=7.23.1->ipykernel->jupyter>=1.0.0->-r requirements.txt (line 7)) (0.8.4)\n",
            "Requirement already satisfied: attrs>=22.2.0 in /usr/local/lib/python3.11/dist-packages (from jsonschema>=4.18.0->jupyterlab-server<3,>=2.27.1->jupyterlab->jupyter>=1.0.0->-r requirements.txt (line 7)) (25.1.0)\n",
            "Requirement already satisfied: jsonschema-specifications>=2023.03.6 in /usr/local/lib/python3.11/dist-packages (from jsonschema>=4.18.0->jupyterlab-server<3,>=2.27.1->jupyterlab->jupyter>=1.0.0->-r requirements.txt (line 7)) (2024.10.1)\n",
            "Requirement already satisfied: referencing>=0.28.4 in /usr/local/lib/python3.11/dist-packages (from jsonschema>=4.18.0->jupyterlab-server<3,>=2.27.1->jupyterlab->jupyter>=1.0.0->-r requirements.txt (line 7)) (0.36.2)\n",
            "Requirement already satisfied: rpds-py>=0.7.1 in /usr/local/lib/python3.11/dist-packages (from jsonschema>=4.18.0->jupyterlab-server<3,>=2.27.1->jupyterlab->jupyter>=1.0.0->-r requirements.txt (line 7)) (0.23.1)\n",
            "Requirement already satisfied: python-json-logger>=2.0.4 in /usr/local/lib/python3.11/dist-packages (from jupyter-events>=0.11.0->jupyter-server<3,>=2.4.0->jupyterlab->jupyter>=1.0.0->-r requirements.txt (line 7)) (3.3.0)\n",
            "Requirement already satisfied: pyyaml>=5.3 in /usr/local/lib/python3.11/dist-packages (from jupyter-events>=0.11.0->jupyter-server<3,>=2.4.0->jupyterlab->jupyter>=1.0.0->-r requirements.txt (line 7)) (6.0.2)\n",
            "Requirement already satisfied: rfc3339-validator in /usr/local/lib/python3.11/dist-packages (from jupyter-events>=0.11.0->jupyter-server<3,>=2.4.0->jupyterlab->jupyter>=1.0.0->-r requirements.txt (line 7)) (0.1.4)\n",
            "Requirement already satisfied: rfc3986-validator>=0.1.1 in /usr/local/lib/python3.11/dist-packages (from jupyter-events>=0.11.0->jupyter-server<3,>=2.4.0->jupyterlab->jupyter>=1.0.0->-r requirements.txt (line 7)) (0.1.1)\n",
            "Requirement already satisfied: charset-normalizer<4,>=2 in /usr/local/lib/python3.11/dist-packages (from requests>=2.31->jupyterlab-server<3,>=2.27.1->jupyterlab->jupyter>=1.0.0->-r requirements.txt (line 7)) (3.4.1)\n",
            "Requirement already satisfied: urllib3<3,>=1.21.1 in /usr/local/lib/python3.11/dist-packages (from requests>=2.31->jupyterlab-server<3,>=2.27.1->jupyterlab->jupyter>=1.0.0->-r requirements.txt (line 7)) (2.3.0)\n",
            "Requirement already satisfied: cffi>=1.0.1 in /usr/local/lib/python3.11/dist-packages (from argon2-cffi-bindings->argon2-cffi->notebook->jupyter>=1.0.0->-r requirements.txt (line 7)) (1.17.1)\n",
            "Requirement already satisfied: pycparser in /usr/local/lib/python3.11/dist-packages (from cffi>=1.0.1->argon2-cffi-bindings->argon2-cffi->notebook->jupyter>=1.0.0->-r requirements.txt (line 7)) (2.22)\n",
            "Requirement already satisfied: fqdn in /usr/local/lib/python3.11/dist-packages (from jsonschema[format-nongpl]>=4.18.0->jupyter-events>=0.11.0->jupyter-server<3,>=2.4.0->jupyterlab->jupyter>=1.0.0->-r requirements.txt (line 7)) (1.5.1)\n",
            "Requirement already satisfied: isoduration in /usr/local/lib/python3.11/dist-packages (from jsonschema[format-nongpl]>=4.18.0->jupyter-events>=0.11.0->jupyter-server<3,>=2.4.0->jupyterlab->jupyter>=1.0.0->-r requirements.txt (line 7)) (20.11.0)\n",
            "Requirement already satisfied: jsonpointer>1.13 in /usr/local/lib/python3.11/dist-packages (from jsonschema[format-nongpl]>=4.18.0->jupyter-events>=0.11.0->jupyter-server<3,>=2.4.0->jupyterlab->jupyter>=1.0.0->-r requirements.txt (line 7)) (3.0.0)\n",
            "Requirement already satisfied: uri-template in /usr/local/lib/python3.11/dist-packages (from jsonschema[format-nongpl]>=4.18.0->jupyter-events>=0.11.0->jupyter-server<3,>=2.4.0->jupyterlab->jupyter>=1.0.0->-r requirements.txt (line 7)) (1.3.0)\n",
            "Requirement already satisfied: webcolors>=24.6.0 in /usr/local/lib/python3.11/dist-packages (from jsonschema[format-nongpl]>=4.18.0->jupyter-events>=0.11.0->jupyter-server<3,>=2.4.0->jupyterlab->jupyter>=1.0.0->-r requirements.txt (line 7)) (24.11.1)\n",
            "Requirement already satisfied: arrow>=0.15.0 in /usr/local/lib/python3.11/dist-packages (from isoduration->jsonschema[format-nongpl]>=4.18.0->jupyter-events>=0.11.0->jupyter-server<3,>=2.4.0->jupyterlab->jupyter>=1.0.0->-r requirements.txt (line 7)) (1.3.0)\n",
            "Requirement already satisfied: types-python-dateutil>=2.8.10 in /usr/local/lib/python3.11/dist-packages (from arrow>=0.15.0->isoduration->jsonschema[format-nongpl]>=4.18.0->jupyter-events>=0.11.0->jupyter-server<3,>=2.4.0->jupyterlab->jupyter>=1.0.0->-r requirements.txt (line 7)) (2.9.0.20241206)\n"
          ]
        }
      ]
    },
    {
      "cell_type": "code",
      "execution_count": 3,
      "metadata": {
        "id": "nTcYCLIc44zz",
        "colab": {
          "base_uri": "https://localhost:8080/"
        },
        "outputId": "210bf3c3-0084-4690-cc0e-b6e8f0309e26"
      },
      "outputs": [
        {
          "output_type": "stream",
          "name": "stdout",
          "text": [
            "API configuration set up using Colab secrets\n",
            "\n",
            "Checking data files...\n",
            "✓ Found 174 questions in data/questions/MIR-2024-v01-t01.json\n",
            "  Sample question: En relación con el metabolismo del hierro y su control mediado por hepcidina, es cierto que:...\n",
            "✓ Found 174 answers in data/answers/MIR-2024-v01-t01-answers.json\n"
          ]
        }
      ],
      "source": [
        "# 2. Set up configuration with Colab secrets\n",
        "import os\n",
        "import json\n",
        "from google.colab import userdata\n",
        "\n",
        "# Create config directory\n",
        "os.makedirs('config', exist_ok=True)\n",
        "\n",
        "# Create prompt strategies configuration\n",
        "prompt_strategies = {\n",
        "    \"Prompt-001\": {\n",
        "        \"description\": \"Spanish prompt for AI model taking standardized test\",\n",
        "        \"template\": \"Estás tomando un examen estandarizado MIR. Las respuestas correctas suman +3 puntos y las incorrectas restan -1 punto. Debes responder solo con la letra de la opción que consideres correcta (A, B, C, D) o 'NO' si prefieres no responder. No incluyas texto adicional en tu respuesta. Tu objetivo es maximizar tu puntuación.\\n\\nPregunta: {question_text}\\n\\nA) {option_a}\\nB) {option_b}\\nC) {option_c}\\nD) {option_d}\\n\\nTu respuesta (solo A, B, C, D o NO):\"\n",
        "    },\n",
        "    \"Prompt-002\": {\n",
        "        \"description\": \"English prompt, questions and options in Spanish\",\n",
        "        \"template\": \"You are taking a standardized MIR medical exam. Correct answers are worth +3 points and incorrect answers are -1 point. You must respond only with the letter of the option you consider correct (A, B, C, D) or 'NO' if you prefer not to answer. Do not include any additional text in your response. Your goal is to maximize your score.\\n\\nQuestion: {question_text}\\n\\nA) {option_a}\\nB) {option_b}\\nC) {option_c}\\nD) {option_d}\\n\\nYour answer (only A, B, C, D or NO):\"\n",
        "    },\n",
        "    \"Prompt-003\": {\n",
        "        \"description\": \"English prompt for doctor, questions and options in Spanish\",\n",
        "        \"template\": \"You are a doctor taking the MIR standardized medical exam. Correct answers are worth +3 points and incorrect answers are -1 point. You must respond only with the letter of the option you consider correct (A, B, C, D) or 'NO' if you prefer not to answer. Do not include any additional text in your response. Your goal is to maximize your score.\\n\\nQuestion: {question_text}\\n\\nA) {option_a}\\nB) {option_b}\\nC) {option_c}\\nD) {option_d}\\n\\nYour answer (only A, B, C, D or NO):\"\n",
        "    },\n",
        "    \"Prompt-004\": {\n",
        "        \"description\": \"Spanish prompt for doctor taking MIR exam\",\n",
        "        \"template\": \"Eres un médico tomando el examen MIR. Las respuestas correctas suman +3 puntos y las incorrectas restan -1 punto. Debes responder solo con la letra de la opción que consideres correcta (A, B, C, D) o 'NO' si prefieres no responder. No incluyas texto adicional en tu respuesta. Tu objetivo es maximizar tu puntuación.\\n\\nPregunta: {question_text}\\n\\nA) {option_a}\\nB) {option_b}\\nC) {option_c}\\nD) {option_d}\\n\\nTu respuesta (solo A, B, C, D o NO):\"\n",
        "    },\n",
        "    \"Prompt-005\": {\n",
        "        \"description\": \"Spanish prompt with reasoning and confidence level\",\n",
        "        \"template\": \"Estás respondiendo un examen médico MIR. Para cada pregunta, piensa paso a paso, analiza cada opción y expresa tu nivel de confianza en la respuesta elegida. Al final, proporciona SOLO la letra de la respuesta correcta (A, B, C, D) o 'NO' si prefieres no responder.\\n\\nLas respuestas correctas suman +3 puntos y las incorrectas restan -1 punto. Responde 'NO' si tu nivel de confianza es menor al 50%. Tu objetivo es maximizar tu puntuación total.\\n\\nPregunta: {question_text}\\n\\nA) {option_a}\\nB) {option_b}\\nC) {option_c}\\nD) {option_d}\\n\\nRazona tu respuesta paso a paso y proporciona tu nivel de confianza. Finalmente, responde solo con A, B, C, D o NO:\"\n",
        "    }\n",
        "}\n",
        "\n",
        "with open('config/prompt_strategies.json', 'w') as f:\n",
        "    json.dump(prompt_strategies, f, indent=2)\n",
        "\n",
        "# Get API keys from Colab secrets\n",
        "try:\n",
        "    openai_api_key = userdata.get('OPENAI_API_KEY')\n",
        "    anthropic_api_key = userdata.get('ANTHROPIC_API_KEY')\n",
        "\n",
        "    api_config = {\n",
        "        \"openai\": {\n",
        "            \"api_key\": openai_api_key\n",
        "        },\n",
        "        \"anthropic\": {\n",
        "            \"api_key\": anthropic_api_key\n",
        "        }\n",
        "    }\n",
        "\n",
        "    with open('config/api_config.json', 'w') as f:\n",
        "        json.dump(api_config, f, indent=2)\n",
        "\n",
        "    print(\"API configuration set up using Colab secrets\")\n",
        "except Exception as e:\n",
        "    print(f\"Error accessing secrets: {e}\")\n",
        "    print(\"Please set up your API keys in Colab secrets:\")\n",
        "    print(\"1. Click on the 🔑 icon in the left sidebar\")\n",
        "    print(\"2. Add OPENAI_API_KEY and ANTHROPIC_API_KEY secrets\")\n",
        "\n",
        "    # Fallback to placeholder keys\n",
        "    api_config = {\n",
        "        \"openai\": {\n",
        "            \"api_key\": \"YOUR_OPENAI_API_KEY_HERE\"\n",
        "        },\n",
        "        \"anthropic\": {\n",
        "            \"api_key\": \"YOUR_ANTHROPIC_API_KEY_HERE\"\n",
        "        }\n",
        "    }\n",
        "\n",
        "    with open('config/api_config.json', 'w') as f:\n",
        "        json.dump(api_config, f, indent=2)\n",
        "\n",
        "    print(\"Created placeholder API configuration\")\n",
        "\n",
        "# 3. Confirm that questions and answers exist\n",
        "print(\"\\nChecking data files...\")\n",
        "questions_file = 'data/questions/MIR-2024-v01-t01.json'\n",
        "answer_key_file = 'data/answers/MIR-2024-v01-t01-answers.json'\n",
        "\n",
        "try:\n",
        "    with open(questions_file, 'r') as f:\n",
        "        questions = json.load(f)\n",
        "    print(f\"✓ Found {len(questions)} questions in {questions_file}\")\n",
        "    print(f\"  Sample question: {questions[0]['question_text'][:100]}...\")\n",
        "except Exception as e:\n",
        "    print(f\"✗ Error loading questions file: {e}\")\n",
        "\n",
        "try:\n",
        "    with open(answer_key_file, 'r') as f:\n",
        "        answers = json.load(f)\n",
        "    print(f\"✓ Found {len(answers)} answers in {answer_key_file}\")\n",
        "except Exception as e:\n",
        "    print(f\"✗ Error loading answer key file: {e}\")\n",
        "\n"
      ]
    },
    {
      "cell_type": "code",
      "source": [
        "# 4. Import the evaluator\n",
        "from src.evaluator import ModelEvaluator\n"
      ],
      "metadata": {
        "id": "EiCpe0_OW-OV"
      },
      "execution_count": 4,
      "outputs": []
    },
    {
      "cell_type": "code",
      "source": [
        "# 5. Set evaluation parameters\n",
        "# Uncomment or modify these as needed\n",
        "models_to_test = [\n",
        "    'gpt-4',\n",
        "    # 'gpt-3.5-turbo',\n",
        "    # 'claude-3-opus-20240229',\n",
        "    # 'claude-3-sonnet-20240229'\n",
        "]\n",
        "\n",
        "prompt_strategies_to_test = [\n",
        "    'Prompt-001',\n",
        "    # 'Prompt-002',\n",
        "    # 'Prompt-003',\n",
        "    # 'Prompt-004',\n",
        "    # 'Prompt-005'\n",
        "]\n",
        "\n",
        "# Number of questions to evaluate (None for all questions)\n",
        "sample_size = 2"
      ],
      "metadata": {
        "id": "VfDmobO2XDjg"
      },
      "execution_count": 5,
      "outputs": []
    },
    {
      "cell_type": "code",
      "source": [
        "# 6. Define evaluation function\n",
        "def run_model_evaluation(model, prompt_strategy, sample_size=None):\n",
        "    \"\"\"Run evaluation with specified model and prompt strategy.\"\"\"\n",
        "    print(f\"\\nRunning evaluation with model: {model}, prompt strategy: {prompt_strategy}\")\n",
        "    print(f\"Sample size: {sample_size if sample_size else 'All available questions'}\")\n",
        "\n",
        "    # Initialize evaluator\n",
        "    evaluator = ModelEvaluator()\n",
        "\n",
        "    # Run evaluation\n",
        "    try:\n",
        "        results_path = evaluator.run_evaluation(\n",
        "            questions_file=questions_file,\n",
        "            answer_key_file=answer_key_file,\n",
        "            prompt_strategy=prompt_strategy,\n",
        "            model=model,\n",
        "            sample_size=sample_size\n",
        "        )\n",
        "        print(f\"✓ Evaluation complete. Results saved to: {results_path}\")\n",
        "        return results_path\n",
        "    except Exception as e:\n",
        "        print(f\"✗ Error during evaluation: {e}\")\n",
        "        import traceback\n",
        "        traceback.print_exc()\n",
        "        return None\n"
      ],
      "metadata": {
        "id": "jOeJyICSXIPm"
      },
      "execution_count": 6,
      "outputs": []
    },
    {
      "cell_type": "code",
      "source": [
        "# 7. Run Sample Evaluation (single model, single prompt strategy)\n",
        "print(\"\\nRunning sample evaluation...\")\n",
        "sample_results_path = run_model_evaluation(\n",
        "    model=models_to_test[0],\n",
        "    prompt_strategy=prompt_strategies_to_test[0],\n",
        "    sample_size=sample_size\n",
        ")\n"
      ],
      "metadata": {
        "colab": {
          "base_uri": "https://localhost:8080/"
        },
        "id": "QcKwvRsFXM9Q",
        "outputId": "d109dc0c-c8c9-4a5b-8aa9-c2c1ff540ea8"
      },
      "execution_count": 7,
      "outputs": [
        {
          "output_type": "stream",
          "name": "stdout",
          "text": [
            "\n",
            "Running sample evaluation...\n",
            "\n",
            "Running evaluation with model: gpt-4, prompt strategy: Prompt-001\n",
            "Sample size: 2\n"
          ]
        },
        {
          "output_type": "stream",
          "name": "stderr",
          "text": [
            "Evaluating questions: 100%|██████████| 2/2 [00:02<00:00,  1.41s/it]"
          ]
        },
        {
          "output_type": "stream",
          "name": "stdout",
          "text": [
            "✓ Evaluation complete. Results saved to: data/results/EVAL-MIR-2024-v01-t01-Prompt-001-gpt-4-20250310-184446.json\n"
          ]
        },
        {
          "output_type": "stream",
          "name": "stderr",
          "text": [
            "\n"
          ]
        }
      ]
    },
    {
      "cell_type": "code",
      "source": [
        "# 8. Analyze sample results\n",
        "if sample_results_path:\n",
        "    print(\"\\nAnalyzing results...\")\n",
        "    with open(sample_results_path, 'r') as f:\n",
        "        results = json.load(f)\n",
        "\n",
        "    # Display summary statistics\n",
        "    summary = results['summary']\n",
        "    print(\"\\nEvaluation Summary:\")\n",
        "    print(f\"Test ID: {summary['test_id']}\")\n",
        "    print(f\"Prompt Strategy: {summary['prompt_strategy']}\")\n",
        "    print(f\"Model: {summary['model']}\")\n",
        "    print(f\"Total Questions: {summary['total_questions']}\")\n",
        "    print(f\"Correct Answers: {summary['correct_count']} ({summary['accuracy']*100:.2f}%)\")\n",
        "    print(f\"Incorrect Answers: {summary['incorrect_count']}\")\n",
        "    print(f\"Skipped Questions: {summary['skipped_count']}\")\n",
        "    print(f\"Total Score: {summary['total_score']}\")\n",
        "\n",
        "    # Display detailed results\n",
        "    print(\"\\nDetailed Results:\")\n",
        "    for i, result in enumerate(results['results']):\n",
        "        print(f\"\\nQuestion {i+1}: {result['question_id']}\")\n",
        "        print(f\"Model Answer: {result['model_answer']}\")\n",
        "        print(f\"Correct Answer: {result['correct_answer']}\")\n",
        "        print(f\"Score: {result['score']}\")\n",
        "        print(f\"Response Time: {result['response_time']:.2f} seconds\")\n",
        "\n"
      ],
      "metadata": {
        "colab": {
          "base_uri": "https://localhost:8080/"
        },
        "id": "iVzDglHUXQTm",
        "outputId": "4b79431c-923a-4881-e338-336531d4977e"
      },
      "execution_count": 8,
      "outputs": [
        {
          "output_type": "stream",
          "name": "stdout",
          "text": [
            "\n",
            "Analyzing results...\n",
            "\n",
            "Evaluation Summary:\n",
            "Test ID: MIR-2024-v01-t01\n",
            "Prompt Strategy: Prompt-001\n",
            "Model: gpt-4\n",
            "Total Questions: 2\n",
            "Correct Answers: 2 (100.00%)\n",
            "Incorrect Answers: 0\n",
            "Skipped Questions: 0\n",
            "Total Score: 6\n",
            "\n",
            "Detailed Results:\n",
            "\n",
            "Question 1: MIR-2024-v01-t01-Q026\n",
            "Model Answer: B\n",
            "Correct Answer: B\n",
            "Score: 3\n",
            "Response Time: 1.02 seconds\n",
            "\n",
            "Question 2: MIR-2024-v01-t01-Q027\n",
            "Model Answer: C\n",
            "Correct Answer: C\n",
            "Score: 3\n",
            "Response Time: 0.79 seconds\n"
          ]
        }
      ]
    },
    {
      "cell_type": "code",
      "source": [
        "# 9. Run Full Evaluation (all models, all prompt strategies)\n",
        "\n",
        "print(\"\\n=== STARTING FULL EVALUATION ===\")\n",
        "all_results = []\n",
        "\n",
        "for model in models_to_test:\n",
        "    for prompt_strategy in prompt_strategies_to_test:\n",
        "        result_path = run_model_evaluation(\n",
        "            model=model,\n",
        "            prompt_strategy=prompt_strategy,\n",
        "            sample_size=None  # Use all questions\n",
        "        )\n",
        "        if result_path:\n",
        "            all_results.append(result_path)\n",
        "\n",
        "print(f\"\\n=== FULL EVALUATION COMPLETE ===\")\n",
        "print(f\"Generated {len(all_results)} result files\")\n"
      ],
      "metadata": {
        "colab": {
          "base_uri": "https://localhost:8080/"
        },
        "id": "vQLpwJL2XUjQ",
        "outputId": "ce73bea3-ee8d-4f9f-88d5-db8d10cede07"
      },
      "execution_count": 9,
      "outputs": [
        {
          "output_type": "stream",
          "name": "stdout",
          "text": [
            "\n",
            "=== STARTING FULL EVALUATION ===\n",
            "\n",
            "Running evaluation with model: gpt-4, prompt strategy: Prompt-001\n",
            "Sample size: All available questions\n"
          ]
        },
        {
          "output_type": "stream",
          "name": "stderr",
          "text": [
            "Evaluating questions: 100%|██████████| 174/174 [03:53<00:00,  1.34s/it]"
          ]
        },
        {
          "output_type": "stream",
          "name": "stdout",
          "text": [
            "✓ Evaluation complete. Results saved to: data/results/EVAL-MIR-2024-v01-t01-Prompt-001-gpt-4-20250310-184900.json\n",
            "\n",
            "=== FULL EVALUATION COMPLETE ===\n",
            "Generated 1 result files\n"
          ]
        },
        {
          "output_type": "stream",
          "name": "stderr",
          "text": [
            "\n"
          ]
        }
      ]
    },
    {
      "cell_type": "code",
      "source": [
        "# 10. Compare all results\n",
        "print(\"\\nComparing all evaluation results...\")\n",
        "comparison_data = []\n",
        "\n",
        "for result_path in all_results:\n",
        "    with open(result_path, 'r') as f:\n",
        "        data = json.load(f)\n",
        "    comparison_data.append(data['summary'])\n",
        "\n",
        "if comparison_data:\n",
        "    import pandas as pd\n",
        "    import matplotlib.pyplot as plt\n",
        "    import seaborn as sns\n",
        "\n",
        "    # Create comparison dataframe\n",
        "    comparison_df = pd.DataFrame(comparison_data)\n",
        "\n",
        "    # Display comparison table\n",
        "    print(\"\\nComparison of all evaluations:\")\n",
        "    print(comparison_df[['prompt_strategy', 'model', 'accuracy', 'total_score', 'correct_count', 'incorrect_count']])\n",
        "\n",
        "    # Plot comparison\n",
        "    plt.figure(figsize=(12, 8))\n",
        "    sns.barplot(x='model', y='accuracy', hue='prompt_strategy', data=comparison_df)\n",
        "    plt.title('Model Accuracy by Prompt Strategy')\n",
        "    plt.ylabel('Accuracy')\n",
        "    plt.xlabel('Model')\n",
        "    plt.xticks(rotation=45)\n",
        "    plt.tight_layout()\n",
        "    plt.show()\n"
      ],
      "metadata": {
        "colab": {
          "base_uri": "https://localhost:8080/",
          "height": 672
        },
        "id": "aldNHQ6GXbMQ",
        "outputId": "f586d79c-820a-4256-c412-0e337805f8b2"
      },
      "execution_count": 10,
      "outputs": [
        {
          "output_type": "stream",
          "name": "stdout",
          "text": [
            "\n",
            "Comparing all evaluation results...\n",
            "\n",
            "Comparison of all evaluations:\n",
            "  prompt_strategy  model  accuracy  total_score  correct_count  \\\n",
            "0      Prompt-001  gpt-4  0.827586          403            144   \n",
            "\n",
            "   incorrect_count  \n",
            "0               29  \n"
          ]
        },
        {
          "output_type": "display_data",
          "data": {
            "text/plain": [
              "<Figure size 1200x800 with 1 Axes>"
            ],
            "image/png": "[encoded data removed]"
          },
          "metadata": {}
        }
      ]
    },
    {
      "cell_type": "code",
      "source": [
        "# 11. Commit results to GitHub\n",
        "\n",
        "print(\"\\nCommitting results to GitHub...\")\n",
        "\n",
        "# Configure Git (if needed)\n",
        "!git config --global user.email \"your.email@example.com\"\n",
        "!git config --global user.name \"Your Name\"\n",
        "\n",
        "# Add all result files\n",
        "!git add data/results/\n",
        "\n",
        "# Commit the changes\n",
        "!git commit -m \"Add evaluation results from $(date)\"\n",
        "\n",
        "# Push to GitHub\n",
        "!git push origin main\n",
        "\n",
        "print(\"Results committed to GitHub successfully\")"
      ],
      "metadata": {
        "colab": {
          "base_uri": "https://localhost:8080/"
        },
        "id": "PjNXTIDYXgEf",
        "outputId": "c9b8978a-fbc8-4edc-a6aa-f2a28ccf664e"
      },
      "execution_count": 11,
      "outputs": [
        {
          "output_type": "stream",
          "name": "stdout",
          "text": [
            "\n",
            "Committing results to GitHub...\n",
            "[main b1fdde1] Add evaluation results from Mon Mar 10 06:50:03 PM UTC 2025\n",
            " 4 files changed, 2500 insertions(+)\n",
            " create mode 100644 data/results/EVAL-MIR-2024-v01-t01-Prompt-001-gpt-4-20250310-184446.csv\n",
            " create mode 100644 data/results/EVAL-MIR-2024-v01-t01-Prompt-001-gpt-4-20250310-184446.json\n",
            " create mode 100644 data/results/EVAL-MIR-2024-v01-t01-Prompt-001-gpt-4-20250310-184900.csv\n",
            " create mode 100644 data/results/EVAL-MIR-2024-v01-t01-Prompt-001-gpt-4-20250310-184900.json\n",
            "fatal: could not read Username for 'https://github.com': No such device or address\n",
            "Results committed to GitHub successfully\n"
          ]
        }
      ]
    }
  ]
}