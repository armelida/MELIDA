{
  "nbformat": 4,
  "nbformat_minor": 0,
  "metadata": {
    "colab": {
      "provenance": [],
      "machine_shape": "hm",
      "gpuType": "T4",
      "authorship_tag": "ABX9TyMtsltm2zJMbJ+zKcfL+n5e",
      "include_colab_link": true
    },
    "kernelspec": {
      "name": "python3",
      "display_name": "Python 3"
    },
    "language_info": {
      "name": "python"
    },
    "accelerator": "GPU"
  },
  "cells": [
    {
      "cell_type": "markdown",
      "metadata": {
        "id": "view-in-github",
        "colab_type": "text"
      },
      "source": [
        "<a href=\"https://colab.research.google.com/github/armelida/MELIDA/blob/main/notebooks/MELIDA_Evaluator_V2_0.ipynb\" target=\"_parent\"><img src=\"https://colab.research.google.com/assets/colab-badge.svg\" alt=\"Open In Colab\"/></a>"
      ]
    },
    {
      "cell_type": "code",
      "source": [
        "# Initial Cell:\n",
        "# Check Runtime & GPU Availability\n",
        "import torch\n",
        "import os\n",
        "import subprocess\n",
        "\n",
        "def check_runtime():\n",
        "    \"\"\"Check whether a GPU or TPU is available.\"\"\"\n",
        "    if torch.cuda.is_available():\n",
        "        gpu_name = torch.cuda.get_device_name(0)\n",
        "        print(f\"✅ GPU is enabled! Using: {gpu_name}\")\n",
        "    elif \"COLAB_TPU_ADDR\" in os.environ:\n",
        "        print(\"✅ TPU is enabled!\")\n",
        "    else:\n",
        "        print(\"⚠️ WARNING: No GPU or TPU detected. Running on CPU.\")\n",
        "        print(\"👉 Go to Runtime > Change runtime type > Select GPU/TPU\")\n",
        "\n",
        "def check_gpu():\n",
        "    \"\"\"Check GPU details using nvidia-smi if available.\"\"\"\n",
        "    try:\n",
        "        result = subprocess.run(\n",
        "            [\"nvidia-smi\"], stdout=subprocess.PIPE, stderr=subprocess.PIPE, text=True\n",
        "        )\n",
        "        if result.returncode == 0:\n",
        "            print(result.stdout)\n",
        "        else:\n",
        "            print(\"⚠️ `nvidia-smi` not found. No GPU detected.\")\n",
        "    except FileNotFoundError:\n",
        "        print(\"⚠️ No GPU found.\")\n",
        "\n",
        "# Run the checks\n",
        "check_runtime()\n",
        "check_gpu()\n",
        "\n",
        "#  Clone repository and change working directory\n",
        "!rm -rf MELIDA  # Remove any existing copy (optional)\n",
        "!git clone https://github.com/armelida/MELIDA.git\n",
        "%cd MELIDA"
      ],
      "metadata": {
        "colab": {
          "base_uri": "https://localhost:8080/"
        },
        "id": "KyrEgEQ-xVTk",
        "outputId": "56dc083a-5a97-46ee-d8b7-26608fb23cbe"
      },
      "execution_count": 15,
      "outputs": [
        {
          "output_type": "stream",
          "name": "stdout",
          "text": [
            "⚠️ WARNING: No GPU or TPU detected. Running on CPU.\n",
            "👉 Go to Runtime > Change runtime type > Select GPU/TPU\n",
            "⚠️ No GPU found.\n",
            "Cloning into 'MELIDA'...\n",
            "remote: Enumerating objects: 684, done.\u001b[K\n",
            "remote: Counting objects: 100% (204/204), done.\u001b[K\n",
            "remote: Compressing objects: 100% (198/198), done.\u001b[K\n",
            "remote: Total 684 (delta 133), reused 18 (delta 5), pack-reused 480 (from 1)\u001b[K\n",
            "Receiving objects: 100% (684/684), 1.51 MiB | 3.75 MiB/s, done.\n",
            "Resolving deltas: 100% (404/404), done.\n",
            "/content/MELIDA/MELIDA\n"
          ]
        }
      ]
    },
    {
      "cell_type": "code",
      "source": [
        "# Cell 0A: Load API Keys & Save API Configuration\n",
        "\n",
        "# Install necessary libraries if not already present\n",
        "!pip install -q python-dotenv google-generativeai # Added google-generativeai\n",
        "# Keep openai pinned if needed, but google-generativeai is separate\n",
        "!pip install openai==0.28\n",
        "\n",
        "import os\n",
        "import json\n",
        "from dotenv import load_dotenv\n",
        "\n",
        "# Initialize API keys dictionary - Added 'google'\n",
        "# In your initial cell (where you load API keys)\n",
        "api_keys = {\"openai\": None, \"anthropic\": None, \"together\": None, \"google\": None, \"grok\": None}\n",
        "\n",
        "try:\n",
        "    from google.colab import userdata\n",
        "    api_keys[\"openai\"] = userdata.get('OPENAI_API_KEY')\n",
        "    api_keys[\"anthropic\"] = userdata.get('ANTHROPIC_API_KEY')\n",
        "    api_keys[\"together\"] = userdata.get('TOGETHER_API_KEY')\n",
        "    api_keys[\"google\"] = userdata.get('GOOGLE_API_KEY')\n",
        "    api_keys[\"grok\"] = userdata.get('GROK_API_KEY')   # <-- Add this line\n",
        "    # Update log messages\n",
        "    if all(v is not None for k, v in api_keys.items() if k not in ['google', 'grok']):\n",
        "         print(\"✓ API keys (OpenAI, Anthropic, Together) loaded from Colab secrets\")\n",
        "    if api_keys[\"google\"]:\n",
        "         print(\"✓ Google API key loaded from Colab secrets\")\n",
        "    if api_keys[\"grok\"]:\n",
        "         print(\"✓ Grok API key loaded from Colab secrets\")\n",
        "except Exception as e:\n",
        "    print(f\"Note: Couldn't load some keys from Colab secrets - {e}\")\n",
        "\n",
        "# Fallback: load from environment variables if not loaded yet\n",
        "if not all(api_keys.values()):\n",
        "    api_keys[\"openai\"] = api_keys[\"openai\"] or os.environ.get(\"OPENAI_API_KEY\")\n",
        "    api_keys[\"anthropic\"] = api_keys[\"anthropic\"] or os.environ.get(\"ANTHROPIC_API_KEY\")\n",
        "    api_keys[\"together\"] = api_keys[\"together\"] or os.environ.get(\"TOGETHER_API_KEY\")\n",
        "    api_keys[\"google\"] = api_keys[\"google\"] or os.environ.get(\"GOOGLE_API_KEY\")\n",
        "    api_keys[\"grok\"] = api_keys[\"grok\"] or os.environ.get(\"GROK_API_KEY\")  # <-- Add this line\n",
        "\n",
        "# Propagate keys to os.environ so subsequent cells can access them\n",
        "if api_keys[\"openai\"]:\n",
        "    os.environ[\"OPENAI_API_KEY\"] = api_keys[\"openai\"]\n",
        "if api_keys[\"anthropic\"]:\n",
        "    os.environ[\"ANTHROPIC_API_KEY\"] = api_keys[\"anthropic\"]\n",
        "if api_keys[\"together\"]:\n",
        "    os.environ[\"TOGETHER_API_KEY\"] = api_keys[\"together\"]\n",
        "if api_keys[\"google\"]:\n",
        "    os.environ[\"GOOGLE_API_KEY\"] = api_keys[\"google\"]\n",
        "if api_keys[\"grok\"]:\n",
        "    os.environ[\"GROK_API_KEY\"] = api_keys[\"grok\"]\n",
        "\n",
        "\n",
        "# Save API configuration to a JSON file for future reference\n",
        "os.makedirs('config', exist_ok=True)\n",
        "api_config = {\n",
        "    \"openai\": {\"api_key\": api_keys[\"openai\"] or \"YOUR_OPENAI_API_KEY_HERE\"},\n",
        "    \"anthropic\": {\"api_key\": api_keys[\"anthropic\"] or \"YOUR_ANTHROPIC_API_KEY_HERE\"},\n",
        "    \"together\": {\"api_key\": api_keys[\"together\"] or \"YOUR_TOGETHER_API_KEY_HERE\"},\n",
        "    \"google\": {\"api_key\": api_keys[\"google\"] or \"YOUR_GOOGLE_API_KEY_HERE\"}\n",
        "}\n",
        "with open('config/api_config.json', 'w') as f:\n",
        "    json.dump(api_config, f, indent=2)\n",
        "\n",
        "# Report missing keys, if any\n",
        "missing = []\n",
        "if not api_keys[\"openai\"]: missing.append(\"OpenAI\")\n",
        "if not api_keys[\"anthropic\"]: missing.append(\"Anthropic\")\n",
        "if not api_keys[\"together\"]: missing.append(\"Together\")\n",
        "if not api_keys[\"google\"]: missing.append(\"Google\")\n",
        "if missing:\n",
        "    print(f\"⚠️ Missing API keys: {', '.join(missing)}\")\n",
        "    print(\"👉 Please set the necessary API keys using Colab secrets (recommended), environment variables, or a .env file.\")\n",
        "else:\n",
        "    print(\"✓ All required API configurations saved/loaded.\")\n",
        "\n"
      ],
      "metadata": {
        "colab": {
          "base_uri": "https://localhost:8080/"
        },
        "id": "X5_dSkv97Efr",
        "outputId": "9631f716-d223-4f48-88de-add471608630"
      },
      "execution_count": 16,
      "outputs": [
        {
          "output_type": "stream",
          "name": "stdout",
          "text": [
            "Requirement already satisfied: openai==0.28 in /usr/local/lib/python3.11/dist-packages (0.28.0)\n",
            "Requirement already satisfied: requests>=2.20 in /usr/local/lib/python3.11/dist-packages (from openai==0.28) (2.32.3)\n",
            "Requirement already satisfied: tqdm in /usr/local/lib/python3.11/dist-packages (from openai==0.28) (4.67.1)\n",
            "Requirement already satisfied: aiohttp in /usr/local/lib/python3.11/dist-packages (from openai==0.28) (3.11.14)\n",
            "Requirement already satisfied: charset-normalizer<4,>=2 in /usr/local/lib/python3.11/dist-packages (from requests>=2.20->openai==0.28) (3.4.1)\n",
            "Requirement already satisfied: idna<4,>=2.5 in /usr/local/lib/python3.11/dist-packages (from requests>=2.20->openai==0.28) (3.10)\n",
            "Requirement already satisfied: urllib3<3,>=1.21.1 in /usr/local/lib/python3.11/dist-packages (from requests>=2.20->openai==0.28) (2.3.0)\n",
            "Requirement already satisfied: certifi>=2017.4.17 in /usr/local/lib/python3.11/dist-packages (from requests>=2.20->openai==0.28) (2025.1.31)\n",
            "Requirement already satisfied: aiohappyeyeballs>=2.3.0 in /usr/local/lib/python3.11/dist-packages (from aiohttp->openai==0.28) (2.6.1)\n",
            "Requirement already satisfied: aiosignal>=1.1.2 in /usr/local/lib/python3.11/dist-packages (from aiohttp->openai==0.28) (1.3.2)\n",
            "Requirement already satisfied: attrs>=17.3.0 in /usr/local/lib/python3.11/dist-packages (from aiohttp->openai==0.28) (25.3.0)\n",
            "Requirement already satisfied: frozenlist>=1.1.1 in /usr/local/lib/python3.11/dist-packages (from aiohttp->openai==0.28) (1.5.0)\n",
            "Requirement already satisfied: multidict<7.0,>=4.5 in /usr/local/lib/python3.11/dist-packages (from aiohttp->openai==0.28) (6.2.0)\n",
            "Requirement already satisfied: propcache>=0.2.0 in /usr/local/lib/python3.11/dist-packages (from aiohttp->openai==0.28) (0.3.1)\n",
            "Requirement already satisfied: yarl<2.0,>=1.17.0 in /usr/local/lib/python3.11/dist-packages (from aiohttp->openai==0.28) (1.18.3)\n",
            "✓ API keys (OpenAI, Anthropic, Together) loaded from Colab secrets\n",
            "✓ Google API key loaded from Colab secrets\n",
            "✓ Grok API key loaded from Colab secrets\n",
            "✓ All required API configurations saved/loaded.\n"
          ]
        }
      ]
    },
    {
      "cell_type": "code",
      "execution_count": 17,
      "metadata": {
        "id": "fMnoEmHYo81v",
        "colab": {
          "base_uri": "https://localhost:8080/"
        },
        "outputId": "6af16695-cfee-4280-8b83-8a3998d1601e"
      },
      "outputs": [
        {
          "output_type": "stream",
          "name": "stdout",
          "text": [
            "Setup complete. Libraries loaded.\n"
          ]
        }
      ],
      "source": [
        "# Cell 1: Setup environment and install required packages\n",
        "\n",
        "# Install required packages - Added google-generativeai\n",
        "!pip install -q pandas PyYAML openai anthropic together transformers google-generativeai\n",
        "\n",
        "# Import libraries\n",
        "import os\n",
        "import time\n",
        "import json\n",
        "import pandas as pd\n",
        "import yaml\n",
        "\n",
        "# Import model API clients\n",
        "import openai\n",
        "# Ensure your OpenAI API key is available (loaded in Cell 0A)\n",
        "\n",
        "import anthropic\n",
        "# Anthropic client might be initialized later in call_model or globally here if preferred\n",
        "\n",
        "import together\n",
        "# Together client might be initialized later in call_model or globally here if preferred\n",
        "\n",
        "# --- Add Google Generative AI Import ---\n",
        "import google.generativeai as genai\n",
        "# --------------------------------------\n",
        "\n",
        "# (Optional) If using Hugging Face transformers for local models:\n",
        "try:\n",
        "    from transformers import pipeline, AutoModelForCausalLM, AutoTokenizer\n",
        "except ImportError:\n",
        "    !pip install -q transformers # Ensure transformers is installed if needed\n",
        "    from transformers import pipeline, AutoModelForCausalLM, AutoTokenizer\n",
        "\n",
        "print(\"Setup complete. Libraries loaded.\")"
      ]
    },
    {
      "cell_type": "code",
      "source": [
        "# Cell 2: Load model registry from external JSON/YAML file\n",
        "\n",
        "# Set the path to your model registry file in the notebooks folder\n",
        "model_config_path = \"notebooks/models.yaml\"\n",
        "\n",
        "# Check if the file exists\n",
        "if not os.path.exists(model_config_path):\n",
        "    raise FileNotFoundError(\n",
        "        f\"Model config file not found at {model_config_path}. \"\n",
        "        \"Please create it as per the example and update the path.\"\n",
        "    )\n",
        "\n",
        "# Parse the config file (supports YAML and JSON)\n",
        "if model_config_path.endswith((\".yaml\", \".yml\")):\n",
        "    with open(model_config_path, 'r') as f:\n",
        "        config_data = yaml.safe_load(f)\n",
        "elif model_config_path.endswith(\".json\"):\n",
        "    with open(model_config_path, 'r') as f:\n",
        "        config_data = json.load(f)\n",
        "else:\n",
        "    raise ValueError(\"Unsupported config file format. Use .json or .yaml\")\n",
        "\n",
        "# The config should either be a dict with a top-level 'models' key or a list itself.\n",
        "if isinstance(config_data, dict) and \"models\" in config_data:\n",
        "    models_config = config_data[\"models\"]\n",
        "elif isinstance(config_data, list):\n",
        "    models_config = config_data\n",
        "else:\n",
        "    raise ValueError(\"Config file format error: expected a list of models or a 'models' key.\")\n",
        "\n",
        "print(f\"Loaded {len(models_config)} models from registry:\")\n",
        "for m in models_config:\n",
        "    print(f\" - {m.get('name', 'Unnamed')} ({m.get('provider', 'Unknown')}, id={m.get('model_id', 'N/A')})\")\n"
      ],
      "metadata": {
        "id": "z8Zg9195pKkY",
        "colab": {
          "base_uri": "https://localhost:8080/"
        },
        "outputId": "bfcdaaf8-1b26-47bf-ec18-285c806e5597"
      },
      "execution_count": 18,
      "outputs": [
        {
          "output_type": "stream",
          "name": "stdout",
          "text": [
            "Loaded 11 models from registry:\n",
            " - o3-mini-2025-01-31 (OpenAI, id=o3-mini-2025-01-31)\n",
            " - Claude (Anthropic, id=claude-3-7-sonnet-20250219)\n",
            " - deepseek-ai/DeepSeek-V3 (Together, id=deepseek-ai/DeepSeek-V3)\n",
            " - deepseek-ai/DeepSeek-R1 (Together, id=deepseek-ai/DeepSeek-R1)\n",
            " - meta-llama/Llama-3.3-70B-Instruct-Turbo (Together, id=meta-llama/Llama-3.3-70B-Instruct-Turbo)\n",
            " - meta-llama/Meta-Llama-3.1-405B-Instruct-Turbo (Together, id=meta-llama/Meta-Llama-3.1-405B-Instruct-Turbo)\n",
            " - mistralai/Mistral-7B-Instruct-v0.2 (Together, id=mistralai/Mistral-7B-Instruct-v0.2)\n",
            " - mistralai/Mixtral-8x22B-Instruct-v0.1 (Together, id=mistralai/Mixtral-8x22B-Instruct-v0.1)\n",
            " - Qwen/Qwen2-VL-72B-Instruct (Together, id=Qwen/Qwen2-VL-72B-Instruct)\n",
            " - grok-2-latest (XAI, id=grok-2-latest)\n",
            " - gemini-1.5-pro-latest (google, id=gemini-1.5-pro-latest)\n"
          ]
        }
      ]
    },
    {
      "cell_type": "markdown",
      "source": [
        "3. Load Standardized Test Questions (Cell 3)\n",
        "Next, we prepare the standardized test questions for evaluation. These can be hard-coded, loaded from a file, or generated. In this notebook, we’ll define a list of questions in a structured format (each with an ID, question text, multiple-choice options, and the correct answer). You can replace these with any set of questions relevant to your use case. For demonstration, we’ll use a few simple sample questions. In a real scenario, you might load dozens of questions from a JSON/CSV file or an existing dataset. Ensure each question has a known correct answer to compute accuracy."
      ],
      "metadata": {
        "id": "qa5t7ftJrBM_"
      }
    },
    {
      "cell_type": "code",
      "source": [
        "# Cell 3: Load extracted exam questions for evaluation\n",
        "\n",
        "import json\n",
        "import os\n",
        "\n",
        "# Define the path to the exported questions file.\n",
        "# Adjust this path if your exported file name or location is different.\n",
        "questions_file = \"data/questions/MIR-2024-v01-t01.json\"\n",
        "\n",
        "if not os.path.exists(questions_file):\n",
        "    raise FileNotFoundError(\n",
        "        f\"Questions file not found at {questions_file}. \"\n",
        "        \"Please run the extraction process to generate the questions file.\"\n",
        "    )\n",
        "\n",
        "with open(questions_file, 'r', encoding='utf-8') as f:\n",
        "    questions = json.load(f)\n",
        "\n",
        "print(f\"Loaded {len(questions)} questions for evaluation.\")\n",
        "\n",
        "# Optionally, preview the first three questions\n",
        "for q in questions[:3]:\n",
        "    print(\"---------------------------------------------------\")\n",
        "    print(f\"ID: {q['id']}\")\n",
        "    print(f\"Question: {q['question_text']}\")\n",
        "    print(\"Options:\")\n",
        "    for key, value in q['options'].items():\n",
        "        print(f\"  {key}: {value}\")\n",
        "    print(\"---------------------------------------------------\")\n"
      ],
      "metadata": {
        "id": "1ljgjq5bpKqd",
        "colab": {
          "base_uri": "https://localhost:8080/"
        },
        "outputId": "83bb77e8-f492-4103-d81e-05b96e229dc9"
      },
      "execution_count": 19,
      "outputs": [
        {
          "output_type": "stream",
          "name": "stdout",
          "text": [
            "Loaded 185 questions for evaluation.\n",
            "---------------------------------------------------\n",
            "ID: MIR-2024-v01-t01-Q026\n",
            "Question: Entre los cambios metabólicos que se observan en un paciente con resistencia a insulina existe:\n",
            "Options:\n",
            "  A: Incremento de la expresión hepática de genes gluconeogénicos mediado por FOXO1 (forkhead box other) fosforilado.\n",
            "  B: Descenso en los niveles intracelulares de hexoquinasa 2 dependiente de insulina.\n",
            "  C: Aumento de la glucogenólisis muscular, contribuyendo al incremento de la glucemia.\n",
            "  D: Aumento en los niveles séricos de aminoácidos como leucina e isoleucina.\n",
            "---------------------------------------------------\n",
            "---------------------------------------------------\n",
            "ID: MIR-2024-v01-t01-Q027\n",
            "Question: La deficiencia de acil-CoA-deshidrogenasa provoca una de las siguientes alteraciones bioquímicas:\n",
            "Options:\n",
            "  A: Disminución de ácidos dicarboxílicos.\n",
            "  B: Aumento de la gluconeogénesis.\n",
            "  C: Disminución de la ureagénesis.\n",
            "  D: Aumento de carnitina libre.\n",
            "---------------------------------------------------\n",
            "---------------------------------------------------\n",
            "ID: MIR-2024-v01-t01-Q028\n",
            "Question: Respecto a la técnica de exploración de la motilidad pupilar y sus reflejos indique la respuesta INCORRECTA:\n",
            "Options:\n",
            "  A: El reflejo de la visión próxima se explora con una linterna que se enfoca sobre las pupilas de forma alternativa.\n",
            "  B: El signo pupilar de Marcus Gunn o defecto pupilar aferente relativo está presente en enfermedades del nervio óptico y enfermedades retinianas no extensas.\n",
            "  C: El reflejo fotomotor consensuado está afectado cuando el daño implica la vía eferente vehiculada por el nervio motor ocular común.\n",
            "  D: La anisocoria que aumenta en condiciones de oscuridad mostrando una pupila más miótica se debe a que hay un trastorno en el sistema simpático.\n",
            "---------------------------------------------------\n"
          ]
        }
      ]
    },
    {
      "cell_type": "markdown",
      "source": [
        "Detailed comments: We defined a list of dictionaries, where each dictionary represents a question. Each question has:\n",
        "id: a unique identifier,\n",
        "question: the text of the question,\n",
        "choices: a list of answer choices (as strings, each prefixed with a letter),\n",
        "answer: the correct choice (here represented by the letter of the correct option).\n",
        "Feel free to extend or replace this list. For example, you could load questions from a file or generate them. Just ensure each question has a known correct answer for scoring."
      ],
      "metadata": {
        "id": "ycbGse8qrO6A"
      }
    },
    {
      "cell_type": "markdown",
      "source": [
        "4. Define Prompt Strategy (Cell 4)\n",
        "The prompt strategy determines how we present each question to the model. For standardized test questions, a common strategy is to provide the question and multiple-choice options and ask the model to pick the best answer. We might instruct the model to output just the option letter (to make it easier to check correctness). In future, you could experiment with different strategies (e.g., asking for an explanation, chain-of-thought prompting, etc.). For now, we’ll use a straightforward prompt: the question, the options, and a final instruction like “Answer with the letter of the correct option.” We implement this as a function format_prompt(question) that takes a question entry and returns the full prompt text (or structured prompt) to send to the model. This function can be easily modified if you want to change how prompts are constructed."
      ],
      "metadata": {
        "id": "oWi8tcY7rVM5"
      }
    },
    {
      "cell_type": "code",
      "source": [
        "# Cell 4: Define the prompt formatting strategy\n",
        "\n",
        "def format_prompt(q):\n",
        "    \"\"\"\n",
        "    Format a question dictionary into a prompt string for the MIR exam in Spanish.\n",
        "\n",
        "    The prompt instructs the model to answer with a single letter (A, B, C, D) if it knows the answer,\n",
        "    or with N if unsure.\n",
        "    \"\"\"\n",
        "    # Get the main question text\n",
        "    question_text = q.get(\"question_text\", \"\")\n",
        "\n",
        "    # Get each answer option from the options dictionary (default to empty string if missing)\n",
        "    options = q.get(\"options\", {})\n",
        "    option_a = options.get(\"A\", \"\")\n",
        "    option_b = options.get(\"B\", \"\")\n",
        "    option_c = options.get(\"C\", \"\")\n",
        "    option_d = options.get(\"D\", \"\")\n",
        "\n",
        "    # Build the prompt using the provided format\n",
        "    prompt = (\n",
        "        \"Eres un Médico que está realizando el examen MIR, un test estandarizado en español que determinará si obtienes tu residencia. \"\n",
        "        \"Responde a la siguiente pregunta exactamente como se indica. Si conoces la respuesta, responde ÚNICAMENTE con una de las letras A, B, C o D. \"\n",
        "        \"Si no estás seguro, responde con N. Cualquier texto adicional invalidará tu respuesta y restará puntos.\\n\\n\"\n",
        "        f\"{question_text}\\n\\n\"\n",
        "        f\"A) {option_a}\\n\"\n",
        "        f\"B) {option_b}\\n\"\n",
        "        f\"C) {option_c}\\n\"\n",
        "        f\"D) {option_d}\\n\\n\"\n",
        "        \"Tu respuesta (ÚNICAMENTE una letra: A, B, C, D o N si no estás seguro):\"\n",
        "    )\n",
        "    return prompt\n",
        "\n",
        "# Test the prompt formatting on the first loaded question\n",
        "example_prompt = format_prompt(questions[0])\n",
        "print(\"Example formatted prompt:\\n\", example_prompt)\n"
      ],
      "metadata": {
        "id": "toS2gKl3pKtv",
        "colab": {
          "base_uri": "https://localhost:8080/"
        },
        "outputId": "9a66155f-ef99-4a6f-a197-80aae4e74881"
      },
      "execution_count": 20,
      "outputs": [
        {
          "output_type": "stream",
          "name": "stdout",
          "text": [
            "Example formatted prompt:\n",
            " Eres un Médico que está realizando el examen MIR, un test estandarizado en español que determinará si obtienes tu residencia. Responde a la siguiente pregunta exactamente como se indica. Si conoces la respuesta, responde ÚNICAMENTE con una de las letras A, B, C o D. Si no estás seguro, responde con N. Cualquier texto adicional invalidará tu respuesta y restará puntos.\n",
            "\n",
            "Entre los cambios metabólicos que se observan en un paciente con resistencia a insulina existe:\n",
            "\n",
            "A) Incremento de la expresión hepática de genes gluconeogénicos mediado por FOXO1 (forkhead box other) fosforilado.\n",
            "B) Descenso en los niveles intracelulares de hexoquinasa 2 dependiente de insulina.\n",
            "C) Aumento de la glucogenólisis muscular, contribuyendo al incremento de la glucemia.\n",
            "D) Aumento en los niveles séricos de aminoácidos como leucina e isoleucina.\n",
            "\n",
            "Tu respuesta (ÚNICAMENTE una letra: A, B, C, D o N si no estás seguro):\n"
          ]
        }
      ]
    },
    {
      "cell_type": "markdown",
      "source": [
        "Detailed comments: The format_prompt function takes a question from our list and builds a prompt. We put the question text, list all the choices (joined in one line for simplicity), and then give an explicit instruction. By asking for the letter only, we aim to have consistent outputs that are easy to check (the model hopefully will just respond with “B”, etc.). After defining the function, we preview an example prompt for the first question to verify the format. You can adjust this format as needed (for instance, if a model tends to do better with a different phrasing or if you want the model to explain its answer, etc.)."
      ],
      "metadata": {
        "id": "5-XAXQV_rgfm"
      }
    },
    {
      "cell_type": "code",
      "source": [
        "# Cell 5: Define function to call a model and get its response (final version for Anthropic)\n",
        "import time\n",
        "import os\n",
        "import openai\n",
        "import anthropic\n",
        "import together\n",
        "from transformers import pipeline, AutoTokenizer\n",
        "\n",
        "def call_model(model_cfg, prompt):\n",
        "    \"\"\"\n",
        "    Call a model with the given prompt and return its response and metadata.\n",
        "    Returns: output_text, tokens_used, latency\n",
        "    \"\"\"\n",
        "    provider = model_cfg.get(\"provider\", \"\").lower()\n",
        "    model_id = model_cfg.get(\"model_id\")\n",
        "    # Use max_tokens from models.yaml (set to 2000) and temperature 0.0\n",
        "    max_tokens = model_cfg.get(\"max_tokens\", 2000)\n",
        "    temperature = model_cfg.get(\"temperature\", 0.0)\n",
        "    tokens_used = None\n",
        "    output_text = \"\"\n",
        "    start_time = time.time()\n",
        "\n",
        "    if provider == \"huggingface\":\n",
        "        tokenizer = AutoTokenizer.from_pretrained(model_id)\n",
        "        if \"google/flan\" in model_id.lower() or \"t5\" in model_id.lower():\n",
        "            pipe = pipeline(\"text2text-generation\", model=model_id, tokenizer=tokenizer)\n",
        "            result = pipe(prompt, max_length=max_tokens, temperature=temperature)\n",
        "            output_text = result[0]['generated_text']\n",
        "        else:\n",
        "            pipe = pipeline(\"text-generation\", model=model_id, tokenizer=tokenizer)\n",
        "            result = pipe(prompt, max_length=max_tokens, temperature=temperature, do_sample=False)\n",
        "            output_text = result[0]['generated_text']\n",
        "        try:\n",
        "            input_tokens = tokenizer(prompt, return_tensors=\"pt\")[\"input_ids\"]\n",
        "            output_tokens = tokenizer(output_text, return_tensors=\"pt\")[\"input_ids\"]\n",
        "            tokens_used = int(len(input_tokens[0]) + len(output_tokens[0]))\n",
        "        except Exception:\n",
        "            tokens_used = None\n",
        "\n",
        "    elif provider == \"openai\":\n",
        "        # OpenAI branch using ChatCompletion (remember to pin openai==0.28 if using o3-mini)\n",
        "        if os.getenv(model_cfg.get(\"api_key_env\", \"OPENAI_API_KEY\")) is None:\n",
        "            raise RuntimeError(f\"OpenAI API key not set for model {model_cfg.get('name', model_id)}\")\n",
        "        try:\n",
        "            if \"o3-mini\" in model_id.lower():\n",
        "                response = openai.ChatCompletion.create(\n",
        "                    model=model_id,\n",
        "                    messages=[{\"role\": \"user\", \"content\": prompt}],\n",
        "                    max_completion_tokens=max_tokens\n",
        "                )\n",
        "            else:\n",
        "                response = openai.ChatCompletion.create(\n",
        "                    model=model_id,\n",
        "                    messages=[{\"role\": \"user\", \"content\": prompt}],\n",
        "                    max_tokens=max_tokens,\n",
        "                    temperature=temperature\n",
        "                )\n",
        "            output_text = response['choices'][0]['message']['content'].strip()\n",
        "            if 'usage' in response:\n",
        "                tokens_used = response['usage'].get('total_tokens')\n",
        "        except Exception as e:\n",
        "            raise RuntimeError(f\"Error calling OpenAI model: {e}\")\n",
        "\n",
        "    elif provider == \"anthropic\":\n",
        "        # Anthropic branch using the Messages API with proper parameters\n",
        "        if os.getenv(model_cfg.get(\"api_key_env\", \"ANTHROPIC_API_KEY\")) is None:\n",
        "            raise RuntimeError(f\"Anthropic API key not set for model {model_cfg.get('name', model_id)}\")\n",
        "        try:\n",
        "            anthropic_client = anthropic.Client(api_key=os.getenv(model_cfg.get(\"api_key_env\", \"ANTHROPIC_API_KEY\")))\n",
        "            response = anthropic_client.messages.create(\n",
        "                model=model_id,\n",
        "                messages=[{\"role\": \"user\", \"content\": prompt}],\n",
        "                max_tokens=max_tokens,\n",
        "                temperature=temperature,\n",
        "                stream=False\n",
        "            )\n",
        "            # Extract output_text from response:\n",
        "            if isinstance(response, dict):\n",
        "                output_text = response.get(\"completion\", \"\").strip()\n",
        "            else:\n",
        "                try:\n",
        "                    output_text = response.completion.strip()\n",
        "                except AttributeError:\n",
        "                    output_text = str(response).strip()\n",
        "        except Exception as e:\n",
        "            raise RuntimeError(f\"Error calling Anthropic model: {e}\")\n",
        "        tokens_used = None\n",
        "\n",
        "    elif provider == \"together\":\n",
        "        # Together branch using their chat completions API\n",
        "        if os.getenv(model_cfg.get(\"api_key_env\", \"TOGETHER_API_KEY\")) is None:\n",
        "            raise RuntimeError(f\"Together API key not set for model {model_cfg.get('name', model_id)}\")\n",
        "        try:\n",
        "            together_client = together.Together(api_key=os.getenv(model_cfg.get(\"api_key_env\", \"TOGETHER_API_KEY\")))\n",
        "            response = together_client.chat.completions.create(\n",
        "                model=model_id,\n",
        "                messages=[{\"role\": \"user\", \"content\": prompt}],\n",
        "                max_tokens=max_tokens,\n",
        "                temperature=temperature,\n",
        "                stream=False\n",
        "            )\n",
        "            try:\n",
        "                output_text = response.choices[0].message.content.strip()\n",
        "            except Exception:\n",
        "                output_text = response['choices'][0]['message']['content'].strip() if isinstance(response, dict) else str(response)\n",
        "        except Exception as e:\n",
        "            raise RuntimeError(f\"Error calling Together model: {e}\")\n",
        "        tokens_used = None\n",
        "\n",
        "    else:\n",
        "        raise ValueError(f\"Unknown provider: {provider} for model {model_cfg.get('name', model_id)}\")\n",
        "\n",
        "    latency = time.time() - start_time\n",
        "    return output_text, tokens_used, latency\n"
      ],
      "metadata": {
        "id": "59_SJq6jrgDH"
      },
      "execution_count": 21,
      "outputs": []
    },
    {
      "cell_type": "markdown",
      "source": [
        "5. Model Interface and Evaluation Functions (Cells 5–6)\n",
        "In this section, we set up functions to handle model inference and evaluation:\n",
        "call_model(model_config, prompt_text) – Invokes a single model (based on its provider and config) with the given prompt, and returns the model’s answer, along with metadata like token usage and latency.\n",
        "evaluate_model(model_config, questions) – Uses call_model to get answers for each question from one model, checks correctness, and collects detailed results.\n",
        "We will also prepare a loop or another function to evaluate all models and aggregate the results for comparison.\n",
        "Structuring this logic into functions makes the notebook modular and easier to update. For example, if in the future we want to add a step for chain-of-thought (CoT) prompting or filter the model output for hallucinations, we could modify or wrap call_model accordingly. 5.1 call_model Implementation: This function will branch based on the provider:\n",
        "HuggingFace: use transformers pipeline or model generate. We’ll initialize a pipeline for text generation or use the model’s generate method. We also tokenize the input to count input tokens. The output tokens can be counted by the tokenizer as well.\n",
        "OpenAI: use openai.Completion or openai.ChatCompletion depending on model type. For chat models (e.g., GPT-4), we pass the prompt as a user message. We retrieve the output text and usage info (token counts).\n",
        "Anthropic: (Claude models) use anthropic’s client. Typically you provide a prompt with a special format (like \"\\n\\nHuman: <question>\\n\\nAssistant:\"). We skip detailed implementation here but it can be added.\n",
        "Together: use Together API client. For example, together_client.complete or the chat completion as needed, based on their documentation. (Ensure TOGETHER_API_KEY is set.)\n",
        "Additional providers (e.g., Cohere, AI21) can be integrated similarly by adding new branches.\n",
        "We also measure the time taken for each call (latency). If token counts are not readily available from the API, we will set them to None (or you could estimate via a tokenizer). Let’s implement call_model below:"
      ],
      "metadata": {
        "id": "626XG9mwrmbG"
      }
    },
    {
      "cell_type": "markdown",
      "source": [
        "Detailed comments: In call_model:\n",
        "We take the model’s config and a prompt string.\n",
        "Based on provider, we handle the call differently.\n",
        "HuggingFace: We load the model and tokenizer (from local or HuggingFace Hub). We use pipeline for simplicity (it will handle the model loading and generation). We choose the pipeline task based on model type (a quick check for “t5” in the model name to decide between text2text-generation and text-generation). After generation, we count tokens by encoding the prompt and output with the tokenizer.\n",
        "OpenAI: We use the OpenAI API. If the model is chat-based (we guess by name containing “gpt-3.5” or “gpt-4”), we use the ChatCompletion endpoint with a single user message. Otherwise, we use the older Completion endpoint. We fetch the text from the response and also get token usage if provided. (Make sure your OpenAI API key is set in the environment.)\n",
        "Anthropic: We format the prompt in the required way for Claude and call the client’s completion method. (This assumes the anthropic package is installed and imported.) Token count isn’t directly captured here.\n",
        "Together: We initialize the Together client and call the chat.completions.create method with the prompt as a user message. (This assumes the model supports chat format; for pure text-generation models on Together, you might use a different method like client.completion.create.) We extract the content from the response. (Token usage may be available via Together’s response, but for simplicity, we set it to None in this example.)\n",
        "We measure the time just before and after the call to compute latency.\n",
        "Finally, we return output_text (the model’s answer), tokens_used, and latency.\n",
        "This function abstracts away the differences in model access, giving us a unified interface for the evaluation loop.\n",
        "\n",
        "5.2 evaluate_model Implementation: This function will loop through all questions for a single model, use call_model to get the answer, check correctness, and record results. It will return a list of result records (one per question for that model) and also compute summary metrics (like number correct). We’ll implement evaluate_model next:"
      ],
      "metadata": {
        "id": "lzix9vk7rwpC"
      }
    },
    {
      "cell_type": "code",
      "source": [
        "#  6\n",
        "import json\n",
        "import os\n",
        "\n",
        "# Define file paths\n",
        "original_questions_file = 'data/questions/MIR-2024-v01-t01.json'\n",
        "answer_key_file = 'data/answers/MIR-2024-v01-t01-answers.json'\n",
        "filtered_questions_file = 'data/questions/MIR-2024-v01-t01_filtered.json'\n",
        "\n",
        "# Check if files exist before proceeding\n",
        "if not os.path.exists(original_questions_file):\n",
        "     raise FileNotFoundError(f\"Original questions file not found: {original_questions_file}\")\n",
        "if not os.path.exists(answer_key_file):\n",
        "     raise FileNotFoundError(f\"Answer key file not found: {answer_key_file}\")\n",
        "\n",
        "# Load answer key (assumed to be a dictionary with question IDs as keys)\n",
        "with open(answer_key_file, 'r', encoding='utf-8') as f:\n",
        "     answer_key = json.load(f)\n",
        "\n",
        "# Load original questions (assumed to be a list)\n",
        "with open(original_questions_file, 'r', encoding='utf-8') as f:\n",
        "     questions = json.load(f)\n",
        "\n",
        "# Filter out questions that are not in the answer key or whose answer is empty\n",
        "filtered_questions = [\n",
        "     q for q in questions\n",
        "     if q.get('id') in answer_key and answer_key[q.get('id')].strip() != \"\"\n",
        "]\n",
        "\n",
        "# Ensure the directory exists\n",
        "os.makedirs(os.path.dirname(filtered_questions_file), exist_ok=True)\n",
        "\n",
        "# Save filtered questions to a new file\n",
        "with open(filtered_questions_file, 'w', encoding='utf-8') as f:\n",
        "     json.dump(filtered_questions, f, indent=2)\n",
        "\n",
        "print(f\"Filtered questions saved to {filtered_questions_file} with {len(filtered_questions)} questions out of {len(questions)} original questions.\")"
      ],
      "metadata": {
        "colab": {
          "base_uri": "https://localhost:8080/"
        },
        "id": "rkL2jAQjrdH9",
        "outputId": "e8076520-a825-49b0-b0c9-70821eff7a36"
      },
      "execution_count": 22,
      "outputs": [
        {
          "output_type": "stream",
          "name": "stdout",
          "text": [
            "Filtered questions saved to data/questions/MIR-2024-v01-t01_filtered.json with 180 questions out of 185 original questions.\n"
          ]
        }
      ]
    },
    {
      "cell_type": "code",
      "source": [
        "# Cell 6.1: Patch OpenAI to support legacy calls in evaluator.py and reload evaluator module\n",
        "\n",
        "!pip install openai==0.28\n",
        "\n",
        "import openai\n",
        "\n",
        "# Define a wrapper class so that openai.chat.completions.create(...) works.\n",
        "class ChatCompletionsWrapper:\n",
        "    @staticmethod\n",
        "    def create(*args, **kwargs):\n",
        "        return openai.ChatCompletion.create(*args, **kwargs)\n",
        "\n",
        "class OpenAIChatWrapper:\n",
        "    completions = ChatCompletionsWrapper\n",
        "\n",
        "# Assign our wrapper to openai.chat\n",
        "openai.chat = OpenAIChatWrapper\n",
        "\n",
        "# Verify the patch:\n",
        "print(\"openai.chat.completions.create:\", openai.chat.completions.create)\n",
        "\n",
        "# Reload evaluator so that it picks up our patched openai\n",
        "import importlib\n",
        "import src.evaluator as evaluator_module\n",
        "importlib.reload(evaluator_module)\n",
        "from src.evaluator import ModelEvaluator\n",
        "\n",
        "print(\"OpenAI version:\", openai.__version__)\n"
      ],
      "metadata": {
        "id": "C3Uqr1dYpKxt",
        "colab": {
          "base_uri": "https://localhost:8080/"
        },
        "outputId": "9a45ef85-258b-4f14-902c-a2525f700ffe"
      },
      "execution_count": 23,
      "outputs": [
        {
          "output_type": "stream",
          "name": "stdout",
          "text": [
            "Requirement already satisfied: openai==0.28 in /usr/local/lib/python3.11/dist-packages (0.28.0)\n",
            "Requirement already satisfied: requests>=2.20 in /usr/local/lib/python3.11/dist-packages (from openai==0.28) (2.32.3)\n",
            "Requirement already satisfied: tqdm in /usr/local/lib/python3.11/dist-packages (from openai==0.28) (4.67.1)\n",
            "Requirement already satisfied: aiohttp in /usr/local/lib/python3.11/dist-packages (from openai==0.28) (3.11.14)\n",
            "Requirement already satisfied: charset-normalizer<4,>=2 in /usr/local/lib/python3.11/dist-packages (from requests>=2.20->openai==0.28) (3.4.1)\n",
            "Requirement already satisfied: idna<4,>=2.5 in /usr/local/lib/python3.11/dist-packages (from requests>=2.20->openai==0.28) (3.10)\n",
            "Requirement already satisfied: urllib3<3,>=1.21.1 in /usr/local/lib/python3.11/dist-packages (from requests>=2.20->openai==0.28) (2.3.0)\n",
            "Requirement already satisfied: certifi>=2017.4.17 in /usr/local/lib/python3.11/dist-packages (from requests>=2.20->openai==0.28) (2025.1.31)\n",
            "Requirement already satisfied: aiohappyeyeballs>=2.3.0 in /usr/local/lib/python3.11/dist-packages (from aiohttp->openai==0.28) (2.6.1)\n",
            "Requirement already satisfied: aiosignal>=1.1.2 in /usr/local/lib/python3.11/dist-packages (from aiohttp->openai==0.28) (1.3.2)\n",
            "Requirement already satisfied: attrs>=17.3.0 in /usr/local/lib/python3.11/dist-packages (from aiohttp->openai==0.28) (25.3.0)\n",
            "Requirement already satisfied: frozenlist>=1.1.1 in /usr/local/lib/python3.11/dist-packages (from aiohttp->openai==0.28) (1.5.0)\n",
            "Requirement already satisfied: multidict<7.0,>=4.5 in /usr/local/lib/python3.11/dist-packages (from aiohttp->openai==0.28) (6.2.0)\n",
            "Requirement already satisfied: propcache>=0.2.0 in /usr/local/lib/python3.11/dist-packages (from aiohttp->openai==0.28) (0.3.1)\n",
            "Requirement already satisfied: yarl<2.0,>=1.17.0 in /usr/local/lib/python3.11/dist-packages (from aiohttp->openai==0.28) (1.18.3)\n",
            "openai.chat.completions.create: <function ChatCompletionsWrapper.create at 0x7824855c0400>\n",
            "OpenAI version: 0.28.0\n"
          ]
        }
      ]
    },
    {
      "cell_type": "code",
      "source": [
        "#6.2\n",
        "import re\n",
        "import json\n",
        "import os\n",
        "from src.evaluator import ModelEvaluator\n",
        "\n",
        "def extract_answer_letter(output):\n",
        "    \"\"\"\n",
        "    Extracts the first valid answer letter (A, B, C, D, or N) from the model output.\n",
        "    \"\"\"\n",
        "    match = re.search(r'\\b([ABCDN])\\b', output.upper())\n",
        "    return match.group(1) if match else None\n",
        "\n",
        "# Parameters for test evaluation\n",
        "models_to_test = [\n",
        "    'o3-mini-2025-01-31',\n",
        "    'deepseek-ai/DeepSeek-V3',\n",
        "    'claude-3-7-sonnet-20250219',\n",
        "   # 'deepseek-ai/DeepSeek-R1',\n",
        "    'Google-Gemini-gemini-1.5-pro',\n",
        "    'meta-llama/Meta-Llama-3.1-405B-Instruct-Turbo',\n",
        "    'meta-llama/Llama-3.3-70B-Instruct-Turbo',\n",
        "   # 'mistralai/Mistral-7B-Instruct-v0.2',\n",
        "    'mistralai/Mixtral-8x22B-Instruct-v0.1',\n",
        "    'Qwen/Qwen2-VL-72B-Instruct',\n",
        "    'grok-2-latest'\n",
        "     ]\n",
        "prompt_strategy = \"Prompt-001\"\n",
        "sample_size = 10  # Evaluate 5 questions per model\n",
        "\n",
        "filtered_questions_file = 'data/questions/MIR-2024-v01-t01_filtered.json'\n",
        "answer_key_file = 'data/answers/MIR-2024-v01-t01-answers.json'\n",
        "\n",
        "# Define a separate folder for test evaluation results\n",
        "test_results_folder = \"data/test_results\"\n",
        "os.makedirs(test_results_folder, exist_ok=True)\n",
        "\n",
        "# Initialize the evaluator\n",
        "evaluator = ModelEvaluator()\n",
        "\n",
        "results_summary = {}\n",
        "\n",
        "print(\"\\n--- RUNNING SAMPLE TEST EVALUATION (Results saved in a separate folder) ---\")\n",
        "for model in models_to_test:\n",
        "    print(f\"\\nEvaluating Model: {model} using Prompt Strategy: {prompt_strategy}\")\n",
        "    try:\n",
        "        # Run evaluation; if evaluator.run_evaluation supports an output_folder parameter, use it.\n",
        "        # Otherwise, move the result file to the test folder after creation.\n",
        "        result_file = evaluator.run_evaluation(\n",
        "            questions_file=filtered_questions_file,\n",
        "            answer_key_file=answer_key_file,\n",
        "            prompt_strategy=prompt_strategy,\n",
        "            model=model,\n",
        "            sample_size=sample_size\n",
        "            # , output_folder=test_results_folder  # Uncomment if supported by your evaluator\n",
        "        )\n",
        "        # If output_folder parameter is not supported, move the file manually:\n",
        "        new_result_file = os.path.join(test_results_folder, os.path.basename(result_file))\n",
        "        os.rename(result_file, new_result_file)\n",
        "        result_file = new_result_file\n",
        "\n",
        "        print(f\"✓ Sample evaluation complete for {model}. Results saved to: {result_file}\")\n",
        "\n",
        "        with open(result_file, 'r') as f:\n",
        "            results = json.load(f)\n",
        "\n",
        "        details = results.get(\"details\", [])\n",
        "        if details:\n",
        "            print(\"\\n--- DETAILS FOR EACH QUESTION ---\")\n",
        "            for entry in details:\n",
        "                question_id = entry.get(\"question_id\", \"N/A\")\n",
        "                question_prompt = entry.get(\"prompt\", \"No prompt available\")\n",
        "                raw_output = entry.get(\"model_output\", \"No output\")\n",
        "                extracted = extract_answer_letter(raw_output)\n",
        "                entry[\"extracted_answer\"] = extracted\n",
        "                print(f\"Question ID: {question_id}\")\n",
        "                print(\"Prompt:\")\n",
        "                print(question_prompt)\n",
        "                print(\"Raw Output:\")\n",
        "                print(raw_output)\n",
        "                print(\"Extracted Answer:\", extracted)\n",
        "                print(\"-\" * 40)\n",
        "        else:\n",
        "            print(\"\\nNo per-question details found in the evaluation results.\")\n",
        "\n",
        "        summary = results.get(\"summary\", {})\n",
        "        results_summary[model] = summary\n",
        "\n",
        "        print(\"\\n--- SAMPLE EVALUATION SUMMARY ---\")\n",
        "        print(f\"Model: {summary.get('model', 'N/A')}\")\n",
        "        print(f\"Prompt Strategy: {summary.get('prompt_strategy', 'N/A')}\")\n",
        "        print(f\"Total Questions: {summary.get('total_questions', 'N/A')}\")\n",
        "        print(f\"Correct Answers: {summary.get('correct_count', 'N/A')} ({summary.get('accuracy', 0)*100:.2f}%)\")\n",
        "        print(f\"Incorrect Answers: {summary.get('incorrect_count', 'N/A')}\")\n",
        "        print(f\"Skipped Questions: {summary.get('skipped_count', 'N/A')}\")\n",
        "        print(f\"Invalid Count: {summary.get('invalid_count', 'N/A')}\")\n",
        "        print(f\"Total Score: {summary.get('total_score', 'N/A')}\")\n",
        "    except Exception as e:\n",
        "        print(f\"✗ Error during sample evaluation for {model}: {e}\")\n",
        "\n",
        "print(\"\\nIf the sample evaluation looks good, proceed to full evaluation in the next cell.\")\n"
      ],
      "metadata": {
        "colab": {
          "base_uri": "https://localhost:8080/",
          "height": 1000
        },
        "id": "Jg_k5kIJ3RKJ",
        "outputId": "4fc2e7b1-77d6-4490-d64f-4ec80252ec8a"
      },
      "execution_count": 24,
      "outputs": [
        {
          "output_type": "stream",
          "name": "stdout",
          "text": [
            "\n",
            "--- RUNNING SAMPLE TEST EVALUATION (Results saved in a separate folder) ---\n",
            "\n",
            "Evaluating Model: o3-mini-2025-01-31 using Prompt Strategy: Prompt-001\n"
          ]
        },
        {
          "output_type": "stream",
          "name": "stderr",
          "text": [
            "Evaluating questions: 100%|██████████| 10/10 [01:02<00:00,  6.30s/it]\n"
          ]
        },
        {
          "output_type": "stream",
          "name": "stdout",
          "text": [
            "✓ Sample evaluation complete for o3-mini-2025-01-31. Results saved to: data/test_results/EVAL-MIR-2024-v01-t01_filtered-Prompt-001-o3-mini-2025-01-31-20250403-150253.json\n",
            "\n",
            "No per-question details found in the evaluation results.\n",
            "\n",
            "--- SAMPLE EVALUATION SUMMARY ---\n",
            "Model: o3-mini-2025-01-31\n",
            "Prompt Strategy: Prompt-001\n",
            "Total Questions: 10\n",
            "Correct Answers: 10 (100.00%)\n",
            "Incorrect Answers: 0\n",
            "Skipped Questions: 0\n",
            "Invalid Count: 0\n",
            "Total Score: 30\n",
            "\n",
            "Evaluating Model: deepseek-ai/DeepSeek-V3 using Prompt Strategy: Prompt-001\n"
          ]
        },
        {
          "output_type": "stream",
          "name": "stderr",
          "text": [
            "Evaluating questions: 100%|██████████| 10/10 [00:31<00:00,  3.12s/it]\n"
          ]
        },
        {
          "output_type": "stream",
          "name": "stdout",
          "text": [
            "✓ Sample evaluation complete for deepseek-ai/DeepSeek-V3. Results saved to: data/test_results/EVAL-MIR-2024-v01-t01_filtered-Prompt-001-deepseek-ai-DeepSeek-V3-20250403-150324.json\n",
            "\n",
            "No per-question details found in the evaluation results.\n",
            "\n",
            "--- SAMPLE EVALUATION SUMMARY ---\n",
            "Model: deepseek-ai/DeepSeek-V3\n",
            "Prompt Strategy: Prompt-001\n",
            "Total Questions: 10\n",
            "Correct Answers: 7 (70.00%)\n",
            "Incorrect Answers: 3\n",
            "Skipped Questions: 0\n",
            "Invalid Count: 0\n",
            "Total Score: 18\n",
            "\n",
            "Evaluating Model: claude-3-7-sonnet-20250219 using Prompt Strategy: Prompt-001\n"
          ]
        },
        {
          "output_type": "stream",
          "name": "stderr",
          "text": [
            "Evaluating questions: 100%|██████████| 10/10 [00:30<00:00,  3.08s/it]\n"
          ]
        },
        {
          "output_type": "stream",
          "name": "stdout",
          "text": [
            "✓ Sample evaluation complete for claude-3-7-sonnet-20250219. Results saved to: data/test_results/EVAL-MIR-2024-v01-t01_filtered-Prompt-001-claude-3-7-sonnet-20250219-20250403-150355.json\n",
            "\n",
            "No per-question details found in the evaluation results.\n",
            "\n",
            "--- SAMPLE EVALUATION SUMMARY ---\n",
            "Model: claude-3-7-sonnet-20250219\n",
            "Prompt Strategy: Prompt-001\n",
            "Total Questions: 10\n",
            "Correct Answers: 8 (80.00%)\n",
            "Incorrect Answers: 2\n",
            "Skipped Questions: 0\n",
            "Invalid Count: 0\n",
            "Total Score: 22\n",
            "\n",
            "Evaluating Model: Google-Gemini-gemini-1.5-pro using Prompt Strategy: Prompt-001\n"
          ]
        },
        {
          "output_type": "stream",
          "name": "stderr",
          "text": [
            "Evaluating questions: 100%|██████████| 10/10 [00:29<00:00,  2.96s/it]\n"
          ]
        },
        {
          "output_type": "stream",
          "name": "stdout",
          "text": [
            "✓ Sample evaluation complete for Google-Gemini-gemini-1.5-pro. Results saved to: data/test_results/EVAL-MIR-2024-v01-t01_filtered-Prompt-001-Google-Gemini-gemini-1.5-pro-20250403-150424.json\n",
            "\n",
            "No per-question details found in the evaluation results.\n",
            "\n",
            "--- SAMPLE EVALUATION SUMMARY ---\n",
            "Model: Google-Gemini-gemini-1.5-pro\n",
            "Prompt Strategy: Prompt-001\n",
            "Total Questions: 10\n",
            "Correct Answers: 6 (60.00%)\n",
            "Incorrect Answers: 4\n",
            "Skipped Questions: 0\n",
            "Invalid Count: 0\n",
            "Total Score: 14\n",
            "\n",
            "Evaluating Model: meta-llama/Meta-Llama-3.1-405B-Instruct-Turbo using Prompt Strategy: Prompt-001\n"
          ]
        },
        {
          "output_type": "stream",
          "name": "stderr",
          "text": [
            "Evaluating questions: 100%|██████████| 10/10 [00:26<00:00,  2.66s/it]\n"
          ]
        },
        {
          "output_type": "stream",
          "name": "stdout",
          "text": [
            "✓ Sample evaluation complete for meta-llama/Meta-Llama-3.1-405B-Instruct-Turbo. Results saved to: data/test_results/EVAL-MIR-2024-v01-t01_filtered-Prompt-001-meta-llama-Meta-Llama-3.1-405B-Instruct-Turbo-20250403-150451.json\n",
            "\n",
            "No per-question details found in the evaluation results.\n",
            "\n",
            "--- SAMPLE EVALUATION SUMMARY ---\n",
            "Model: meta-llama/Meta-Llama-3.1-405B-Instruct-Turbo\n",
            "Prompt Strategy: Prompt-001\n",
            "Total Questions: 10\n",
            "Correct Answers: 8 (80.00%)\n",
            "Incorrect Answers: 2\n",
            "Skipped Questions: 0\n",
            "Invalid Count: 0\n",
            "Total Score: 22\n",
            "\n",
            "Evaluating Model: meta-llama/Llama-3.3-70B-Instruct-Turbo using Prompt Strategy: Prompt-001\n"
          ]
        },
        {
          "output_type": "stream",
          "name": "stderr",
          "text": [
            "Evaluating questions: 100%|██████████| 10/10 [00:27<00:00,  2.78s/it]\n"
          ]
        },
        {
          "output_type": "stream",
          "name": "stdout",
          "text": [
            "✓ Sample evaluation complete for meta-llama/Llama-3.3-70B-Instruct-Turbo. Results saved to: data/test_results/EVAL-MIR-2024-v01-t01_filtered-Prompt-001-meta-llama-Llama-3.3-70B-Instruct-Turbo-20250403-150519.json\n",
            "\n",
            "No per-question details found in the evaluation results.\n",
            "\n",
            "--- SAMPLE EVALUATION SUMMARY ---\n",
            "Model: meta-llama/Llama-3.3-70B-Instruct-Turbo\n",
            "Prompt Strategy: Prompt-001\n",
            "Total Questions: 10\n",
            "Correct Answers: 7 (70.00%)\n",
            "Incorrect Answers: 3\n",
            "Skipped Questions: 0\n",
            "Invalid Count: 0\n",
            "Total Score: 18\n",
            "\n",
            "Evaluating Model: mistralai/Mixtral-8x22B-Instruct-v0.1 using Prompt Strategy: Prompt-001\n"
          ]
        },
        {
          "output_type": "stream",
          "name": "stderr",
          "text": [
            "Evaluating questions: 100%|██████████| 10/10 [00:24<00:00,  2.40s/it]\n"
          ]
        },
        {
          "output_type": "stream",
          "name": "stdout",
          "text": [
            "✓ Sample evaluation complete for mistralai/Mixtral-8x22B-Instruct-v0.1. Results saved to: data/test_results/EVAL-MIR-2024-v01-t01_filtered-Prompt-001-mistralai-Mixtral-8x22B-Instruct-v0.1-20250403-150543.json\n",
            "\n",
            "No per-question details found in the evaluation results.\n",
            "\n",
            "--- SAMPLE EVALUATION SUMMARY ---\n",
            "Model: mistralai/Mixtral-8x22B-Instruct-v0.1\n",
            "Prompt Strategy: Prompt-001\n",
            "Total Questions: 10\n",
            "Correct Answers: 7 (70.00%)\n",
            "Incorrect Answers: 3\n",
            "Skipped Questions: 0\n",
            "Invalid Count: 0\n",
            "Total Score: 18\n",
            "\n",
            "Evaluating Model: Qwen/Qwen2-VL-72B-Instruct using Prompt Strategy: Prompt-001\n"
          ]
        },
        {
          "output_type": "stream",
          "name": "stderr",
          "text": [
            "Evaluating questions: 100%|██████████| 10/10 [00:27<00:00,  2.75s/it]\n"
          ]
        },
        {
          "output_type": "stream",
          "name": "stdout",
          "text": [
            "✓ Sample evaluation complete for Qwen/Qwen2-VL-72B-Instruct. Results saved to: data/test_results/EVAL-MIR-2024-v01-t01_filtered-Prompt-001-Qwen-Qwen2-VL-72B-Instruct-20250403-150610.json\n",
            "\n",
            "No per-question details found in the evaluation results.\n",
            "\n",
            "--- SAMPLE EVALUATION SUMMARY ---\n",
            "Model: Qwen/Qwen2-VL-72B-Instruct\n",
            "Prompt Strategy: Prompt-001\n",
            "Total Questions: 10\n",
            "Correct Answers: 9 (90.00%)\n",
            "Incorrect Answers: 1\n",
            "Skipped Questions: 0\n",
            "Invalid Count: 0\n",
            "Total Score: 26\n",
            "\n",
            "Evaluating Model: grok-2-latest using Prompt Strategy: Prompt-001\n"
          ]
        },
        {
          "output_type": "stream",
          "name": "stderr",
          "text": [
            "Evaluating questions: 100%|██████████| 10/10 [00:23<00:00,  2.33s/it]"
          ]
        },
        {
          "output_type": "stream",
          "name": "stdout",
          "text": [
            "✓ Sample evaluation complete for grok-2-latest. Results saved to: data/test_results/EVAL-MIR-2024-v01-t01_filtered-Prompt-001-grok-2-latest-20250403-150634.json\n",
            "\n",
            "No per-question details found in the evaluation results.\n",
            "\n",
            "--- SAMPLE EVALUATION SUMMARY ---\n",
            "Model: grok-2-latest\n",
            "Prompt Strategy: Prompt-001\n",
            "Total Questions: 10\n",
            "Correct Answers: 8 (80.00%)\n",
            "Incorrect Answers: 2\n",
            "Skipped Questions: 0\n",
            "Invalid Count: 0\n",
            "Total Score: 22\n",
            "\n",
            "If the sample evaluation looks good, proceed to full evaluation in the next cell.\n"
          ]
        },
        {
          "output_type": "stream",
          "name": "stderr",
          "text": [
            "\n"
          ]
        }
      ]
    },
    {
      "cell_type": "markdown",
      "source": [
        "Detailed comments: In evaluate_model:\n",
        "We iterate over each question, format the prompt, and call the model via call_model.\n",
        "We wrap the model call in a try-except to catch any errors (for instance, if an API call fails or a model isn’t available). If there’s an error, we log it and move on, leaving output empty for that question.\n",
        "We then parse the model’s output to extract the answer. We assume the model should reply with a letter. The code checks the first character of the output: if it’s one of “A, B, C, D”, we treat that as the chosen option. (If the output is something else, you could include additional parsing logic – for example, sometimes the model might output the full option text or a sentence. Here, we simplify by taking the first letter when possible. If the output is empty or doesn’t start with a letter, we mark the answer as incorrect by default.)\n",
        "We compare the model’s answer letter (uppercased) to the true answer letter from the question. If they match, it’s correct and we increment correct_count.\n",
        "We append a dictionary to results containing all relevant info: question ID, model name, the exact prompt used, the model’s raw output, a boolean for correctness, latency (in seconds), and tokens used.\n",
        "We also print a one-line progress update for each question, indicating what the model answered and whether it was correct. This helps to monitor the evaluation as it happens, especially if many questions are being tested.\n",
        "Finally, the function returns the list of results and the count of correct answers.\n",
        "With these functions in place, we can now evaluate all models and compile the metrics.\n",
        "6. Run Evaluation for All Models (Cell 7)\n",
        "Now we’ll loop through each model in our models_config, evaluate it on all questions using evaluate_model, and collect the outcomes. We will calculate summary metrics for each model:\n",
        "Accuracy (% correct)\n",
        "Total score (number of correct answers out of total questions)\n",
        "Total tokens used (if available; this could be sum of tokens across all questions for that model)\n",
        "Average response time per question (latency)\n",
        "We’ll store summary results in a list of dictionaries (which we can later convert to a DataFrame for display or CSV export). We’ll also accumulate all per-question results into a single list for detailed logging."
      ],
      "metadata": {
        "id": "v-QBGGZIr927"
      }
    },
    {
      "cell_type": "code",
      "source": [
        "#7 FULL EVALUATION\n",
        "\n",
        "import re\n",
        "import json\n",
        "from src.evaluator import ModelEvaluator\n",
        "\n",
        "def extract_answer_letter(output):\n",
        "    match = re.search(r'\\b([ABCDN])\\b', output.upper())\n",
        "    return match.group(1) if match else None\n",
        "\n",
        "# Parameters for full evaluation (you might want to increase sample_size or use all questions)\n",
        "models_to_evaluate = [\n",
        "    'o3-mini-2025-01-31',\n",
        "    'deepseek-ai/DeepSeek-V3',\n",
        "    'claude-3-7-sonnet-20250219',\n",
        "   # 'deepseek-ai/DeepSeek-R1',\n",
        "    'Google-Gemini-gemini-1.5-pro',\n",
        "    'meta-llama/Meta-Llama-3.1-405B-Instruct-Turbo',\n",
        "    'meta-llama/Llama-3.3-70B-Instruct-Turbo',\n",
        "  #  'mistralai/Mistral-7B-Instruct-v0.2',\n",
        "    'mistralai/Mixtral-8x22B-Instruct-v0.1',\n",
        "    'Qwen/Qwen2-VL-72B-Instruct',\n",
        "    'grok-2-latest'\n",
        "]\n",
        "prompt_strategy = \"Prompt-001\"\n",
        "# For full evaluation, you might set sample_size to None or the full count.\n",
        "sample_size = None\n",
        "\n",
        "filtered_questions_file = 'data/questions/MIR-2024-v01-t01_filtered.json'\n",
        "answer_key_file = 'data/answers/MIR-2024-v01-t01-answers.json'\n",
        "\n",
        "# Initialize the evaluator\n",
        "evaluator = ModelEvaluator()\n",
        "\n",
        "print(\"\\n--- RUNNING FULL EVALUATION ---\")\n",
        "for model in models_to_evaluate:\n",
        "    try:\n",
        "        result_file = evaluator.run_evaluation(\n",
        "            questions_file=filtered_questions_file,\n",
        "            answer_key_file=answer_key_file,\n",
        "            prompt_strategy=prompt_strategy,\n",
        "            model=model,\n",
        "            sample_size=sample_size  # Full evaluation: use all questions\n",
        "        )\n",
        "        print(f\"✓ Full evaluation complete for {model}. Results saved to: {result_file}\")\n",
        "        # The full evaluation results will later be merged and exported to CSV.\n",
        "    except Exception as e:\n",
        "        print(f\"✗ Error during full evaluation for {model}: {e}\")\n",
        "\n",
        "print(\"\\nProceed to the cell that merges and exports full evaluation results.\")\n"
      ],
      "metadata": {
        "id": "k0Pbpuf6r9dF",
        "colab": {
          "base_uri": "https://localhost:8080/"
        },
        "outputId": "478d9b3e-42c6-49cc-9f45-b29e1d90f834"
      },
      "execution_count": 25,
      "outputs": [
        {
          "metadata": {
            "tags": null
          },
          "name": "stdout",
          "output_type": "stream",
          "text": [
            "\n",
            "--- RUNNING FULL EVALUATION ---\n"
          ]
        },
        {
          "metadata": {
            "tags": null
          },
          "name": "stderr",
          "output_type": "stream",
          "text": [
            "Evaluating questions: 100%|██████████| 180/180 [21:12<00:00,  7.07s/it]\n"
          ]
        },
        {
          "metadata": {
            "tags": null
          },
          "name": "stdout",
          "output_type": "stream",
          "text": [
            "✓ Full evaluation complete for o3-mini-2025-01-31. Results saved to: data/results/EVAL-MIR-2024-v01-t01_filtered-Prompt-001-o3-mini-2025-01-31-20250403-152746.json\n"
          ]
        },
        {
          "metadata": {
            "tags": null
          },
          "name": "stderr",
          "output_type": "stream",
          "text": [
            "Evaluating questions: 100%|██████████| 180/180 [09:16<00:00,  3.09s/it]\n"
          ]
        },
        {
          "metadata": {
            "tags": null
          },
          "name": "stdout",
          "output_type": "stream",
          "text": [
            "✓ Full evaluation complete for deepseek-ai/DeepSeek-V3. Results saved to: data/results/EVAL-MIR-2024-v01-t01_filtered-Prompt-001-deepseek-ai-DeepSeek-V3-20250403-153702.json\n"
          ]
        },
        {
          "metadata": {
            "tags": null
          },
          "name": "stderr",
          "output_type": "stream",
          "text": [
            "Evaluating questions: 100%|██████████| 180/180 [08:57<00:00,  2.99s/it]\n"
          ]
        },
        {
          "metadata": {
            "tags": null
          },
          "name": "stdout",
          "output_type": "stream",
          "text": [
            "✓ Full evaluation complete for claude-3-7-sonnet-20250219. Results saved to: data/results/EVAL-MIR-2024-v01-t01_filtered-Prompt-001-claude-3-7-sonnet-20250219-20250403-154600.json\n"
          ]
        },
        {
          "metadata": {
            "tags": null
          },
          "name": "stderr",
          "output_type": "stream",
          "text": [
            "Evaluating questions: 100%|██████████| 180/180 [14:53<00:00,  4.96s/it]\n"
          ]
        },
        {
          "metadata": {
            "tags": null
          },
          "name": "stdout",
          "output_type": "stream",
          "text": [
            "✓ Full evaluation complete for Google-Gemini-gemini-1.5-pro. Results saved to: data/results/EVAL-MIR-2024-v01-t01_filtered-Prompt-001-Google-Gemini-gemini-1.5-pro-20250403-160053.json\n"
          ]
        },
        {
          "metadata": {
            "tags": null
          },
          "name": "stderr",
          "output_type": "stream",
          "text": [
            "Evaluating questions: 100%|██████████| 180/180 [08:58<00:00,  2.99s/it]\n"
          ]
        },
        {
          "metadata": {
            "tags": null
          },
          "name": "stdout",
          "output_type": "stream",
          "text": [
            "✓ Full evaluation complete for meta-llama/Meta-Llama-3.1-405B-Instruct-Turbo. Results saved to: data/results/EVAL-MIR-2024-v01-t01_filtered-Prompt-001-meta-llama-Meta-Llama-3.1-405B-Instruct-Turbo-20250403-160952.json\n"
          ]
        },
        {
          "metadata": {
            "tags": null
          },
          "name": "stderr",
          "output_type": "stream",
          "text": [
            "Evaluating questions: 100%|██████████| 180/180 [07:35<00:00,  2.53s/it]\n"
          ]
        },
        {
          "metadata": {
            "tags": null
          },
          "name": "stdout",
          "output_type": "stream",
          "text": [
            "✓ Full evaluation complete for meta-llama/Llama-3.3-70B-Instruct-Turbo. Results saved to: data/results/EVAL-MIR-2024-v01-t01_filtered-Prompt-001-meta-llama-Llama-3.3-70B-Instruct-Turbo-20250403-161727.json\n"
          ]
        },
        {
          "output_type": "stream",
          "name": "stderr",
          "text": [
            "Evaluating questions: 100%|██████████| 180/180 [07:56<00:00,  2.65s/it]\n"
          ]
        },
        {
          "output_type": "stream",
          "name": "stdout",
          "text": [
            "✓ Full evaluation complete for mistralai/Mixtral-8x22B-Instruct-v0.1. Results saved to: data/results/EVAL-MIR-2024-v01-t01_filtered-Prompt-001-mistralai-Mixtral-8x22B-Instruct-v0.1-20250403-162524.json\n"
          ]
        },
        {
          "output_type": "stream",
          "name": "stderr",
          "text": [
            "Evaluating questions: 100%|██████████| 180/180 [06:50<00:00,  2.28s/it]\n"
          ]
        },
        {
          "output_type": "stream",
          "name": "stdout",
          "text": [
            "✓ Full evaluation complete for Qwen/Qwen2-VL-72B-Instruct. Results saved to: data/results/EVAL-MIR-2024-v01-t01_filtered-Prompt-001-Qwen-Qwen2-VL-72B-Instruct-20250403-163214.json\n"
          ]
        },
        {
          "output_type": "stream",
          "name": "stderr",
          "text": [
            "Evaluating questions: 100%|██████████| 180/180 [07:00<00:00,  2.34s/it]"
          ]
        },
        {
          "output_type": "stream",
          "name": "stdout",
          "text": [
            "✓ Full evaluation complete for grok-2-latest. Results saved to: data/results/EVAL-MIR-2024-v01-t01_filtered-Prompt-001-grok-2-latest-20250403-163915.json\n",
            "\n",
            "Proceed to the cell that merges and exports full evaluation results.\n"
          ]
        },
        {
          "output_type": "stream",
          "name": "stderr",
          "text": [
            "\n"
          ]
        }
      ]
    },
    {
      "cell_type": "markdown",
      "source": [],
      "metadata": {
        "id": "id2RAkSZGiyO"
      }
    },
    {
      "cell_type": "markdown",
      "source": [
        "Detailed comments: In Cell 7:\n",
        "We initialize all_details to gather every question’s result and summary_records for each model.\n",
        "We loop over each model configuration:\n",
        "* Call evaluate_model for that model, which returns the detailed results and count of correct answers.\n",
        "* We extend the all_details list with the results (so in the end, this list contains an entry for each model-question pair).\n",
        "* Compute accuracy as (num_correct / total_questions) * 100. We round it to two decimal places later for neatness.\n",
        "* Compute total tokens used by summing the tokens_used for each question result, if available. If none of the results have token info (i.e., the list is empty because maybe the API didn’t provide it), we leave total_tokens as None.\n",
        "* Compute average latency by summing all latencies and dividing by number of questions (we exclude any None latencies just in case).\n",
        "* Append a dictionary to summary_records with the model’s name and metrics. We include total questions for reference, and round the accuracy and average latency for readability.\n",
        "* Print a summary line for each model (e.g., “Finished ModelX: 8/10 correct, Accuracy 80.0%.”).\n",
        "After this loop, we have:\n",
        "* summary_records: a list of summary info for each model.\n",
        "* all_details: a list of per-question info, which we can turn into a detailed log.\n",
        "Next, we’ll convert these to pandas DataFrames for easy viewing and export."
      ],
      "metadata": {
        "id": "_-mQLra8sJBL"
      }
    },
    {
      "cell_type": "code",
      "source": [
        "# =========================\n",
        "# FINAL EXPORT CELL: Full Evaluation Results to CSV, GitHub, & Download\n",
        "# =========================\n",
        "\n",
        "import glob\n",
        "import json\n",
        "import pandas as pd\n",
        "import os\n",
        "from datetime import datetime\n",
        "import shutil\n",
        "import subprocess\n",
        "from google.colab import files\n",
        "from google.colab import userdata\n",
        "\n",
        "# --- Step 1: Gather Full Evaluation Result Files ---\n",
        "# Adjust the glob pattern if necessary to include only full evaluation files.\n",
        "# (This example assumes your full evaluation result files contain \"filtered\" in the filename.)\n",
        "result_files = glob.glob(\"data/results/EVAL-MIR-2024-v01-t01_filtered-*.json\")\n",
        "print(f\"Found {len(result_files)} full evaluation result file(s).\")\n",
        "\n",
        "# --- Step 2: Merge Detailed Evaluation Results ---\n",
        "# We assume each JSON file contains detailed results under either the \"details\" or \"results\" key.\n",
        "all_details = []\n",
        "for file in result_files:\n",
        "    try:\n",
        "        with open(file, 'r', encoding='utf-8') as f:\n",
        "            data = json.load(f)\n",
        "        details = data.get('details') or data.get('results')\n",
        "        if details:\n",
        "            all_details.extend(details)\n",
        "    except Exception as e:\n",
        "        print(f\"Error processing {file}: {e}\")\n",
        "\n",
        "if not all_details:\n",
        "    print(\"No detailed evaluation results were found in the JSON files.\")\n",
        "else:\n",
        "    # Convert the merged results to a DataFrame.\n",
        "    df_full = pd.DataFrame(all_details)\n",
        "    print(\"Merged full evaluation results shape:\", df_full.shape)\n",
        "    print(\"Columns in full evaluation results:\", df_full.columns.tolist())\n",
        "\n",
        "    # --- Step 3: Export Merged Results to a Single CSV File ---\n",
        "    timestamp = datetime.now().strftime(\"%Y%m%d_%H%M%S\")\n",
        "    export_filename = f\"full_evaluation_results_{timestamp}.csv\"\n",
        "    export_dir = os.path.join(\"data\", \"exports\")\n",
        "    os.makedirs(export_dir, exist_ok=True)\n",
        "    export_path = os.path.join(export_dir, export_filename)\n",
        "    df_full.to_csv(export_path, index=False)\n",
        "    print(f\"✓ Full evaluation results exported to CSV: {export_path}\")\n",
        "\n",
        "    # --- Step 4: Download the CSV File Locally (Colab) ---\n",
        "    files.download(export_path)\n",
        "\n",
        "    # --- Step 5: Push the CSV File to GitHub ---\n",
        "    try:\n",
        "        # Retrieve GitHub token from Colab secrets\n",
        "        github_token = userdata.get('GITHUB_TOKEN')\n",
        "        if not github_token:\n",
        "            raise ValueError(\"GITHUB_TOKEN is not set in Colab secrets.\")\n",
        "\n",
        "        # Configure the remote URL with your GitHub token\n",
        "        repo_name = \"armelida/MELIDA\"\n",
        "        token_url = f\"https://{github_token}@github.com/{repo_name}.git\"\n",
        "\n",
        "        subprocess.run([\"git\", \"config\", \"--global\", \"user.email\", \"armelida@gmail.com\"], check=True)\n",
        "        subprocess.run([\"git\", \"config\", \"--global\", \"user.name\", \"Armelida\"], check=True)\n",
        "        subprocess.run([\"git\", \"remote\", \"set-url\", \"origin\", token_url], check=True)\n",
        "\n",
        "        # Stage the new CSV file for commit.\n",
        "        subprocess.run([\"git\", \"add\", export_path], check=True)\n",
        "        commit_message = f\"Export full evaluation results {timestamp}\"\n",
        "        subprocess.run([\"git\", \"commit\", \"-m\", commit_message], check=True)\n",
        "\n",
        "        # Pull the latest changes and then push your commit.\n",
        "        subprocess.run([\"git\", \"pull\", \"origin\", \"main\", \"--rebase\"], check=True)\n",
        "        subprocess.run([\"git\", \"push\", \"origin\", \"main\"], check=True)\n",
        "        print(\"✓ CSV file successfully pushed to GitHub.\")\n",
        "    except Exception as e:\n",
        "        print(f\"Error during GitHub push: {e}\")\n"
      ],
      "metadata": {
        "colab": {
          "base_uri": "https://localhost:8080/",
          "height": 107
        },
        "id": "hfno6LLELaoL",
        "outputId": "7352742c-77d8-4d64-c3a7-57efad417f90"
      },
      "execution_count": 26,
      "outputs": [
        {
          "output_type": "stream",
          "name": "stdout",
          "text": [
            "Found 9 full evaluation result file(s).\n",
            "Merged full evaluation results shape: (1620, 14)\n",
            "Columns in full evaluation results: ['question_id', 'question_text', 'prompt_strategy', 'model', 'prompt', 'full_model_output', 'model_answer', 'raw_response', 'response_time', 'tokens_used', 'timestamp', 'correct_answer', 'score', 'result_id']\n",
            "✓ Full evaluation results exported to CSV: data/exports/full_evaluation_results_20250403_163915.csv\n"
          ]
        },
        {
          "output_type": "display_data",
          "data": {
            "text/plain": [
              "<IPython.core.display.Javascript object>"
            ],
            "application/javascript": [
              "\n",
              "    async function download(id, filename, size) {\n",
              "      if (!google.colab.kernel.accessAllowed) {\n",
              "        return;\n",
              "      }\n",
              "      const div = document.createElement('div');\n",
              "      const label = document.createElement('label');\n",
              "      label.textContent = `Downloading \"${filename}\": `;\n",
              "      div.appendChild(label);\n",
              "      const progress = document.createElement('progress');\n",
              "      progress.max = size;\n",
              "      div.appendChild(progress);\n",
              "      document.body.appendChild(div);\n",
              "\n",
              "      const buffers = [];\n",
              "      let downloaded = 0;\n",
              "\n",
              "      const channel = await google.colab.kernel.comms.open(id);\n",
              "      // Send a message to notify the kernel that we're ready.\n",
              "      channel.send({})\n",
              "\n",
              "      for await (const message of channel.messages) {\n",
              "        // Send a message to notify the kernel that we're ready.\n",
              "        channel.send({})\n",
              "        if (message.buffers) {\n",
              "          for (const buffer of message.buffers) {\n",
              "            buffers.push(buffer);\n",
              "            downloaded += buffer.byteLength;\n",
              "            progress.value = downloaded;\n",
              "          }\n",
              "        }\n",
              "      }\n",
              "      const blob = new Blob(buffers, {type: 'application/binary'});\n",
              "      const a = document.createElement('a');\n",
              "      a.href = window.URL.createObjectURL(blob);\n",
              "      a.download = filename;\n",
              "      div.appendChild(a);\n",
              "      a.click();\n",
              "      div.remove();\n",
              "    }\n",
              "  "
            ]
          },
          "metadata": {}
        },
        {
          "output_type": "display_data",
          "data": {
            "text/plain": [
              "<IPython.core.display.Javascript object>"
            ],
            "application/javascript": [
              "download(\"download_de6b2fd4-49ba-4be4-b7d6-d2c8be9d71e0\", \"full_evaluation_results_20250403_163915.csv\", 2749531)"
            ]
          },
          "metadata": {}
        },
        {
          "output_type": "stream",
          "name": "stdout",
          "text": [
            "Error during GitHub push: Requesting secret GITHUB_TOKEN timed out. Secrets can only be fetched when running from the Colab UI.\n"
          ]
        }
      ]
    },
    {
      "cell_type": "code",
      "source": [
        "# =========================\n",
        "# CELL: Export Most Failed Questions CSV\n",
        "# =========================\n",
        "\n",
        "import glob\n",
        "import pandas as pd\n",
        "import os\n",
        "from datetime import datetime\n",
        "\n",
        "# (Optional) Load the most recent full evaluation CSV from your exports folder:\n",
        "export_files = sorted(glob.glob(\"data/exports/full_evaluation_results_*.csv\"))\n",
        "if export_files:\n",
        "    latest_export = export_files[-1]\n",
        "    df_full = pd.read_csv(latest_export)\n",
        "    print(f\"Loaded merged full evaluation results from: {latest_export}\")\n",
        "else:\n",
        "    raise FileNotFoundError(\"No full evaluation CSV file found in data/exports/.\")\n",
        "\n",
        "# Standardize answer columns and compute correctness.\n",
        "df_full['model_answer'] = df_full['model_answer'].astype(str).str.strip().str.upper()\n",
        "df_full['correct_answer'] = df_full['correct_answer'].astype(str).str.strip().str.upper()\n",
        "df_full['raw_response'] = df_full['raw_response'].astype(str).str.strip()\n",
        "df_full['correct'] = df_full['model_answer'] == df_full['correct_answer']\n",
        "\n",
        "# Determine which column to use for question text.\n",
        "if 'prompt' in df_full.columns:\n",
        "    question_text_col = 'prompt'\n",
        "elif 'question_text' in df_full.columns:\n",
        "    question_text_col = 'question_text'\n",
        "else:\n",
        "    # If no column exists, create one with a default value.\n",
        "    df_full['question_text'] = \"Not available\"\n",
        "    question_text_col = 'question_text'\n",
        "\n",
        "# Filter out only the failed evaluations.\n",
        "df_failures = df_full[~df_full['correct']]\n",
        "\n",
        "# Group by question_id to aggregate failure information.\n",
        "df_failures_summary = df_failures.groupby(\"question_id\").agg(\n",
        "    failure_count=(\"model\", \"count\"),\n",
        "    models_failed=(\"model\", lambda x: \", \".join(sorted(x.unique()))),\n",
        "    correct_answer=(\"correct_answer\", \"first\"),\n",
        "    raw_responses=(\"raw_response\", lambda x: \" || \".join(x.astype(str).unique())),\n",
        "    question_text=(question_text_col, \"first\")\n",
        ").reset_index()\n",
        "\n",
        "# Sort by failure_count descending (most failed questions at the top).\n",
        "df_failures_summary = df_failures_summary.sort_values(\"failure_count\", ascending=False)\n",
        "\n",
        "# Save the summary to a CSV file.\n",
        "timestamp = datetime.now().strftime(\"%Y%m%d_%H%M%S\")\n",
        "failed_csv = f\"most_failed_questions_{timestamp}.csv\"\n",
        "export_dir = os.path.join(\"data\", \"exports\")\n",
        "os.makedirs(export_dir, exist_ok=True)\n",
        "export_path = os.path.join(export_dir, failed_csv)\n",
        "df_failures_summary.to_csv(export_path, index=False)\n",
        "print(f\"✓ Most failed questions exported to CSV: {export_path}\")\n",
        "\n",
        "# Optionally, display the DataFrame.\n",
        "print(\"=== Most Failed Questions ===\")\n",
        "print(df_failures_summary.to_string(index=False))\n"
      ],
      "metadata": {
        "colab": {
          "base_uri": "https://localhost:8080/"
        },
        "id": "vphnlZLZOrGl",
        "outputId": "c2675536-e757-4952-a844-ec3817a2c7f7"
      },
      "execution_count": 27,
      "outputs": [
        {
          "output_type": "stream",
          "name": "stdout",
          "text": [
            "Loaded merged full evaluation results from: data/exports/full_evaluation_results_20250403_163915.csv\n",
            "✓ Most failed questions exported to CSV: data/exports/most_failed_questions_20250403_163925.csv\n",
            "=== Most Failed Questions ===\n",
            "          question_id  failure_count                                                                                                                                                                                                                                                                   models_failed correct_answer       raw_responses                                                                                                                                                                                                                                                                                                                                                                                                                                                                                                                                                                                                                                                                                                                                                                                                                                                                                                                                                                                                                                                                                                                                                                                                                                                                                                                                                                                                                                                                                                                                                                                                                                                                                                                                                                                                                                                                                                                                                                question_text\n",
            "MIR-2024-v01-t01-Q206              9 Google-Gemini-gemini-1.5-pro, Qwen/Qwen2-VL-72B-Instruct, claude-3-7-sonnet-20250219, deepseek-ai/DeepSeek-V3, grok-2-latest, meta-llama/Llama-3.3-70B-Instruct-Turbo, meta-llama/Meta-Llama-3.1-405B-Instruct-Turbo, mistralai/Mixtral-8x22B-Instruct-v0.1, o3-mini-2025-01-31              D                   C                                                                                                                                                                                                                                                                                                                                                                                                                                                                                 Eres un Médico que está realizando el examen MIR, un test estandarizado en español que determinará si obtienes tu residencia. Analiza cuidadosamente la siguiente pregunta y determina la respuesta correcta. Puedes razonar internamente, pero NO incluyas ningún razonamiento en la respuesta final. Responde ÚNICAMENTE con una letra: A, B, C o D. Si no estás seguro, responde con N. Cualquier texto adicional invalidará tu respuesta y restará puntos.\\n\\nPregunta: Avisan de paritorio por recién nacido pretérmino tardío (35+3 semanas de edad gestacional) sin otros factores de riesgo. Al nacimiento no presenta esfuerzo respiratorio y se decide monitorización con pulsioximetría. No inicia esfuerzo por lo que a los 30 segundos se ventila con presión positiva intermitente (VPPI) (presión inspiratoria 20 cm H20 y PEEP 6 cm H20 y FiO2 0,21) durante 1 minuto. Inicia llanto y esfuerzo respiratorio pero con signos de dificultad respiratoria en torno a los 3 minutos de vida con cianosis asociada. En la monitorización presenta frecuencia cardíaca de 170 lpm y Sat O2 del 75%. ¿Cuál es su actuación en este momento?:\\n\\nA) Retirar soporte respiratorio y aumento aporte de oxígeno.\\nB) Mantener VPPI y fracción inspirada de oxígeno al 21%.\\nC) Pasar a modalidad presión positiva continua y aumento aporte de oxígeno.\\nD) Pasar a modalidad presión positiva continua y fracción inspirada de oxígeno al 21%.\\n\\nTu respuesta (solamente una letra):\n",
            "MIR-2024-v01-t01-Q173              9 Google-Gemini-gemini-1.5-pro, Qwen/Qwen2-VL-72B-Instruct, claude-3-7-sonnet-20250219, deepseek-ai/DeepSeek-V3, grok-2-latest, meta-llama/Llama-3.3-70B-Instruct-Turbo, meta-llama/Meta-Llama-3.1-405B-Instruct-Turbo, mistralai/Mixtral-8x22B-Instruct-v0.1, o3-mini-2025-01-31              A                   D                                                                                                                                                                                                                                                                                                                                                                                                                                                                                                                                                                   Eres un Médico que está realizando el examen MIR, un test estandarizado en español que determinará si obtienes tu residencia. Analiza cuidadosamente la siguiente pregunta y determina la respuesta correcta. Puedes razonar internamente, pero NO incluyas ningún razonamiento en la respuesta final. Responde ÚNICAMENTE con una letra: A, B, C o D. Si no estás seguro, responde con N. Cualquier texto adicional invalidará tu respuesta y restará puntos.\\n\\nPregunta: Hombre de 55 años con antecedentes de cáncer de pulmón (estadio IV). Su madre murió a los 65 años por un episodio de broncoaspiración. Consulta por debilidad muscular en los muslos y disfagia. Exploración física: fuerza en psoas 4+/5, cuádriceps 3/5, deltoides 5/5. Presenta ptosis palpebral bilateral y no tiene diplopía. Los valores de CPK eran 900 UI/L (normal <150 UI/L) y los de aldolasa, 7 UI/L (normal <6 UI/L). Se practicó una biopsia en el músculo vasto lateral externo del muslo derecho, en la cual se objetivó variabilidad en el tamaño de fibras, aumento del tejido conectivo, imágenes de pseudodivisión celular y vacuolas ribeteadas; no se observó infiltrado inflamatorio. ¿Qué es lo más probable que le suceda al paciente?:\\n\\nA) Distrofia oculofaríngea.\\nB) Miopatía mitocondrial.\\nC) Miastenia gravis.\\nD) Miositis con cuerpos de inclusión.\\n\\nTu respuesta (solamente una letra):\n",
            "MIR-2024-v01-t01-Q126              8                             Google-Gemini-gemini-1.5-pro, Qwen/Qwen2-VL-72B-Instruct, deepseek-ai/DeepSeek-V3, grok-2-latest, meta-llama/Llama-3.3-70B-Instruct-Turbo, meta-llama/Meta-Llama-3.1-405B-Instruct-Turbo, mistralai/Mixtral-8x22B-Instruct-v0.1, o3-mini-2025-01-31              D       C || B || nan                                                                                                                                                                                                                                                                                                                                                                                                                                                                                                                                                                                                                                                                                                                                                                          Eres un Médico que está realizando el examen MIR, un test estandarizado en español que determinará si obtienes tu residencia. Analiza cuidadosamente la siguiente pregunta y determina la respuesta correcta. Puedes razonar internamente, pero NO incluyas ningún razonamiento en la respuesta final. Responde ÚNICAMENTE con una letra: A, B, C o D. Si no estás seguro, responde con N. Cualquier texto adicional invalidará tu respuesta y restará puntos.\\n\\nPregunta: Hombre de 77 años que acude a urgencias por prurito, ictericia y síndrome tóxico de un mes de evolución. Refiere ingesta de amoxicilinaclavulánico desde hace 10 días por un resfriado. A su llegada se realiza una ecografía que se informa de dilatación de la vía biliar intra y extrahepática con vesícula biliar distendida. ¿Cuál es la sospecha diagnóstica y la actitud a seguir?:\\n\\nA) Colecistitis aguda e indicación de colecistectomía urgente.\\nB) Coledocolitiasis distal y solicitud de colangiorresonancia magnética.\\nC) Toxicidad por fármacos y suspensión de la medicación.\\nD) Tumoración maligna obstructiva de colédoco distal y solicitar TC abdominal.\\n\\nTu respuesta (solamente una letra):\n",
            "MIR-2024-v01-t01-Q051              8                             Google-Gemini-gemini-1.5-pro, Qwen/Qwen2-VL-72B-Instruct, deepseek-ai/DeepSeek-V3, grok-2-latest, meta-llama/Llama-3.3-70B-Instruct-Turbo, meta-llama/Meta-Llama-3.1-405B-Instruct-Turbo, mistralai/Mixtral-8x22B-Instruct-v0.1, o3-mini-2025-01-31              C      D || nan || D.                                                                                                                                                                                                                                                                                                                                                                                                                                                                                                                                                                                                                                                                                                                                                                                                                                                                                                                                                                                                                                 Eres un Médico que está realizando el examen MIR, un test estandarizado en español que determinará si obtienes tu residencia. Analiza cuidadosamente la siguiente pregunta y determina la respuesta correcta. Puedes razonar internamente, pero NO incluyas ningún razonamiento en la respuesta final. Responde ÚNICAMENTE con una letra: A, B, C o D. Si no estás seguro, responde con N. Cualquier texto adicional invalidará tu respuesta y restará puntos.\\n\\nPregunta: ¿Cuál de los siguientes escenarios podría suponer una contraindicación para el uso de un injerto de piel parcial como cobertura de un defecto cutáneo?:\\n\\nA) Cuando el defecto cutáneo abarca una gran superficie corporal.\\nB) En un paciente con comorbilidades médicas significativas.\\nC) Cuando hay un tendón sin paratendón en la base de la herida.\\nD) Cuando hay una infección activa en el lecho de la herida.\\n\\nTu respuesta (solamente una letra):\n",
            "MIR-2024-v01-t01-Q169              8                          Google-Gemini-gemini-1.5-pro, Qwen/Qwen2-VL-72B-Instruct, claude-3-7-sonnet-20250219, grok-2-latest, meta-llama/Llama-3.3-70B-Instruct-Turbo, meta-llama/Meta-Llama-3.1-405B-Instruct-Turbo, mistralai/Mixtral-8x22B-Instruct-v0.1, o3-mini-2025-01-31              B       C || nan || D                                                                                                                                                                                                                   Eres un Médico que está realizando el examen MIR, un test estandarizado en español que determinará si obtienes tu residencia. Analiza cuidadosamente la siguiente pregunta y determina la respuesta correcta. Puedes razonar internamente, pero NO incluyas ningún razonamiento en la respuesta final. Responde ÚNICAMENTE con una letra: A, B, C o D. Si no estás seguro, responde con N. Cualquier texto adicional invalidará tu respuesta y restará puntos.\\n\\nPregunta: Hombre de 53 años, sin antecedentes patológicos, acude al hospital por fiebre de 10 días de evolución, con intensa cefalea retroorbitaria y una importante sensación de fatiga. No refiere dolor musculoesquelético, lesiones cutáneas ni ningún otro síntoma acompañante. A lo largo de 15 días de ingreso se objetiva fiebre persistente y la aparición de discreta ictericia conjuntival. La exploración respiratoria, cardíaca, abdominal y neurológica es normal. La analítica muestra VSG 97 mm/h, PCR 24,5 mg/dL, GOT 156 U/L, GPT 148 U/L, FA 410 U/L, GGT 794 U/L, bilirrubina total 5,5 mg/dL a expensas de la bilirrubina directa, hemoglobina 11,5 g/dL, recuento leucocitario normal, plaquetas 648.000/mm3, función renal e ionograma normales, tiempo de protrombina normal pero TTPA ratio 1,8. Los anticuerpos antinucleares (ANA) son positivos a títulos 1/160. Una ecografía abdominal no muestra ninguna alteración destacable. Desde el punto de vista clínico y a la vista de los datos analíticos, ¿cuál de las siguientes enfermedades es la que se ajusta mejor con nuestro paciente?:\\n\\nA) COVID-19\\nB) Fiebre Q aguda.\\nC) Leptospirosis grave (enfermedad de Weil).\\nD) Colangitis esclerosante primaria.\\n\\nTu respuesta (solamente una letra):\n",
            "MIR-2024-v01-t01-Q172              8                     Google-Gemini-gemini-1.5-pro, Qwen/Qwen2-VL-72B-Instruct, claude-3-7-sonnet-20250219, deepseek-ai/DeepSeek-V3, grok-2-latest, meta-llama/Llama-3.3-70B-Instruct-Turbo, meta-llama/Meta-Llama-3.1-405B-Instruct-Turbo, mistralai/Mixtral-8x22B-Instruct-v0.1              A                   B                                                                                                                                                                                                                                                                                                                                                                                                                                                                                                                                                                                           Eres un Médico que está realizando el examen MIR, un test estandarizado en español que determinará si obtienes tu residencia. Analiza cuidadosamente la siguiente pregunta y determina la respuesta correcta. Puedes razonar internamente, pero NO incluyas ningún razonamiento en la respuesta final. Responde ÚNICAMENTE con una letra: A, B, C o D. Si no estás seguro, responde con N. Cualquier texto adicional invalidará tu respuesta y restará puntos.\\n\\nPregunta: Hombre de 37 años con infección VIH ha dejado de tomar el tratamiento por razones personales hace 3 meses; estaba tomando una combinación de dos inhibidores de transcriptasa inversa y un inhibidor de la integrasa. En la evaluación llevada a cabo en este momento tiene 120 linfocitos CD4/mm3 y una carga viral de VIH-1 de 80.000 copias/mL. Estamos pendientes del estudio de resistencias. ¿Qué debemos recomendarle en este momento?:\\n\\nA) Reiniciar el tratamiento con lo mismo con lo que estaba previamente.\\nB) Esperar a tener el resultado del estudio de resistencias para orientar el tipo de tratamiento en función de las mutaciones identificadas.\\nC) Prescribir a partir de ahora un régimen basado en inhibidores de proteasa por su mayor barrera genética a las resistencias.\\nD) Iniciar doble terapia con inhibidores de integrasa.\\n\\nTu respuesta (solamente una letra):\n",
            "MIR-2024-v01-t01-Q027              8                     Google-Gemini-gemini-1.5-pro, Qwen/Qwen2-VL-72B-Instruct, claude-3-7-sonnet-20250219, deepseek-ai/DeepSeek-V3, grok-2-latest, meta-llama/Llama-3.3-70B-Instruct-Turbo, meta-llama/Meta-Llama-3.1-405B-Instruct-Turbo, mistralai/Mixtral-8x22B-Instruct-v0.1              C              A || D                                                                                                                                                                                                                                                                                                                                                                                                                                                                                                                                                                                                                                                                                                                                                                                                                                                                                                                                                                                                                                                                                                                                                                                                       Eres un Médico que está realizando el examen MIR, un test estandarizado en español que determinará si obtienes tu residencia. Analiza cuidadosamente la siguiente pregunta y determina la respuesta correcta. Puedes razonar internamente, pero NO incluyas ningún razonamiento en la respuesta final. Responde ÚNICAMENTE con una letra: A, B, C o D. Si no estás seguro, responde con N. Cualquier texto adicional invalidará tu respuesta y restará puntos.\\n\\nPregunta: La deficiencia de acil-CoA-deshidrogenasa provoca una de las siguientes alteraciones bioquímicas:\\n\\nA) Disminución de ácidos dicarboxílicos.\\nB) Aumento de la gluconeogénesis.\\nC) Disminución de la ureagénesis.\\nD) Aumento de carnitina libre.\\n\\nTu respuesta (solamente una letra):\n",
            "MIR-2024-v01-t01-Q043              7                                                                         Google-Gemini-gemini-1.5-pro, Qwen/Qwen2-VL-72B-Instruct, claude-3-7-sonnet-20250219, grok-2-latest, meta-llama/Llama-3.3-70B-Instruct-Turbo, mistralai/Mixtral-8x22B-Instruct-v0.1, o3-mini-2025-01-31              B                   C                                                                                                                                                                                                                                                                                                                                                                                                                                                                                                                                                                                                                                                                                                                                                                                                                                                                                                                         Eres un Médico que está realizando el examen MIR, un test estandarizado en español que determinará si obtienes tu residencia. Analiza cuidadosamente la siguiente pregunta y determina la respuesta correcta. Puedes razonar internamente, pero NO incluyas ningún razonamiento en la respuesta final. Responde ÚNICAMENTE con una letra: A, B, C o D. Si no estás seguro, responde con N. Cualquier texto adicional invalidará tu respuesta y restará puntos.\\n\\nPregunta: Señala la opción INCORRECTA respecto a la enfermedad meningocócica:\\n\\nA) El mecanismo de transmisión es por gotas.\\nB) Se dispone de vacunas efectivas únicamente para la prevención de 4 subtipos de meningococo.\\nC) La vacuna frente a meningococo tipo B está incluida en el calendario sistemático de inmunizaciones del Sistema Nacional de Salud.\\nD) Ante un contacto de riesgo con un paciente con meningitis meningocócica, la vacunación del contacto no debe ser la primera estrategia de profilaxis postexposición.\\n\\nTu respuesta (solamente una letra):\n",
            "MIR-2024-v01-t01-Q085              7                                                 Google-Gemini-gemini-1.5-pro, Qwen/Qwen2-VL-72B-Instruct, deepseek-ai/DeepSeek-V3, grok-2-latest, meta-llama/Llama-3.3-70B-Instruct-Turbo, meta-llama/Meta-Llama-3.1-405B-Instruct-Turbo, mistralai/Mixtral-8x22B-Instruct-v0.1              C              A || D                                                                                                                                                                                                                                                                                                                                                                                                                                                                                                                                                                                                                                                                                                                                                                                                                                                                                                                                                   Eres un Médico que está realizando el examen MIR, un test estandarizado en español que determinará si obtienes tu residencia. Analiza cuidadosamente la siguiente pregunta y determina la respuesta correcta. Puedes razonar internamente, pero NO incluyas ningún razonamiento en la respuesta final. Responde ÚNICAMENTE con una letra: A, B, C o D. Si no estás seguro, responde con N. Cualquier texto adicional invalidará tu respuesta y restará puntos.\\n\\nPregunta: Sobre el tratamiento quirúrgico de la enfermedad de Parkinson señale la opción correcta:\\n\\nA) Los núcleos diana principales son el núcleo pálido y el núcleo ventral inferomedial del tálamo.\\nB) La cirugía lesional es la opción utilizada más frecuentemente hoy en día.\\nC) La presencia de síntomas o signos que no responden a la levodopa desaconsejan el tratamiento.\\nD) La estimulación eléctrica de los núcleos genera una activación de los mismos, principio fundamental del tratamiento.\\n\\nTu respuesta (solamente una letra):\n",
            "MIR-2024-v01-t01-Q137              7                                                 Google-Gemini-gemini-1.5-pro, Qwen/Qwen2-VL-72B-Instruct, deepseek-ai/DeepSeek-V3, grok-2-latest, meta-llama/Llama-3.3-70B-Instruct-Turbo, meta-llama/Meta-Llama-3.1-405B-Instruct-Turbo, mistralai/Mixtral-8x22B-Instruct-v0.1              A        C || B || C.                                                                                                                                                                                                                                                                                                                                                                                                                                                                                                                                                                                                                                                                         Eres un Médico que está realizando el examen MIR, un test estandarizado en español que determinará si obtienes tu residencia. Analiza cuidadosamente la siguiente pregunta y determina la respuesta correcta. Puedes razonar internamente, pero NO incluyas ningún razonamiento en la respuesta final. Responde ÚNICAMENTE con una letra: A, B, C o D. Si no estás seguro, responde con N. Cualquier texto adicional invalidará tu respuesta y restará puntos.\\n\\nPregunta: Hombre de 28 años que consulta por haberse despertado por dolor en la región genital y tumefacción en el pene. No recuerda con detalle lo sucedido en las últimas 12 horas. En las últimas 48 h ha consumido alto volumen de alcohol, varias drogas (mefedrona, cocaína, anfetamina), junto con sildenafilo y se ha autoinyectado en el pene 20 µg de alprostadil. A la exploración destaca, pene flácido, glande no visible en su totalidad por edema y hematoma expansivo de partes blandas. Presenta restos hemáticos en el meato uretral. ¿Cuál de las siguientes opciones NO formaría parte de su plan terapéutico?:\\n\\nA) Gasometría obtenida mediante punción del cuerpo cavernoso.\\nB) Revisión quirúrgica urgente.\\nC) Evitar el sondaje vesical.\\nD) Ecografía de pene.\\n\\nTu respuesta (solamente una letra):\n",
            "MIR-2024-v01-t01-Q181              7                                                               Google-Gemini-gemini-1.5-pro, Qwen/Qwen2-VL-72B-Instruct, claude-3-7-sonnet-20250219, deepseek-ai/DeepSeek-V3, meta-llama/Llama-3.3-70B-Instruct-Turbo, mistralai/Mixtral-8x22B-Instruct-v0.1, o3-mini-2025-01-31              B            D || nan                                                                                                                                                                                                                                                                                                                                                                                                                                                                                                                                                                                                                               Eres un Médico que está realizando el examen MIR, un test estandarizado en español que determinará si obtienes tu residencia. Analiza cuidadosamente la siguiente pregunta y determina la respuesta correcta. Puedes razonar internamente, pero NO incluyas ningún razonamiento en la respuesta final. Responde ÚNICAMENTE con una letra: A, B, C o D. Si no estás seguro, responde con N. Cualquier texto adicional invalidará tu respuesta y restará puntos.\\n\\nPregunta: En relación con la marca producida por el paso de la corriente eléctrica a través de la piel (también conocida como lesión electroespecífica o “marca de Jellinek”), ¿cuál de las siguientes afirmaciones es cierta?:\\n\\nA) La mayor parte de las lesiones producidas por la corriente eléctrica en medio doméstico y laboral proceden de fuentes de alto voltaje.\\nB) Las lesiones dérmicas dependen del efecto de un aumento de la temperatura generado sobre la dermis.\\nC) La corriente de bajo voltaje produce lesiones profundas, mientras que la de alto voltaje da lugar a lesiones superficiales adyacentes al punto de contacto con la corriente eléctrica.\\nD) La marca eléctrica es diagnóstica del lugar en el que se ha producido el contacto y, por tanto, el punto de entrada de la corriente en el cuerpo.\\n\\nTu respuesta (solamente una letra):\n",
            "MIR-2024-v01-t01-Q045              7                                    Google-Gemini-gemini-1.5-pro, Qwen/Qwen2-VL-72B-Instruct, claude-3-7-sonnet-20250219, deepseek-ai/DeepSeek-V3, meta-llama/Llama-3.3-70B-Instruct-Turbo, meta-llama/Meta-Llama-3.1-405B-Instruct-Turbo, mistralai/Mixtral-8x22B-Instruct-v0.1              D         C || A || B                                                                                                                                                                                                                                                                                                                                                                                                                                                                                                                                                                                                                                                                                                                                                                                                                                                   Eres un Médico que está realizando el examen MIR, un test estandarizado en español que determinará si obtienes tu residencia. Analiza cuidadosamente la siguiente pregunta y determina la respuesta correcta. Puedes razonar internamente, pero NO incluyas ningún razonamiento en la respuesta final. Responde ÚNICAMENTE con una letra: A, B, C o D. Si no estás seguro, responde con N. Cualquier texto adicional invalidará tu respuesta y restará puntos.\\n\\nPregunta: En un metaanálisis, el riesgo relativo estimado para la asociación causal entre el uso de mascarilla y la incidencia de SARS-CoV-2 fue de 0,47. ¿Cuál es la interpretación correcta de este resultado?:\\n\\nA) La incidencia de SARS-CoV-2 se reduce un 47% cuando la población usa mascarilla.\\nB) No usar mascarilla aumenta un 53% el riesgo de infección por SARS-CoV-2.\\nC) El uso de mascarilla podría evitar 47 de cada 100 casos de SARS-CoV-2 que se dan en personas que no la usan.\\nD) La incidencia de SARS-CoV-2 en la población que no usa mascarilla se reduciría un 53% si la utilizara.\\n\\nTu respuesta (solamente una letra):\n",
            "MIR-2024-v01-t01-Q120              6                                                                                                                     Google-Gemini-gemini-1.5-pro, claude-3-7-sonnet-20250219, deepseek-ai/DeepSeek-V3, grok-2-latest, mistralai/Mixtral-8x22B-Instruct-v0.1, o3-mini-2025-01-31              B              A || D                                                                                                                                                                                                                                                                                                                                                                                                                                                                                                                                                                                                                                                                                                                                                                                                                                                                                                                                                                                                                                                                                                                     Eres un Médico que está realizando el examen MIR, un test estandarizado en español que determinará si obtienes tu residencia. Analiza cuidadosamente la siguiente pregunta y determina la respuesta correcta. Puedes razonar internamente, pero NO incluyas ningún razonamiento en la respuesta final. Responde ÚNICAMENTE con una letra: A, B, C o D. Si no estás seguro, responde con N. Cualquier texto adicional invalidará tu respuesta y restará puntos.\\n\\nPregunta: Un paciente con enfermedad de Crohn con antecedente de extirpación de un melanoma precisa iniciar un tratamiento avanzado por corticodependencia. ¿Cuál de los siguientes fármacos se debería evitar al estar descrito un aumento del riesgo de dicha neoplasia?\\n\\nA) Azatioprina.\\nB) Infliximab.\\nC) Vedolizumab.\\nD) Ustekinumab.\\n\\nTu respuesta (solamente una letra):\n",
            "MIR-2024-v01-t01-Q037              6                                                                                   Google-Gemini-gemini-1.5-pro, claude-3-7-sonnet-20250219, deepseek-ai/DeepSeek-V3, meta-llama/Llama-3.3-70B-Instruct-Turbo, meta-llama/Meta-Llama-3.1-405B-Instruct-Turbo, o3-mini-2025-01-31              C            D || nan                                                                                                                                                                                                                                                                                                                                                                                                                                                                                                                                                                                                                                                                                                                                                                                         Eres un Médico que está realizando el examen MIR, un test estandarizado en español que determinará si obtienes tu residencia. Analiza cuidadosamente la siguiente pregunta y determina la respuesta correcta. Puedes razonar internamente, pero NO incluyas ningún razonamiento en la respuesta final. Responde ÚNICAMENTE con una letra: A, B, C o D. Si no estás seguro, responde con N. Cualquier texto adicional invalidará tu respuesta y restará puntos.\\n\\nPregunta: Mutaciones en el gen Btk pueden causar una inmunodeficiencia primaria que cursa con la disminución drástica o ausencia de inmunoglobulinas en la sangre periférica (agammaglobulinemia). En relación al estudio de los pacientes con esta agammaglobulinemia, ¿cuál de las siguientes afirmaciones es cierta?\\n\\nA) Es una enfermedad autosómica recesiva.\\nB) El porcentaje de linfocitos que expresan CD19 o CD20 (linfocitos B) en sangre periférica está dentro de los límites normales.\\n\\nC) El nivel de IgG en suero disminuye paulatinamente desde el nacimiento hasta resultar indetectable.\\nD) La expresión de la proteína Btk en monocitos es normal.\\n\\nTu respuesta (solamente una letra):\n",
            "MIR-2024-v01-t01-Q201              6                                                                                                                  Google-Gemini-gemini-1.5-pro, Qwen/Qwen2-VL-72B-Instruct, claude-3-7-sonnet-20250219, grok-2-latest, mistralai/Mixtral-8x22B-Instruct-v0.1, o3-mini-2025-01-31              B            A || nan                                                                                                                                                                                                                                                                                                                                                                                                                                                                                                                                                                                                                                                                                                                                                                                                                                                                                                                                                            Eres un Médico que está realizando el examen MIR, un test estandarizado en español que determinará si obtienes tu residencia. Analiza cuidadosamente la siguiente pregunta y determina la respuesta correcta. Puedes razonar internamente, pero NO incluyas ningún razonamiento en la respuesta final. Responde ÚNICAMENTE con una letra: A, B, C o D. Si no estás seguro, responde con N. Cualquier texto adicional invalidará tu respuesta y restará puntos.\\n\\nPregunta: En la enfermedad por arañazo de gato, señale la INCORRECTA:\\n\\nA) En los casos sin manifestaciones sistémicas de la enfermedad es suficiente con tratamiento tópico.\\nB) Para el diagnóstico es necesaria la práctica de una serología.\\nC) Si se precisa tratamiento antibiótico, se recomienda azitromicina 500 mg. en una dosis inicial y 250 mg cada 24 horas durante 4 días más.\\nD) La mayoría de los casos curan de forma espontánea en semanas o meses sin tratamiento de ningún tipo.\\n\\nTu respuesta (solamente una letra):\n",
            "MIR-2024-v01-t01-Q149              6                                                                                               Google-Gemini-gemini-1.5-pro, Qwen/Qwen2-VL-72B-Instruct, grok-2-latest, meta-llama/Meta-Llama-3.1-405B-Instruct-Turbo, mistralai/Mixtral-8x22B-Instruct-v0.1, o3-mini-2025-01-31              A        C || D || D.                                                                                                                                                                                                                                                                                                                                                                                                                                                                                                                                                                                                                                                                                                                                                                                                                                                                                                           Eres un Médico que está realizando el examen MIR, un test estandarizado en español que determinará si obtienes tu residencia. Analiza cuidadosamente la siguiente pregunta y determina la respuesta correcta. Puedes razonar internamente, pero NO incluyas ningún razonamiento en la respuesta final. Responde ÚNICAMENTE con una letra: A, B, C o D. Si no estás seguro, responde con N. Cualquier texto adicional invalidará tu respuesta y restará puntos.\\n\\nPregunta: Mujer de 90 años sin alergias medicamentosas conocidas, con HTA y gonalgia nocturna por gonartrosis derecha de intensidad leve-moderada de tres meses de evolución. Refiere que no toma ninguna medicación y se confirma que realiza las medidas higiénicas del sueño correctamente. Consulta a su médico de atención primaria por insomnio de conciliación y mantenimiento que le interfiere con sus actividades diarias. ¿Qué fármaco es más adecuado iniciar en este caso?:\\n\\nA) Paracetamol.\\nB) Diazepam.\\nC) Mirtazapina.\\nD) Trazodona.\\n\\nTu respuesta (solamente una letra):\n",
            "MIR-2024-v01-t01-Q160              5                                                                                                                         Google-Gemini-gemini-1.5-pro, Qwen/Qwen2-VL-72B-Instruct, claude-3-7-sonnet-20250219, meta-llama/Meta-Llama-3.1-405B-Instruct-Turbo, o3-mini-2025-01-31              A N || nan || D. || C                                                                                                                                                                                                                                                                                                                                                                                                                                                             Eres un Médico que está realizando el examen MIR, un test estandarizado en español que determinará si obtienes tu residencia. Analiza cuidadosamente la siguiente pregunta y determina la respuesta correcta. Puedes razonar internamente, pero NO incluyas ningún razonamiento en la respuesta final. Responde ÚNICAMENTE con una letra: A, B, C o D. Si no estás seguro, responde con N. Cualquier texto adicional invalidará tu respuesta y restará puntos.\\n\\nPregunta: Mujer de 25 años, sin enfermedades previas conocidas, que consulta por lesión en labio inferior. No es la primera vez que le sucede desde la adolescencia, siempre en la misma zona, inicia dolor y aparece una lesión vesiculosa que se autolimita en una semana aproximadamente. Respecto al abordaje de la enfermedad de esta paciente, es INCORRECTO que:\\n\\nA) Si presenta más de tres episodios anuales está indicado realizar profilaxis con un antiviral como valaciclovir 500 mg cada 12 horas o 1 g al día, durante seis meses.\\nB) Si es una única lesión y es un cuadro leve puede no realizarse ningún tratamiento o bien realizar tratamiento tópico con fomentos de sulfato de zinc o de cobre.\\nC) Si existe riesgo de afectación oftálmica estaría indicado tratar con un antivírico como valaciclovir a razón de 1 g cada 8 horas durante 7 días vía oral.\\nD) Es necesario recomendarle una adecuada protección solar pues la exposición solar puede motivar recurrencias.\\n\\nTu respuesta (solamente una letra):\n",
            "MIR-2024-v01-t01-Q178              5                                                                                                            Google-Gemini-gemini-1.5-pro, Qwen/Qwen2-VL-72B-Instruct, meta-llama/Llama-3.3-70B-Instruct-Turbo, meta-llama/Meta-Llama-3.1-405B-Instruct-Turbo, o3-mini-2025-01-31              A                   B                                                                                                                                                                                                                                                                                                                                                                                                                                                                                                                                                                                                                                                                           Eres un Médico que está realizando el examen MIR, un test estandarizado en español que determinará si obtienes tu residencia. Analiza cuidadosamente la siguiente pregunta y determina la respuesta correcta. Puedes razonar internamente, pero NO incluyas ningún razonamiento en la respuesta final. Responde ÚNICAMENTE con una letra: A, B, C o D. Si no estás seguro, responde con N. Cualquier texto adicional invalidará tu respuesta y restará puntos.\\n\\nPregunta: Atiende a una paciente ingresada desde hace tres semanas en la unidad de cuidados intensivos por un cuadro de shock séptico respiratorio. Su evolución durante el ingreso no ha sido favorable y todavía continúa dependiente de ventilación mecánica invasiva. En los últimos días, tras recibir la información de que probablemente precise ventilación mecánica a medio-largo plazo, durante los periodos en que la paciente ha estado despierta, ha manifestado de forma clara su deseo de no continuar utilizando el ventilador. La paciente afirma comprender las consecuencias de esta decisión. Este caso habla de:\\n\\nA) Rechazo al tratamiento.\\nB) Limitación del esfuerzo terapéutico o adecuación de medidas de tratamiento.\\nC) Suicidio asistido.\\nD) Eutanasia.\\n\\nTu respuesta (solamente una letra):\n",
            "MIR-2024-v01-t01-Q204              5                                                                                                                                deepseek-ai/DeepSeek-V3, grok-2-latest, meta-llama/Meta-Llama-3.1-405B-Instruct-Turbo, mistralai/Mixtral-8x22B-Instruct-v0.1, o3-mini-2025-01-31              C   D || A || D. || B                                                                                                                                                                                                                                                                                                                                                                                                                                                                                                                                                                                                                                                                                                                                                                                                             Eres un Médico que está realizando el examen MIR, un test estandarizado en español que determinará si obtienes tu residencia. Analiza cuidadosamente la siguiente pregunta y determina la respuesta correcta. Puedes razonar internamente, pero NO incluyas ningún razonamiento en la respuesta final. Responde ÚNICAMENTE con una letra: A, B, C o D. Si no estás seguro, responde con N. Cualquier texto adicional invalidará tu respuesta y restará puntos.\\n\\nPregunta: Gestante de 36 años primigesta sin factores de riesgo excepto índice de masa corporal de 32 pregestacional, que acude a urgencias a las 28 semanas y presenta una rotura prematura de membranas. En el momento del ingreso la analítica es normal, no presenta dinámica uterina y la longitud cervical es de 38 mm. ¿Cuál de las siguientes afirmaciones es INCORRECTA?\\n\\nA) Iniciaremos maduración pulmonar fetal con corticoides.\\nB) Se realizará profilaxis de corioamnionitis mediante antibioterapia endovenosa.\\nC) Se iniciará neuroprotección fetal.\\nD) Se iniciará profilaxis tromboembólica con heparina de bajo peso molecular.\\n\\nTu respuesta (solamente una letra):\n",
            "MIR-2024-v01-t01-Q161              5                                                                                                                         Qwen/Qwen2-VL-72B-Instruct, deepseek-ai/DeepSeek-V3, meta-llama/Llama-3.3-70B-Instruct-Turbo, mistralai/Mixtral-8x22B-Instruct-v0.1, o3-mini-2025-01-31              A       D || C || nan                                                                                                                                                                                                                                                                                                                                                                                                                                                                                                                                                                                                                                                                                                                                                        Eres un Médico que está realizando el examen MIR, un test estandarizado en español que determinará si obtienes tu residencia. Analiza cuidadosamente la siguiente pregunta y determina la respuesta correcta. Puedes razonar internamente, pero NO incluyas ningún razonamiento en la respuesta final. Responde ÚNICAMENTE con una letra: A, B, C o D. Si no estás seguro, responde con N. Cualquier texto adicional invalidará tu respuesta y restará puntos.\\n\\nPregunta: Hombre de 50 años que presenta una erupción generalizada especialmente en el tronco. Refiere malestar general desde hace pocos días. Hoy acude porque ha tenido fiebre la noche anterior y se ha visto una mancha negra en la zona abdominal. A la exploración física, la mancha negra corresponde a una pequeña escara. El paciente es cazador y acudió recientemente a una batida. Sobre el abordaje del caso es cierto que:\\n\\nA) Es una enfermedad de declaración obligatoria.\\nB) El tratamiento de elección es la amoxicilina, un gramo cada 8 horas durante 7 días.\\nC) Debe derivarse a un centro hospitalario.\\nD) En la mayoría de los casos, la fiebre precede al exantema y la escara.\\n\\nTu respuesta (solamente una letra):\n",
            "MIR-2024-v01-t01-Q159              5                                                                                                                   Google-Gemini-gemini-1.5-pro, Qwen/Qwen2-VL-72B-Instruct, grok-2-latest, meta-llama/Meta-Llama-3.1-405B-Instruct-Turbo, mistralai/Mixtral-8x22B-Instruct-v0.1              C              B || A                                                                                                                                                                                                                  Eres un Médico que está realizando el examen MIR, un test estandarizado en español que determinará si obtienes tu residencia. Analiza cuidadosamente la siguiente pregunta y determina la respuesta correcta. Puedes razonar internamente, pero NO incluyas ningún razonamiento en la respuesta final. Responde ÚNICAMENTE con una letra: A, B, C o D. Si no estás seguro, responde con N. Cualquier texto adicional invalidará tu respuesta y restará puntos.\\n\\nPregunta: Hombre de 58 años, fumador de 30 cigarrillos diarios desde los 19 años, con antecedentes de hipertensión arterial mal controlada, diabetes mellitus tipo 2 y obesidad grado I. En estudio por disnea de 5 meses de evolución, asociando pérdida de peso, astenia e hiporexia. Como parte del estudio se realiza TC toracoabdominal describiéndose la presencia de un nódulo pulmonar inespecífico de 1,1 cm en lóbulo superior derecho sin datos de malignidad y un nódulo en la glándula suprarrenal derecha de 1,9 cm. ¿Qué pruebas complementarias habría que solicitar para el estudio del incidentaloma suprarrenal?:\\n\\nA) Test de supresión con 8 mg de dexametasona (DXM) nocturno, metanefrinas libres plasmáticas y resonancia magnética centrada en suprarrenales.\\nB) Metanefrinas fraccionadas en orina de 24 horas, test de supresión con 1 mg DXM nocturno, ratio renina/aldosterona y PET-TC con 18FDG.\\nC) Metanefrinas fraccionadas en orina de 24 horas, test de supresión con 1 mg DXM nocturno, ratio aldosterona/renina y TC centrada en adrenales.\\nD) Cortisol libre urinario, metanefrinas fraccionadas en muestra aislada de orina, ratio aldosterona/renina y resonancia magnética centrada en suprarrenales.\\n\\nTu respuesta (solamente una letra):\n",
            "MIR-2024-v01-t01-Q079              5                                                                                                                            Google-Gemini-gemini-1.5-pro, claude-3-7-sonnet-20250219, deepseek-ai/DeepSeek-V3, meta-llama/Meta-Llama-3.1-405B-Instruct-Turbo, o3-mini-2025-01-31              C  nan || D || B || A                                                                                                                                                                                                                                                                                                                                                                                                                                                                                                                                                                                                                                                                                                                                                     Eres un Médico que está realizando el examen MIR, un test estandarizado en español que determinará si obtienes tu residencia. Analiza cuidadosamente la siguiente pregunta y determina la respuesta correcta. Puedes razonar internamente, pero NO incluyas ningún razonamiento en la respuesta final. Responde ÚNICAMENTE con una letra: A, B, C o D. Si no estás seguro, responde con N. Cualquier texto adicional invalidará tu respuesta y restará puntos.\\n\\nPregunta: Mujer de 35 años consulta por cuadro de diplopia y debilidad proximal progresivas que empeora a lo largo de día. En la exploración neurológica se aprecia voz nasal, ptosis bilateral sin afectación pupilar, limitación para la abducción de ojo derecho y debilidad proximal con reflejos miotáticos conservados. Respecto a esta paciente señale la opción INCORRECTA:\\n\\nA) El nivel de anticuerpos es independiente de la gravedad de la enfermedad.\\nB) En ocasiones se asocia a otra enfermedad autoinmune.\\nC) Es frecuente la agregación familiar.\\nD) La respuesta a inmunosupresores es mayor en pacientes con anticuerpos antirreceptor de acetilcolina y anticuerpos antiMusk positivos.\\n\\nTu respuesta (solamente una letra):\n",
            "MIR-2024-v01-t01-Q069              5                                                                                                                            Google-Gemini-gemini-1.5-pro, deepseek-ai/DeepSeek-V3, grok-2-latest, meta-llama/Llama-3.3-70B-Instruct-Turbo, mistralai/Mixtral-8x22B-Instruct-v0.1              B              A || C                                                                                                                                                                                                                                                                                                                                                                                                                                                                                                                                                                                                                                                                                                                                                                                                                                  Eres un Médico que está realizando el examen MIR, un test estandarizado en español que determinará si obtienes tu residencia. Analiza cuidadosamente la siguiente pregunta y determina la respuesta correcta. Puedes razonar internamente, pero NO incluyas ningún razonamiento en la respuesta final. Responde ÚNICAMENTE con una letra: A, B, C o D. Si no estás seguro, responde con N. Cualquier texto adicional invalidará tu respuesta y restará puntos.\\n\\nPregunta: Respecto a las medidas a tomar ante un niño diagnosticado de tos ferina, en relación a sus contactos, indique la respuesta INCORRECTA:\\n\\nA) Tratar con antibióticos a toda la familia, independientemente de la edad, estado de inmunización y sintomatología.\\nB) Tratar con antibióticos a todo el personal sanitario que ha atendido al niño independientemente de la edad, estado de inmunización y sintomatología.\\nC) Vacunar a los adultos convivientes, aunque hayan padecido la enfermedad ya que la inmunidad no dura toda la vida.\\nD) Aislar al paciente al menos 5 días después de iniciar el tratamiento.\\n\\nTu respuesta (solamente una letra):\n",
            "MIR-2024-v01-t01-Q073              4                                                                                                                                     Google-Gemini-gemini-1.5-pro, deepseek-ai/DeepSeek-V3, meta-llama/Meta-Llama-3.1-405B-Instruct-Turbo, mistralai/Mixtral-8x22B-Instruct-v0.1              D   C || C. || B || A                                                                                                                                                                                                                                                                                                                                                                                                                                                                                                                                                                                                                                                                                                                                                                                                                                                                                                                                                                                                                                                                                                                                                                                                                                                             Eres un Médico que está realizando el examen MIR, un test estandarizado en español que determinará si obtienes tu residencia. Analiza cuidadosamente la siguiente pregunta y determina la respuesta correcta. Puedes razonar internamente, pero NO incluyas ningún razonamiento en la respuesta final. Responde ÚNICAMENTE con una letra: A, B, C o D. Si no estás seguro, responde con N. Cualquier texto adicional invalidará tu respuesta y restará puntos.\\n\\nPregunta: Los mecanismos de defensa que con mayor frecuencia se presentan en el trastorno delirante son los siguientes, EXCEPTO:\\n\\nA) Proyección.\\nB) Negación.\\nC) Formación reactiva.\\nD) Regresión.\\n\\nTu respuesta (solamente una letra):\n",
            "MIR-2024-v01-t01-Q068              4                                                                                                                                                                            claude-3-7-sonnet-20250219, grok-2-latest, mistralai/Mixtral-8x22B-Instruct-v0.1, o3-mini-2025-01-31              B       nan || A || D                                                                                                                                                                                                                                                                                                         Eres un Médico que está realizando el examen MIR, un test estandarizado en español que determinará si obtienes tu residencia. Analiza cuidadosamente la siguiente pregunta y determina la respuesta correcta. Puedes razonar internamente, pero NO incluyas ningún razonamiento en la respuesta final. Responde ÚNICAMENTE con una letra: A, B, C o D. Si no estás seguro, responde con N. Cualquier texto adicional invalidará tu respuesta y restará puntos.\\n\\nPregunta: Avisan de paritorio por parto a término. Se explora a recién nacida, sin esfuerzo de llanto, flácida y cianótica. Se seca y estimula y ante la ausencia de inicio de llanto se traslada a cuna térmica. Inicia llanto intenso y eficaz a los 30 segundos de vida, donde ya se podía observar recuperación del tono de forma completa con movimiento activo, frecuencia cardíaca por encima de 100 lpm y estornudo tras aspiración de secreciones faríngeas espesas. Sin embargo, persiste cianosis generalizada hasta 1 minuto y 20 segundos de vida a partir del cual presenta solamente acrocianosis. A los 4 minutos de vida inicia dificultad respiratoria (esfuerzo respiratorio irregular) consistente en polipnea, tiraje subcostal e intercostal leve-moderado, leve aleteo nasal y quejido espiratorio (con frecuencia cardíaca por encima de 100 lpm, movimiento activo, recuperación completa del color con coloración completamente rosada y reflejos de tos y estornudo), que se resuelve tras colocar presión positiva durante 2 minutos. ¿Qué puntuación de Apgar tiene esta recién nacida?\\n\\nA) 4/8.\\nB) 8/9.\\nC) 9/9.\\nD) 9/10.\\n\\nTu respuesta (solamente una letra):\n",
            "MIR-2024-v01-t01-Q164              4                                                                                                                                     Google-Gemini-gemini-1.5-pro, deepseek-ai/DeepSeek-V3, meta-llama/Meta-Llama-3.1-405B-Instruct-Turbo, mistralai/Mixtral-8x22B-Instruct-v0.1              C         A || D || B                                                                                                                                                                                                                                                                                                                                                                                                                                                                                                                                                                                                                                               Eres un Médico que está realizando el examen MIR, un test estandarizado en español que determinará si obtienes tu residencia. Analiza cuidadosamente la siguiente pregunta y determina la respuesta correcta. Puedes razonar internamente, pero NO incluyas ningún razonamiento en la respuesta final. Responde ÚNICAMENTE con una letra: A, B, C o D. Si no estás seguro, responde con N. Cualquier texto adicional invalidará tu respuesta y restará puntos.\\n\\nPregunta: Hombre de 56 años, nacido en Paraguay, acude a consulta, remitido por su médico de familia, por disnea progresiva y palpitaciones. Tiene un ECG en el que se observa extrasístoles ventriculares y bloqueo completo de rama derecha. Aporta una serología por ELISA IgG positiva frente a Trypanosoma cruzy. ¿Cuál de las siguientes respuestas es INCORRECTA?:\\n\\nA) Se debe realizar una prueba serológica con inmunofluorescencia para detectar IgG frente a T. cruzy.\\nB) La prueba de reacción en cadena de la polimerasa (PCR) tiene un valor diagnóstico limitado en esta fase de la enfermedad.\\nC) Debe iniciar tratamiento con benznidazol para modificar la evolución de la enfermedad.\\nD) Si se confirma el diagnóstico, debe estudiar a los familiares cercanos para identificar otros casos.\\n\\nTu respuesta (solamente una letra):\n",
            "MIR-2024-v01-t01-Q183              4                                                                                                                                            Qwen/Qwen2-VL-72B-Instruct, meta-llama/Meta-Llama-3.1-405B-Instruct-Turbo, mistralai/Mixtral-8x22B-Instruct-v0.1, o3-mini-2025-01-31              B      D || nan || D.                                                                                                                                                                                                                                                                                                                                                                                                                                                                                                                                                                                                                                 Eres un Médico que está realizando el examen MIR, un test estandarizado en español que determinará si obtienes tu residencia. Analiza cuidadosamente la siguiente pregunta y determina la respuesta correcta. Puedes razonar internamente, pero NO incluyas ningún razonamiento en la respuesta final. Responde ÚNICAMENTE con una letra: A, B, C o D. Si no estás seguro, responde con N. Cualquier texto adicional invalidará tu respuesta y restará puntos.\\n\\nPregunta: La telemonitorización domiciliaria ha demostrado beneficios en pacientes con insuficiencia cardíaca. Una mujer de 82 años con insuficiencia cardíaca y diabetes tratada con insulina está en programa de telemonitorización y remite cada semana una serie de parámetros a su médico de familia. La semana pasada presentaba presión arterial 140/85 mmHg. Glucemia capilar basal 120 mg/dL. Glucemia postprandial 2 h tras la comida 160 mg/dL. Peso 83 kg. Frecuencia cardíaca 72 lpm. Al recibir los parámetros de esta semana que se exponen a continuación, su médico decide citar a la paciente en consulta. ¿Cuál de los siguientes parámetros ha motivado dicha decisión?:\\n\\nA) Presión arterial 135/82 mmHg.\\nB) Peso 85 Kg.\\nC) Glucemia capilar basal 130 mg/dL.\\nD) Glucemia capilar postprandial 190 mg/dL.\\n\\nTu respuesta (solamente una letra):\n",
            "MIR-2024-v01-t01-Q192              4                                                                                                                                                                     Google-Gemini-gemini-1.5-pro, deepseek-ai/DeepSeek-V3, grok-2-latest, mistralai/Mixtral-8x22B-Instruct-v0.1              A              B || D                                                                                                                                                                                                                                                                                                                                                                                                                                                                                                                                                                                                                                                          Eres un Médico que está realizando el examen MIR, un test estandarizado en español que determinará si obtienes tu residencia. Analiza cuidadosamente la siguiente pregunta y determina la respuesta correcta. Puedes razonar internamente, pero NO incluyas ningún razonamiento en la respuesta final. Responde ÚNICAMENTE con una letra: A, B, C o D. Si no estás seguro, responde con N. Cualquier texto adicional invalidará tu respuesta y restará puntos.\\n\\nPregunta: Acude a urgencias un hombre de 34 años, sin diagnósticos previos, con antecedente de consumo de drogas por vía parenteral, con fiebre, tos no productiva y disnea progresiva de varias semanas de evolución. Se realiza radiografía de tórax que muestra infiltrado intersticial bilateral. En analítica sanguínea destaca linfopenia y lactato deshidrogenasa elevada. La saturación de oxígeno es del 88% respirando aire ambiente en reposo. ¿Cuál de las siguientes aseveraciones le parece INCORRECTA?:\\n\\nA) Iniciaría tratamiento de soporte, oxigenoterapia y ceftriaxona.\\nB) Iniciaría tratamiento con Trimetropim/sulfametoxazol, corticoides y oxigenoterapia.\\nC) Solicitaría serología del virus de la inmunodeficiencia humana.\\nD) Solicitaría estudio microbiológico de esputo.\\n\\nTu respuesta (solamente una letra):\n",
            "MIR-2024-v01-t01-Q191              4                                                                                                                                                                          Google-Gemini-gemini-1.5-pro, grok-2-latest, mistralai/Mixtral-8x22B-Instruct-v0.1, o3-mini-2025-01-31              B              A || D                                                                                                                                                                                                                                                                                                                                                                                                                                                                                                            Eres un Médico que está realizando el examen MIR, un test estandarizado en español que determinará si obtienes tu residencia. Analiza cuidadosamente la siguiente pregunta y determina la respuesta correcta. Puedes razonar internamente, pero NO incluyas ningún razonamiento en la respuesta final. Responde ÚNICAMENTE con una letra: A, B, C o D. Si no estás seguro, responde con N. Cualquier texto adicional invalidará tu respuesta y restará puntos.\\n\\nPregunta: Hombre de 72 años sin alergias medicamentosas, no fumador y con antecedentes de hipertensión, dislipemia y diabetes. En tratamiento con ácido acetilsalicílico, atorvastatina, enalapril y metformina. Acude a urgencias por agudización de lumbalgia crónica de meses de evolución. Refiere que el dolor no es irradiado, y no mejora mucho en reposo. Ha tomado varios analgésicos sin ninguna mejoría. A la exploración no presenta dolor en espinosas dorsolumbares, el signo de Lasegue es negativo, no presenta limitación a la movilidad, reflejos normales y no hay alteración de sensibilidad o fuerza. Pulsos pedios ausentes y tibiales débiles. No edemas de miembros inferiores. Ante la sospecha diagnóstica, ¿qué prueba nos daría el diagnóstico más rápidamente con mayor sensibilidad y especificidad?:\\n\\nA) Ecografía abdominal.\\nB) TC toraco-abdominal.\\nC) Resonancia magnética.\\nD) Radiografía de columna lumbosacra.\\n\\nTu respuesta (solamente una letra):\n",
            "MIR-2024-v01-t01-Q198              4                                                                                                                                                             Google-Gemini-gemini-1.5-pro, deepseek-ai/DeepSeek-V3, grok-2-latest, meta-llama/Meta-Llama-3.1-405B-Instruct-Turbo              C              D || B                                                                                                                                                                                                                                                                                                                                                                                                                                                                                                                                            Eres un Médico que está realizando el examen MIR, un test estandarizado en español que determinará si obtienes tu residencia. Analiza cuidadosamente la siguiente pregunta y determina la respuesta correcta. Puedes razonar internamente, pero NO incluyas ningún razonamiento en la respuesta final. Responde ÚNICAMENTE con una letra: A, B, C o D. Si no estás seguro, responde con N. Cualquier texto adicional invalidará tu respuesta y restará puntos.\\n\\nPregunta: Una lactante prematura de 32 semanas, consulta al mes de nacimiento por 3 hemangiomas infantiles superficiales que han crecido en las 2 últimas semanas en el antebrazo derecho, en el tórax y en la espalda. Respecto a los hemangiomas infantiles que presenta la paciente, señale la respuesta INCORRECTA:\\n\\nA) Tienen 3 fases evolutivas: una fase proliferativa en la que la lesión crece aceleradamente, un periodo de estabilidad y una fase involutiva.\\nB) Suponen la única lesión positiva para el marcador GLUT-1 (proteína transportadora de glucosa).\\nC) Es necesario realizar estudios de imagen (la ecografía sería la técnica de elección) por el riesgo aumentado de hemangiomas a nivel visceral.\\nD) La mayoría de los hemangiomas infantiles tiene un curso clínico predecible por lo que, si no hay compromiso funcional ni estético, una opción válida es no tratar a estos pacientes.\\n\\nTu respuesta (solamente una letra):\n",
            "MIR-2024-v01-t01-Q092              4                                                                                                                                   Google-Gemini-gemini-1.5-pro, deepseek-ai/DeepSeek-V3, meta-llama/Llama-3.3-70B-Instruct-Turbo, meta-llama/Meta-Llama-3.1-405B-Instruct-Turbo              C              D || A                                                                                                                                                                                                                                                                                                                                                                                                                                                                                                                                                                                                                                                                                                                                                                                                                                                                                                                                                                                                                                    Eres un Médico que está realizando el examen MIR, un test estandarizado en español que determinará si obtienes tu residencia. Analiza cuidadosamente la siguiente pregunta y determina la respuesta correcta. Puedes razonar internamente, pero NO incluyas ningún razonamiento en la respuesta final. Responde ÚNICAMENTE con una letra: A, B, C o D. Si no estás seguro, responde con N. Cualquier texto adicional invalidará tu respuesta y restará puntos.\\n\\nPregunta: Desde el punto de vista fisiopatológico la osteonecrosis de la cabeza femoral se puede desencadenar por todos los mecanismos aquí descritos EXCEPTO:\\n\\nA) Anomalías en el flujo vascular por factores genéticos.\\nB) Oclusión intravascular por émbolos (lípidos, nitrógeno, hematíes anómalos).\\nC) Dehiscencia de la íntima arterial de los vasos.\\nD) Compresión extravascular a consecuencia de un acúmulo graso.\\n\\nTu respuesta (solamente una letra):\n",
            "MIR-2024-v01-t01-Q150              4                                                                                                                                                                Google-Gemini-gemini-1.5-pro, deepseek-ai/DeepSeek-V3, mistralai/Mixtral-8x22B-Instruct-v0.1, o3-mini-2025-01-31              D       nan || B || A                                                                                                                                                                                                                                                                                                                                                                                                                                                                                                                                                                                                                                                                                                                                                                                                                                                                                                                                                                                                                                                                                                                                                        Eres un Médico que está realizando el examen MIR, un test estandarizado en español que determinará si obtienes tu residencia. Analiza cuidadosamente la siguiente pregunta y determina la respuesta correcta. Puedes razonar internamente, pero NO incluyas ningún razonamiento en la respuesta final. Responde ÚNICAMENTE con una letra: A, B, C o D. Si no estás seguro, responde con N. Cualquier texto adicional invalidará tu respuesta y restará puntos.\\n\\nPregunta: En los pacientes mayores con síndrome de inmovilidad una de las siguientes manifestaciones clínicas o consecuencias NO es atribuible al mismo:\\n\\nA) Déficit intelectual.\\nB) Aumento de la frecuencia cardíaca.\\nC) Reducción de la sensibilidad a la insulina.\\nD) Balance nitrogenado positivo.\\n\\nTu respuesta (solamente una letra):\n",
            "MIR-2024-v01-t01-Q121              4                                                                                                                                                           Google-Gemini-gemini-1.5-pro, claude-3-7-sonnet-20250219, meta-llama/Llama-3.3-70B-Instruct-Turbo, o3-mini-2025-01-31              D       B || nan || A                                                                                                                                                                                                                                                                                                                                                                                                                                                                                                                                                                                                                                                                                                                                                                                                                                                                                                                          Eres un Médico que está realizando el examen MIR, un test estandarizado en español que determinará si obtienes tu residencia. Analiza cuidadosamente la siguiente pregunta y determina la respuesta correcta. Puedes razonar internamente, pero NO incluyas ningún razonamiento en la respuesta final. Responde ÚNICAMENTE con una letra: A, B, C o D. Si no estás seguro, responde con N. Cualquier texto adicional invalidará tu respuesta y restará puntos.\\n\\nPregunta: Respecto al divertículo faringoesofágico o divertículo de Zenker, es cierto que:\\n\\nA) Es un divertículo por tracción y consta de todas las capas de la pared esofágica.\\nB) Es menos frecuente que los divertículos del tercio medio del esófago en la actualidad.\\nC) No se trata con miotomía del cricofaríngeo si el tamaño es igual o menor a 2 cm.\\nD) Cuando se interviene mediante abordaje abierto para practicar una diverticulectomía o una divertículopexia, la incisión se realiza en el lado izquierdo del cuello.\\n\\nTu respuesta (solamente una letra):\n",
            "MIR-2024-v01-t01-Q087              4                                                                                                                                        Google-Gemini-gemini-1.5-pro, Qwen/Qwen2-VL-72B-Instruct, meta-llama/Llama-3.3-70B-Instruct-Turbo, mistralai/Mixtral-8x22B-Instruct-v0.1              A                   C                                                                                                                                                                                                                                                                                                                                                                                                                                                                                                                                                                                                                                                                                                                                                                                                                                 Eres un Médico que está realizando el examen MIR, un test estandarizado en español que determinará si obtienes tu residencia. Analiza cuidadosamente la siguiente pregunta y determina la respuesta correcta. Puedes razonar internamente, pero NO incluyas ningún razonamiento en la respuesta final. Responde ÚNICAMENTE con una letra: A, B, C o D. Si no estás seguro, responde con N. Cualquier texto adicional invalidará tu respuesta y restará puntos.\\n\\nPregunta: Mujer de 57 años ingresada en la Unidad de Cuidados Intensivos por hipotensión persistente y fracaso multiorgánico. Tras monitorización hemodinámica avanzada, la paciente presenta frecuencia cardíaca de 105 lpm, resistencias vasculares sistémicas de 400 din-seg-m2/cm5, gasto cardíaco de 8 L/min, presión venosa central de 5 mmHg, variación del volumen sistólico del 9% e índice de agua pulmonar extravascular indexado de 5 mL/kg. ¿A qué tipo de shock orienta dicha monitorización hemodinámica avanzada?:\\n\\nA) Shock distributivo.\\nB) Shock cardiogénico.\\nC) Shock hipovolémico.\\nD) Shock obstructivo.\\n\\nTu respuesta (solamente una letra):\n",
            "MIR-2024-v01-t01-Q127              3                                                                                                                                                              Google-Gemini-gemini-1.5-pro, meta-llama/Meta-Llama-3.1-405B-Instruct-Turbo, mistralai/Mixtral-8x22B-Instruct-v0.1              B                   A                                                                                                                                                                                                                                                                                                                                                                                                                                                                                                                                                                                                                                                                                                                                                                                                                                                                                                                                                                                                                                                                                                                               Eres un Médico que está realizando el examen MIR, un test estandarizado en español que determinará si obtienes tu residencia. Analiza cuidadosamente la siguiente pregunta y determina la respuesta correcta. Puedes razonar internamente, pero NO incluyas ningún razonamiento en la respuesta final. Responde ÚNICAMENTE con una letra: A, B, C o D. Si no estás seguro, responde con N. Cualquier texto adicional invalidará tu respuesta y restará puntos.\\n\\nPregunta: La forma más eficaz de evaluación preoperatoria de la función del cuerpo esofágico y del esfínter esofágico inferior en un paciente con sospecha de reflujo gastroesofágico es:\\n\\nA) La monitorización ambulatoria del pH y la impedancia.\\nB) Manometría esofágica.\\nC) Esofagoduodenoscopia.\\nD) Esofagograma con bario.\\n\\nTu respuesta (solamente una letra):\n",
            "MIR-2024-v01-t01-Q091              3                                                                                                                                                                                      Qwen/Qwen2-VL-72B-Instruct, deepseek-ai/DeepSeek-V3, mistralai/Mixtral-8x22B-Instruct-v0.1              B              C || A                                                                                                                                                                                                                                                                                                                                                                                                                                                                                                                                                                                                                                                                                                                                                                                                                                                                                                                                                                     Eres un Médico que está realizando el examen MIR, un test estandarizado en español que determinará si obtienes tu residencia. Analiza cuidadosamente la siguiente pregunta y determina la respuesta correcta. Puedes razonar internamente, pero NO incluyas ningún razonamiento en la respuesta final. Responde ÚNICAMENTE con una letra: A, B, C o D. Si no estás seguro, responde con N. Cualquier texto adicional invalidará tu respuesta y restará puntos.\\n\\nPregunta: Mujer de 19 años que, practicando patinaje sobre ruedas, sufre un traumatismo indirecto de la rodilla derecha, con luxación de rótula tratada en urgencias. Acude a revisión 2 meses más tarde y refiere que nota dolor y sensación de inestabilidad y subluxación frecuente con la actividad física. De los siguientes elementos, señale el que NO favorece la inestabilidad fémoro-patelar:\\n\\nA) Anteversión femoral.\\nB) Torsión tibial interna.\\nC) Genu valgo.\\nD) Patela alta.\\n\\nTu respuesta (solamente una letra):\n",
            "MIR-2024-v01-t01-Q131              3                                                                                                                                                                      Qwen/Qwen2-VL-72B-Instruct, meta-llama/Llama-3.3-70B-Instruct-Turbo, mistralai/Mixtral-8x22B-Instruct-v0.1              D                   B                                                                                                                                                                                                                                       Eres un Médico que está realizando el examen MIR, un test estandarizado en español que determinará si obtienes tu residencia. Analiza cuidadosamente la siguiente pregunta y determina la respuesta correcta. Puedes razonar internamente, pero NO incluyas ningún razonamiento en la respuesta final. Responde ÚNICAMENTE con una letra: A, B, C o D. Si no estás seguro, responde con N. Cualquier texto adicional invalidará tu respuesta y restará puntos.\\n\\nPregunta: Mujer de 54 años diagnosticada de diabetes mellitus tipo 2 hace tres años en tratamiento con metformina y lisinopril con buen control metabólico. Es enviada a consulta de Nefrología por creatinina sérica de 1,7 mg/dL, filtrado glomerular estimado de 49 mL/min/1,73m2 y cociente albumina/creatinina en orina de 250 mg/g. En los siguientes meses se confirma estabilidad de la función renal, las cifras de presión arterial se mantienen alrededor de 125/70 mmHg, en la ecografía se observan riñones de tamaño y morfología normal y en el estudio de fondo de ojo se objetiva una retinopatía diabética grado 2. ¿Cuál de las siguientes es la actitud a seguir?:\\n\\nA) No hacer modificaciones en el tratamiento dada la estabilidad y buen control de su enfermedad.\\nB) Añadir un antagonista del receptor de la angiotensina II para lograr un mejor control de la presión arterial y disminuir la albuminuria.\\nC) Indicar la realización de una biopsia renal para confirmar la existencia de una enfermedad renal diabética.\\nD) Iniciar tratamiento con un inhibidor del cotransportador de sodio-glucosa tipo 2 que promueve la excreción urinaria de glucosa y tiene un efecto nefroprotector.\\n\\nTu respuesta (solamente una letra):\n",
            "MIR-2024-v01-t01-Q084              3                                                                                                                                                                                                         claude-3-7-sonnet-20250219, deepseek-ai/DeepSeek-V3, o3-mini-2025-01-31              D            nan || A                                                                                                                                                                                                                                                                                                                                                                                                                                                                                                                                                                                                                                               Eres un Médico que está realizando el examen MIR, un test estandarizado en español que determinará si obtienes tu residencia. Analiza cuidadosamente la siguiente pregunta y determina la respuesta correcta. Puedes razonar internamente, pero NO incluyas ningún razonamiento en la respuesta final. Responde ÚNICAMENTE con una letra: A, B, C o D. Si no estás seguro, responde con N. Cualquier texto adicional invalidará tu respuesta y restará puntos.\\n\\nPregunta: Hombre de 81 años con antecedentes de HTA, dislipemia y enfermedad de Alzheimer leve. Avisa su familia porque lo han encontrado en su casa caído en el suelo y no es capaz de movilizar extremidades derechas. Llega al hospital trasladado por emergencias como código ictus. A la exploración física destaca paresia facial derecha supranuclear, afasia global, hemianopsia derecha y hemiplejia de miembros derechos. La TC craneal se informa como ASPECTS 8 sin datos de sangrado. En angioTC oclusión de segmento M2 de división anterior de ACM izquierda. ¿Cuál de los siguientes es el mejor tratamiento inicial para este paciente?\\n\\nA) Fibrinolisis con alteplasa.\\nB) Doble antiagregación y estatinas.\\nC) Manejo conservador por los antecedentes del paciente.\\nD) Trombectomía mecánica.\\n\\nTu respuesta (solamente una letra):\n",
            "MIR-2024-v01-t01-Q067              3                                                                                                                                                                                      Qwen/Qwen2-VL-72B-Instruct, deepseek-ai/DeepSeek-V3, mistralai/Mixtral-8x22B-Instruct-v0.1              B                   A                                                                                                                                                                                                                                                                                                                                                                                                                                                                                                                                                                                                                                                                                                                   Eres un Médico que está realizando el examen MIR, un test estandarizado en español que determinará si obtienes tu residencia. Analiza cuidadosamente la siguiente pregunta y determina la respuesta correcta. Puedes razonar internamente, pero NO incluyas ningún razonamiento en la respuesta final. Responde ÚNICAMENTE con una letra: A, B, C o D. Si no estás seguro, responde con N. Cualquier texto adicional invalidará tu respuesta y restará puntos.\\n\\nPregunta: Un lactante de 6 meses acude a urgencias por presentar vómitos y diarrea en las últimas 12 horas. Su peso es de 6 kg. Hace 24 horas su peso era de 6,5 kg. Presenta frecuencia cardíaca 140 lpm, frecuencia respiratoria 30 rpm, presión arterial 90/40 mmHg. En la gasometría venosa se observa pH 7,25, pCO2 33 mmHg, pO2 45 mmHg, bicarbonato 17 mmol/L, exceso de bases -7, lactato 2,5 mmol/L. El sodio es 143 mmol/L. ¿Cuál es su situación en el equilibrio ácido base?:\\n\\nA) Acidosis metabólica sin compensar respiratoriamente.\\nB) Acidosis metabólica parcialmente compensada respiratoriamente.\\nC) Acidosis respiratoria parcialmente compensada metabólicamente.\\nD) Alcalosis respiratoria compensada metabólicamente.\\n\\nTu respuesta (solamente una letra):\n",
            "MIR-2024-v01-t01-Q041              3                                                                                                                                                                      Qwen/Qwen2-VL-72B-Instruct, meta-llama/Llama-3.3-70B-Instruct-Turbo, mistralai/Mixtral-8x22B-Instruct-v0.1              D                   A                                                                                                                                                                                                                                                                                                                                                                                                                                                                                                                                                                                                                                                                                                                                                                                                                                                                                                                      Eres un Médico que está realizando el examen MIR, un test estandarizado en español que determinará si obtienes tu residencia. Analiza cuidadosamente la siguiente pregunta y determina la respuesta correcta. Puedes razonar internamente, pero NO incluyas ningún razonamiento en la respuesta final. Responde ÚNICAMENTE con una letra: A, B, C o D. Si no estás seguro, responde con N. Cualquier texto adicional invalidará tu respuesta y restará puntos.\\n\\nPregunta: Al finalizar el periodo de seguimiento en el estudio PREDIMET (“Primary Prevention of Cardiovascular Disease with a Mediterranean Diet”), el 3,8% de los individuos asignados a dieta mediterránea presentaron algún tipo de evento cardiovascular (infartos de miocardio, ictus o muertes de origen cardiovascular), frente al 4,4% de eventos ocurridos en el grupo control. ¿Cuál es el número necesario de pacientes a tratar (NNT) con dieta mediterránea para evitar un evento cardiovascular?:\\n\\nA) 26\\nB) 60\\nC) 80\\nD) 167\\n\\nTu respuesta (solamente una letra):\n",
            "MIR-2024-v01-t01-Q148              3                                                                                                                                                                                   Qwen/Qwen2-VL-72B-Instruct, meta-llama/Meta-Llama-3.1-405B-Instruct-Turbo, o3-mini-2025-01-31              A        B || D || B.                                                                                                                                                                                                                                                                                                                                                                                                        Eres un Médico que está realizando el examen MIR, un test estandarizado en español que determinará si obtienes tu residencia. Analiza cuidadosamente la siguiente pregunta y determina la respuesta correcta. Puedes razonar internamente, pero NO incluyas ningún razonamiento en la respuesta final. Responde ÚNICAMENTE con una letra: A, B, C o D. Si no estás seguro, responde con N. Cualquier texto adicional invalidará tu respuesta y restará puntos.\\n\\nPregunta: Mujer de 50 años diagnosticada de síndrome mielodisplásico con monosomía del cromosoma 7 (45 XX -7 20) es sometida a un trasplante hematopoyético alogénico con sangre de cordón umbilical de un hombre compatible procedente de un banco de otro país. A los tres meses del trasplante con recuperación completa de las cifras hematológicas periféricas se realiza una punción de médula ósea, que no presenta alteraciones morfológicas y un estudio cromosómico con un cariotipo 47 XXY 20. ¿Cuál es la explicación de estos hallazgos?:\\n\\nA) El donante tiene un síndrome de Klinefelter no diagnosticado.\\nB) En la médula ósea coexisten células del donante y del receptor (quimerismo mixto).\\nC) Tras el trasplante ha existido un fenómeno de fusión celular entre las células del donante y receptor que ha originado el nuevo cariotipo.\\nD) En el cariotipo realizado precozmente tras un trasplante hematopoyético es habitual encontrar alteraciones cromosómicas transitorias de este tipo que carecen de significación clínica.\\n\\nTu respuesta (solamente una letra):\n",
            "MIR-2024-v01-t01-Q175              3                                                                                                                                                                Qwen/Qwen2-VL-72B-Instruct, meta-llama/Meta-Llama-3.1-405B-Instruct-Turbo, mistralai/Mixtral-8x22B-Instruct-v0.1              B              C || D                                                                                                                                                                                                                                                                                                                                                                                                                                                                                                                                                                                                                                                                                                                                                                                                                                                                                                                                                                                                                                                                                                                                                                                                        Eres un Médico que está realizando el examen MIR, un test estandarizado en español que determinará si obtienes tu residencia. Analiza cuidadosamente la siguiente pregunta y determina la respuesta correcta. Puedes razonar internamente, pero NO incluyas ningún razonamiento en la respuesta final. Responde ÚNICAMENTE con una letra: A, B, C o D. Si no estás seguro, responde con N. Cualquier texto adicional invalidará tu respuesta y restará puntos.\\n\\nPregunta: ¿Cuál de las siguientes manifestaciones clínicas es la más característica de la miopatía de la dermatomiositis?:\\n\\nA) Dificultad para andar.\\nB) Dificultad para subir escaleras.\\nC) Dificultad para abrocharse los botones.\\nD) Dolor muscular.\\n\\nTu respuesta (solamente una letra):\n",
            "MIR-2024-v01-t01-Q142              3                                                                                                                                                                                              Google-Gemini-gemini-1.5-pro, grok-2-latest, mistralai/Mixtral-8x22B-Instruct-v0.1              A                   B                                                                                                                                                                                                                                                                                                                                                                                                                                                          Eres un Médico que está realizando el examen MIR, un test estandarizado en español que determinará si obtienes tu residencia. Analiza cuidadosamente la siguiente pregunta y determina la respuesta correcta. Puedes razonar internamente, pero NO incluyas ningún razonamiento en la respuesta final. Responde ÚNICAMENTE con una letra: A, B, C o D. Si no estás seguro, responde con N. Cualquier texto adicional invalidará tu respuesta y restará puntos.\\n\\nPregunta: ¿Cuál de estos pacientes en tratamiento con quimioterapia cumple criterios de neutropenia febril?:\\n\\nA) Mujer de 38 años intervenida de cáncer de mama en curso de quimioterapia adyuvante que acude a urgencias por temperatura de 38,5ºC, odinofagia, rinorrea y buen estado general. Neutrófilos 400/mm3.\\nB) Mujer de 68 años intervenida de cáncer de colon estadio IV en curso de quimioterapia de primera línea que acude a urgencias por temperatura de 37,8ºC, diarrea y mucositis grado 2. Hemodinamicamente estable. Neutrófilos 300/mm3.\\nC) Hombre de 50 años intervenido de adenocarcinoma gástrico en curso de quimioterapia adyuvante que acude a urgencias por escalofríos y temperatura de 37,5ºC sin otra sintomatología acompañante. Neutrófilos 600/mm3\\nD) Hombre de 65 años afecto de adenocarcinoma gástrico metastásico en curso de quimioterapia de segunda línea con ECOG 1 que acude a urgencias por temperatura de 38,6 ºC y diarrea grado 1. Neutrófilos 700/mm3.\\n\\nTu respuesta (solamente una letra):\n",
            "MIR-2024-v01-t01-Q140              3                                                                                                                                                   meta-llama/Llama-3.3-70B-Instruct-Turbo, meta-llama/Meta-Llama-3.1-405B-Instruct-Turbo, mistralai/Mixtral-8x22B-Instruct-v0.1              B             D || C.                                                                                                                                                                                                                                                                                                                                                                                                                                                                                                                                                                                                                                                                                                                                                                                                                                                                                                                                                Eres un Médico que está realizando el examen MIR, un test estandarizado en español que determinará si obtienes tu residencia. Analiza cuidadosamente la siguiente pregunta y determina la respuesta correcta. Puedes razonar internamente, pero NO incluyas ningún razonamiento en la respuesta final. Responde ÚNICAMENTE con una letra: A, B, C o D. Si no estás seguro, responde con N. Cualquier texto adicional invalidará tu respuesta y restará puntos.\\n\\nPregunta: Mujer de 60 años con diagnóstico reciente de cáncer de mama metastásico con alta carga tumoral. Acude a Urgencias 48 horas después de haber recibido el primer ciclo de tratamiento, con cuadro de náuseas, vómitos, diarrea, dolor abdominal, astenia intensa y letargia. En la analítica sanguínea presenta alteración de la función renal. ¿Cuál de las siguientes alteraciones analíticas esperaría encontrar también?:\\n\\nA) Hipouricemia.\\nB) Hiperpotasemia.\\nC) Hipofosfatemia.\\nD) Hipercalcemia.\\n\\nTu respuesta (solamente una letra):\n",
            "MIR-2024-v01-t01-Q199              3                                                                                                                                                                                              claude-3-7-sonnet-20250219, grok-2-latest, meta-llama/Llama-3.3-70B-Instruct-Turbo              D                   B                                                                                                                                                                                                                                                                                                                                                                                                                                                                                                                                                                                                                                                                                                     Eres un Médico que está realizando el examen MIR, un test estandarizado en español que determinará si obtienes tu residencia. Analiza cuidadosamente la siguiente pregunta y determina la respuesta correcta. Puedes razonar internamente, pero NO incluyas ningún razonamiento en la respuesta final. Responde ÚNICAMENTE con una letra: A, B, C o D. Si no estás seguro, responde con N. Cualquier texto adicional invalidará tu respuesta y restará puntos.\\n\\nPregunta: Hombre de 45 años con antecedentes personales de hipertensión arterial, dislipemia, hígado graso y esclerosis múltiple y en tratamiento con fingolimod, enalapril y simvastatina, presenta una psoriasis con afectación de más del 10% de la superficie corporal y un índice de la severidad del área de psoriasis (PASI) de 14. Había realizado previamente tratamiento con acitretina durante 15 meses con escasa mejoría. El paciente pregunta por otra alternativa terapéutica que consiga mejorar su psoriasis. ¿Cuál considera que es la mejor opción de tratamiento?:\\n\\nA) Fototerapia.\\nB) Biológico con mecanismo de acción anti-TNF (factor de necrosis tumoral).\\nC) Ciclosporina.\\nD) Biológico con mecanismo de acción antiInterleucina\\n\\nTu respuesta (solamente una letra):\n",
            "MIR-2024-v01-t01-Q135              3                                                                                                                                                                         deepseek-ai/DeepSeek-V3, meta-llama/Llama-3.3-70B-Instruct-Turbo, mistralai/Mixtral-8x22B-Instruct-v0.1              B                   D                                                                                                                                                                                                                                                                                                                                                                                                                                                                                                         Eres un Médico que está realizando el examen MIR, un test estandarizado en español que determinará si obtienes tu residencia. Analiza cuidadosamente la siguiente pregunta y determina la respuesta correcta. Puedes razonar internamente, pero NO incluyas ningún razonamiento en la respuesta final. Responde ÚNICAMENTE con una letra: A, B, C o D. Si no estás seguro, responde con N. Cualquier texto adicional invalidará tu respuesta y restará puntos.\\n\\nPregunta: Hombre de 72 años, remitido a consulta tras un hallazgo en una TC solicitada para el estudio de molestias digestivas inespecíficas. Se objetiva una lesión sólida, exofítica, heterogénea, con realce intenso tras la administración de contraste, de 4,9 cm de diámetro, dependiente del polo inferior renal derecho; en el riñón izquierdo litiasis piélica de 3 cm que condiciona hidronefrosis y atrofia cortical. Antecedentes personales de hipertensión, sobrepeso (mide 1,6 m y pesa 95 kg) y fumador habitual. En la analítica destaca creatinina sérica de 1,5 mg/dL. Señale de entre las siguientes opciones de tratamiento la que considera más adecuada:\\n\\nA) Nefrectomía bilateral, con suprarrenalectomía derecha y linfadenectomía retroperitoneal.\\nB) Nefrectomía parcial derecha.\\nC) Biopsia percutánea. Quimioterapia neoadyuvante y nefrectomía radical derecha.\\nD) Nefrectomía radical derecha. Inmunoterapia adyuvante.\\n\\nTu respuesta (solamente una letra):\n",
            "MIR-2024-v01-t01-Q089              2                                                                                                                                                                                            meta-llama/Meta-Llama-3.1-405B-Instruct-Turbo, mistralai/Mixtral-8x22B-Instruct-v0.1              B              C || D                                                                                                                                                                                                                                                                                                                                                                                                                                                                                                                                                                                                                                                                                                                      Eres un Médico que está realizando el examen MIR, un test estandarizado en español que determinará si obtienes tu residencia. Analiza cuidadosamente la siguiente pregunta y determina la respuesta correcta. Puedes razonar internamente, pero NO incluyas ningún razonamiento en la respuesta final. Responde ÚNICAMENTE con una letra: A, B, C o D. Si no estás seguro, responde con N. Cualquier texto adicional invalidará tu respuesta y restará puntos.\\n\\nPregunta: Jugador de baloncesto de 42 años que acude a urgencias por dolor de tres días de evolución en cara anterior de muslo derecho de tipo lancinante. Inicia el dolor tras mal gesto en flexión de la columna lumbar, presentando primero lumbalgia y después este dolor irradiado. En la exploración presenta un Lasegue invertido positivo, con un reflejo osteotendinoso rotuliano derecho 2/4. No hay déficit motor. La orientación diagnóstica más probable es:\\n\\nA) Hernia discal L4-L5 migrada posterior que ocasiona una clínica de silla de montar.\\nB) Hernia discal foraminal L4-L5 derecha que comprime la raíz de L4\\nC) Hernia discal foraminal L4-L5 derecha que comprime la raíz de L5\\nD) Meralgia parestésica derecha.\\n\\nTu respuesta (solamente una letra):\n",
            "MIR-2024-v01-t01-Q190              2                                                                                                                                                                                                                                Google-Gemini-gemini-1.5-pro, o3-mini-2025-01-31              A            nan || B                                                                                                                                                                                                                                                                                                                                                                                          Eres un Médico que está realizando el examen MIR, un test estandarizado en español que determinará si obtienes tu residencia. Analiza cuidadosamente la siguiente pregunta y determina la respuesta correcta. Puedes razonar internamente, pero NO incluyas ningún razonamiento en la respuesta final. Responde ÚNICAMENTE con una letra: A, B, C o D. Si no estás seguro, responde con N. Cualquier texto adicional invalidará tu respuesta y restará puntos.\\n\\nPregunta: Hombre de 36 años sin antecedentes de interés que ingresa en observación de urgencias en espera de intervención quirúrgica por fractura de fémur a nivel diafisario por accidente de tráfico. El paciente llega algo taquicárdico 102 lpm, con gafas nasales para mantener saturación de oxígeno en torno al 96%, 20 respiraciones por minuto y presión arterial 100/60 mmHg. Se procede a ajuste de analgesia y a las 20 horas de estancia en observación indican que el paciente puede ir a quirófano pero presenta un aumento de disnea con saturación del 89% con mascarilla tipo Venturi, 28 respiraciones por minuto, taquicardia a 110 lpm, fiebre de 38ºC y se encuentra algo obnubilado. En la analítica destaca anemia y trombocitopenia. No presenta aumento de volumen en ninguna de las 2 piernas. ¿Qué prueba complementaria tiene mayor sensibilidad y especificidad para la sospecha diagnóstica de este paciente?\\n\\nA) AngioTC helicoidal con contraste.\\nB) Gammagrafía pulmonar de perfusión.\\nC) Radiografía de tórax.\\nD) Ecocardiografía.\\n\\nTu respuesta (solamente una letra):\n",
            "MIR-2024-v01-t01-Q208              2                                                                                                                                                                                                  meta-llama/Llama-3.3-70B-Instruct-Turbo, mistralai/Mixtral-8x22B-Instruct-v0.1              B              C || A                                                                                                                                                                                                                                                                                                                                                                                                                                                                                                                                                                                  Eres un Médico que está realizando el examen MIR, un test estandarizado en español que determinará si obtienes tu residencia. Analiza cuidadosamente la siguiente pregunta y determina la respuesta correcta. Puedes razonar internamente, pero NO incluyas ningún razonamiento en la respuesta final. Responde ÚNICAMENTE con una letra: A, B, C o D. Si no estás seguro, responde con N. Cualquier texto adicional invalidará tu respuesta y restará puntos.\\n\\nPregunta: Hombre de 80 años con antecedentes de hipertensión arterial y diabetes mellitus, así como un accidente isquémico cerebral transitorio 2 años antes. Hospitalizado actualmente tras presentar un infarto de miocardio sin elevación del segmento ST (IAMSEST). En la coronariografía se observa enfermedad arterial coronaria multivaso no revascularizable. En la analítica la función renal es normal, sin anemia. ¿Cuál es el tratamiento antiagregante que debiera recomendarse como primera opción?:\\n\\nA) Ácido acetil salicílico 100 mg/día de forma indefinida.\\nB) Ácido acetil salicílico 100 mg/día de forma indefinida y clopidogrel 75 mg/día durante 1 año.\\nC) Ácido acetil salicílico 100 mg/día de forma indefinida y ticagrelor 90 mg/día durante 1 año.\\nD) Ácido acetil salicílico 100 mg/día de forma indefinida y prasugrel 5 mg/día durante 1 año.\\n\\nTu respuesta (solamente una letra):\n",
            "MIR-2024-v01-t01-Q090              2                                                                                                                                                                                            meta-llama/Meta-Llama-3.1-405B-Instruct-Turbo, mistralai/Mixtral-8x22B-Instruct-v0.1              A                   D                                                                                                                                                                                                                                                                                                                                                                                                                                                                                                                                                                                                                                                                                          Eres un Médico que está realizando el examen MIR, un test estandarizado en español que determinará si obtienes tu residencia. Analiza cuidadosamente la siguiente pregunta y determina la respuesta correcta. Puedes razonar internamente, pero NO incluyas ningún razonamiento en la respuesta final. Responde ÚNICAMENTE con una letra: A, B, C o D. Si no estás seguro, responde con N. Cualquier texto adicional invalidará tu respuesta y restará puntos.\\n\\nPregunta: Paciente de 75 años con estancia prolongada en UCI. En una exploración rutinaria se observa dificultad para la flexión dorsal del pie izquierdo con un tibial anterior a 1/5, una dificultad para la extensión de los dedos 1/5 y dificultad para la eversión con peroneos 3/5. No presenta otro foco neurológico, ni dolor en la región lumbar ni en la extremidad. ¿Cuál de las siguientes es la actitud más correcta?:\\n\\nA) Indicar férula antiequino y fisioterapia por sospecha de compresión del nervio ciático poplíteo externo.\\nB) Solicitar electromiograma urgente y dejarlo en reposo.\\nC) Realizar punción lumbar por sospecha de complicación por Guillain-Barre.\\nD) Solicitar resonancia magnética y pautar, si no está recibiendo, corticoides\\n\\nTu respuesta (solamente una letra):\n",
            "MIR-2024-v01-t01-Q054              2                                                                                                                                                                                                             Qwen/Qwen2-VL-72B-Instruct, meta-llama/Llama-3.3-70B-Instruct-Turbo              B                   D                                                                                                                                                                                                                                                                                                                                                                                                                                                Eres un Médico que está realizando el examen MIR, un test estandarizado en español que determinará si obtienes tu residencia. Analiza cuidadosamente la siguiente pregunta y determina la respuesta correcta. Puedes razonar internamente, pero NO incluyas ningún razonamiento en la respuesta final. Responde ÚNICAMENTE con una letra: A, B, C o D. Si no estás seguro, responde con N. Cualquier texto adicional invalidará tu respuesta y restará puntos.\\n\\nPregunta: Hombre de 72 años exfumador, acude a consulta por visión borrosa y dificultad para leer, especialmente en el ojo derecho, situación que ha progresado lentamente en los últimos seis meses. En la exploración del segmento anterior no se encuentran alteraciones clínicamente relevantes. En el ojo derecho se observan múltiples drusas en la región macular (una de tamaño grande) y alteraciones pigmentarias. En la tomografía de coherencia óptica se muestra un adelgazamiento del epitelio pigmentario de la retina y áreas de acumulación de material subretiniano en la mácula del ojo derecho. ¿Cuál es el manejo inicial indicado para este paciente?:\\n\\nA) Iniciar tratamiento con implante intravítreo de dexametasona.\\nB) Recomendar el uso de suplementos vitamínicos específicos.\\nC) Indicar de forma preferente cirugía de catarata con implante de lente intraocular.\\nD) Iniciar tratamiento con inyecciones intravítreas de anti-VEGF (factor de crecimiento endotelial vascular).\\n\\nTu respuesta (solamente una letra):\n",
            "MIR-2024-v01-t01-Q036              2                                                                                                                                                                                                                        Google-Gemini-gemini-1.5-pro, Qwen/Qwen2-VL-72B-Instruct              D                   B                                                                                                                                                                                                                                                                                                                                                                                                                                                                                                                                                                                                                                                                                                                                                                                                                                                                                                                                                                                 Eres un Médico que está realizando el examen MIR, un test estandarizado en español que determinará si obtienes tu residencia. Analiza cuidadosamente la siguiente pregunta y determina la respuesta correcta. Puedes razonar internamente, pero NO incluyas ningún razonamiento en la respuesta final. Responde ÚNICAMENTE con una letra: A, B, C o D. Si no estás seguro, responde con N. Cualquier texto adicional invalidará tu respuesta y restará puntos.\\n\\nPregunta: El paso de autoanticuerpos de la madre al feto a través de la placenta puede asociarse a la aparición de enfermedades autoinmunes en el recién nacido. Señale cuál de las parejas Enfermedad – Autoanticuerpo es INCORRECTA:\\n\\nA) Pénfigo vulgar – Anticuerpos antidesmogleina\\nB) Bloqueo cardíaco congénito – Anticuerpos anti Ro y anti-La.\\nC) Miastenia gravis – Anticuerpos anti receptor de la acetilcolina.\\nD) Lupus eritematoso neonatal – Anticuerpos anti-Sm\\n\\nTu respuesta (solamente una letra):\n",
            "MIR-2024-v01-t01-Q031              2                                                                                                                                                                                                                                          deepseek-ai/DeepSeek-V3, grok-2-latest              D                   A                                                                                                                                                                                                                                                                                                                                                                                                                                                                                                                                                                                                                                                                                                                                                                                     Eres un Médico que está realizando el examen MIR, un test estandarizado en español que determinará si obtienes tu residencia. Analiza cuidadosamente la siguiente pregunta y determina la respuesta correcta. Puedes razonar internamente, pero NO incluyas ningún razonamiento en la respuesta final. Responde ÚNICAMENTE con una letra: A, B, C o D. Si no estás seguro, responde con N. Cualquier texto adicional invalidará tu respuesta y restará puntos.\\n\\nPregunta: En relación con el control químico de la respiración en condiciones fisiológicas señale la afirmación INCORRECTA:\\n\\nA) Los quimiorreceptores carotídeos y aórticos detectan especialmente cambios en la presión parcial de O2 en la sangre.\\nB) Los quimiorreceptores carotídeos y aórticos reciben un flujo arterial muy elevado por lo que se consideran expuestos en todo momento a sangre arterial.\\nC) Los quimiorreceptores centrales detectan fundamentalmente cambios en la concentración de H+ (procedente sobre todo de la disociación de CO2 y H2O).\\nD) El efecto estimulador de la ventilación del CO2 se mantiene sin atenuación en los primeros días.\\n\\nTu respuesta (solamente una letra):\n",
            "MIR-2024-v01-t01-Q165              2                                                                                                                                                                                          meta-llama/Llama-3.3-70B-Instruct-Turbo, meta-llama/Meta-Llama-3.1-405B-Instruct-Turbo              A                   D                                                                                                                                                                                                                                                                                                                                                                                                                    Eres un Médico que está realizando el examen MIR, un test estandarizado en español que determinará si obtienes tu residencia. Analiza cuidadosamente la siguiente pregunta y determina la respuesta correcta. Puedes razonar internamente, pero NO incluyas ningún razonamiento en la respuesta final. Responde ÚNICAMENTE con una letra: A, B, C o D. Si no estás seguro, responde con N. Cualquier texto adicional invalidará tu respuesta y restará puntos.\\n\\nPregunta: Una mujer de 45 años con antecedentes de pleuritis hace 3 años y episodios ocasionales de poliartritis en los últimos 8 meses, fue diagnosticada de LES hace un mes tras un ingreso por fatiga y dolor torácico opresivo de esfuerzo, donde se objetivó una Hb de 5,8 g/dL y VCM de 109 fL por una anemia hemolítica autoinmune. El resto de la analítica mostró una linfopenia de 900/mm3, plaquetas en rango de normalidad, función hepática, creatinina y ionograma normales, tiempo de protrombina 85%, TTPA se muestra prolongado (ratio de 1,8). Existe hipocomplementemia C3 y C4, ANA 1/640, con Anti-DNA +. Fue dada de alta con corticoides, hidroxicloroquina y belimumab semanal subcutáneo. A las tres semanas del alta refiere sensación disneica de 48 horas de evolución sin otros síntomas acompañantes, la Hb de urgencias es de 10,2 gr/dL. ¿Cuál de las siguientes determinaciones de laboratorio deberíamos realizar en primer lugar?:\\n\\nA) Dímero D.\\nB) Proteínas en orina.\\nC) NT-proBNP.\\nD) Test de Coombs.\\n\\nTu respuesta (solamente una letra):\n",
            "MIR-2024-v01-t01-Q155              2                                                                                                                                                                                                  meta-llama/Llama-3.3-70B-Instruct-Turbo, mistralai/Mixtral-8x22B-Instruct-v0.1              B              D || A                                                                                                                                                                                                                                                                                                                                                                                                                                                                                                                                                                                                                                                                                                                                                                                                                                                                                                                                                                                                                                                                                                                      Eres un Médico que está realizando el examen MIR, un test estandarizado en español que determinará si obtienes tu residencia. Analiza cuidadosamente la siguiente pregunta y determina la respuesta correcta. Puedes razonar internamente, pero NO incluyas ningún razonamiento en la respuesta final. Responde ÚNICAMENTE con una letra: A, B, C o D. Si no estás seguro, responde con N. Cualquier texto adicional invalidará tu respuesta y restará puntos.\\n\\nPregunta: La estrategia de cribado de diabetes gestacional en un solo paso consiste en:\\n\\nA) Test de sobrecarga oral de glucosa con 50 gr de glucosa.\\nB) Test de sobrecarga oral de glucosa con 75 gr de glucosa.\\nC) Test de sobrecarga oral de glucosa con 90 gr de glucosa.\\nD) Test de sobrecarga oral de glucosa con 100 gr de glucosa.\\n\\nTu respuesta (solamente una letra):\n",
            "MIR-2024-v01-t01-Q170              2                                                                                                                                                                                                                       mistralai/Mixtral-8x22B-Instruct-v0.1, o3-mini-2025-01-31              B              A || D                                                                                                                                                                                                                                                                                                                                                                                                                                                                                                                                                                            Eres un Médico que está realizando el examen MIR, un test estandarizado en español que determinará si obtienes tu residencia. Analiza cuidadosamente la siguiente pregunta y determina la respuesta correcta. Puedes razonar internamente, pero NO incluyas ningún razonamiento en la respuesta final. Responde ÚNICAMENTE con una letra: A, B, C o D. Si no estás seguro, responde con N. Cualquier texto adicional invalidará tu respuesta y restará puntos.\\n\\nPregunta: Hombre de 38 años con dependencia alcohólica grave. Ha tenido varios ingresos por pancreatitis aguda en el contexto de ingesta de alcohol e hipertrigliceridemia grave. Acude a consulta 12 meses después del último episodio de pancreatitis. No presenta clínica que sugiera insuficiencia pancreática exocrina. Niega reiteradamente ingesta de alcohol. Sigue tratamiento con estatinas y fibratos que asegura tomárselos. Aporta un análisis básico reciente de su empresa con los siguientes datos: colesterol 300 mg/dL, cHDL 42 mg/dL, TG 1102 mg/dL, cLDL no calculable por Friedewald. Colesterol no-HDL 258 mg/dL, ApoB 90 mg/dL, Lp(a) 38 nmol/L (normal <125 nmol/L). En dicho análisis hay un dato, además de la hipertrigliceridemia, que sugiere que el paciente continúa ingiriendo alcohol. Señálelo.\\n\\nA) ApoB.\\nB) cHDL.\\nC) Lp(a).\\nD) Colesterol total.\\n\\nTu respuesta (solamente una letra):\n",
            "MIR-2024-v01-t01-Q097              2                                                                                                                                                                                                           Google-Gemini-gemini-1.5-pro, meta-llama/Llama-3.3-70B-Instruct-Turbo              D              C || B                                                                                                                                                                                                                                                                                                                                                                                                                                                                                                                                                                                                                                                                                                                                                                                                                                                                                                                                                                                                                                                                                                                             Eres un Médico que está realizando el examen MIR, un test estandarizado en español que determinará si obtienes tu residencia. Analiza cuidadosamente la siguiente pregunta y determina la respuesta correcta. Puedes razonar internamente, pero NO incluyas ningún razonamiento en la respuesta final. Responde ÚNICAMENTE con una letra: A, B, C o D. Si no estás seguro, responde con N. Cualquier texto adicional invalidará tu respuesta y restará puntos.\\n\\nPregunta: ¿Cuál de los siguientes hallazgos NO esperaría encontrar en una mujer de 28 años con una comunicación interauricular evolucionada?:\\n\\nA) Soplo mesosistólico.\\nB) Aumento de la silueta cardíaca en la radiografía de tórax.\\nC) Bloqueo de rama derecha en el electrocardiograma.\\nD) Hipertrofia del ventrículo izquierdo.\\n\\nTu respuesta (solamente una letra):\n",
            "MIR-2024-v01-t01-Q102              2                                                                                                                                                                                                             Google-Gemini-gemini-1.5-pro, mistralai/Mixtral-8x22B-Instruct-v0.1              D              C || B                                                                                                                                                                                                                                                                                                                                                                                                                                                                                                                                                                                                                                                                                                                                                                                                                                                                                                                                                                                                   Eres un Médico que está realizando el examen MIR, un test estandarizado en español que determinará si obtienes tu residencia. Analiza cuidadosamente la siguiente pregunta y determina la respuesta correcta. Puedes razonar internamente, pero NO incluyas ningún razonamiento en la respuesta final. Responde ÚNICAMENTE con una letra: A, B, C o D. Si no estás seguro, responde con N. Cualquier texto adicional invalidará tu respuesta y restará puntos.\\n\\nPregunta: Señale cuál de las siguientes situaciones se considera indicación de cirugía para el tratamiento de endocarditis infecciosa (EI):\\n\\nA) Aparición de insuficiencia renal aguda.\\nB) Hallazgo por imagen de émbolos esplénicos o renales en el momento del diagnóstico.\\nC) Presencia de vegetaciones mayores de 8 mm en válvula tricúspide en la EI derecha.\\nD) Hemocultivos positivos persistentes durante 7-10 días tras pauta antibiótica adecuada.\\n\\nTu respuesta (solamente una letra):\n",
            "MIR-2024-v01-t01-Q115              2                                                                                                                                                                                                                                     Google-Gemini-gemini-1.5-pro, grok-2-latest              D                   A                                                                                                                                                                                                                Eres un Médico que está realizando el examen MIR, un test estandarizado en español que determinará si obtienes tu residencia. Analiza cuidadosamente la siguiente pregunta y determina la respuesta correcta. Puedes razonar internamente, pero NO incluyas ningún razonamiento en la respuesta final. Responde ÚNICAMENTE con una letra: A, B, C o D. Si no estás seguro, responde con N. Cualquier texto adicional invalidará tu respuesta y restará puntos.\\n\\nPregunta: Hombre de 65 años, exfumador, en el que de forma incidental se identifica un nódulo pulmonar solitario (NPS) en radiografía simple de tórax. Diagnosticado de enfermedad pulmonar obstructiva crónica con un FEV1 del 30%. En el estudio por TC se describe un NPS en lóbulo superior derecho de 9 mm de diámetro con cola pleural y calcificaciones excéntricas. Se realiza tomografía por emisión de positrones con captación patológica indicativa de malignidad. ¿Cuál de las siguientes actitudes terapéuticas es la más adecuada?:\\n\\nA) Es imprescindible la realización de una biopsia por cirugía torácica ante la elevada posibilidad de malignidad.\\nB) Al tratarse de un NPS de pequeño tamaño (< 1 cm) la actitud más adecuada es la de seguimiento radiológico estrecho con TC al mes y a los 3, 6 y 12 meses.\\nC) Ante la alta probabilidad de malignidad se recomienda realizar una prueba de esfuerzo cardiopulmonar y si el consumo máximo de oxígeno es <10 mL/kg/min remitir a cirugía torácica para resección.\\nD) Se debe realizar una prueba de esfuerzo cardiopulmonar y si el consumo máximo de oxígeno es <10 mL/kg/min el manejo terapéutico más seguro es por medio de radioterapia estereotáxica fraccionada.\\n\\nTu respuesta (solamente una letra):\n",
            "MIR-2024-v01-t01-Q103              2                                                                                                                                                                                                               Qwen/Qwen2-VL-72B-Instruct, mistralai/Mixtral-8x22B-Instruct-v0.1              A              C || D                                                                                                                                                                                                                                                                                                                                                                                                                                                                                                                                                          Eres un Médico que está realizando el examen MIR, un test estandarizado en español que determinará si obtienes tu residencia. Analiza cuidadosamente la siguiente pregunta y determina la respuesta correcta. Puedes razonar internamente, pero NO incluyas ningún razonamiento en la respuesta final. Responde ÚNICAMENTE con una letra: A, B, C o D. Si no estás seguro, responde con N. Cualquier texto adicional invalidará tu respuesta y restará puntos.\\n\\nPregunta: Hombre de 68 años, hipertenso y fumador que acude a urgencias por dolor torácico y disnea desde hace 3 horas. Presenta mal estado general, presión arterial 118/45 mmHg, FC 105 lpm, saturación O2 96%. En la auscultación crepitantes basales finos, tonos cardíacos atenuados, que no permiten identificar soplos. Dímero D 16.000 ng/mL. El ECG muestra taquicardia sinusal y signos de hipertrofia ventricular izquierda. Un ecocardiograma urgente revela un ventrículo izquierdo hipertrófico, no dilatado, con disfunción sistólica global ligera, insuficiencia aórtica moderada, no conocida previamente y derrame pericárdico moderado-grave. Con estos datos, ¿qué patología debe descartar?:\\n\\nA) Disección de aorta proximal.\\nB) Infarto agudo de miocardio complicado con rotura de músculo papilar.\\nC) Tromboembolismo pulmonar masivo.\\nD) Pericarditis efusivo-constrictiva.\\n\\nTu respuesta (solamente una letra):\n",
            "MIR-2024-v01-t01-Q129              2                                                                                                                                                                                                                deepseek-ai/DeepSeek-V3, meta-llama/Llama-3.3-70B-Instruct-Turbo              A                   B                                                                                                                                                                                                                                                                                                                                                                                                                                                                                                                                                                                                                                                                                                                                                                                                                                                                                                                                                     Eres un Médico que está realizando el examen MIR, un test estandarizado en español que determinará si obtienes tu residencia. Analiza cuidadosamente la siguiente pregunta y determina la respuesta correcta. Puedes razonar internamente, pero NO incluyas ningún razonamiento en la respuesta final. Responde ÚNICAMENTE con una letra: A, B, C o D. Si no estás seguro, responde con N. Cualquier texto adicional invalidará tu respuesta y restará puntos.\\n\\nPregunta: ¿Cuál de las siguientes medidas aconsejadas para reducir la infección de la herida quirúrgica es INCORRECTA?:\\n\\nA) En caso de ser necesario eliminar el vello, está indicado rasurarlo con cortadora eléctrica o con cuchilla.\\nB) Es recomendable mantener la temperatura corporal del paciente >35,5ºC.\\nC) Es recomendable mantener la glucemia en cifras <180 mg/dL.\\nD) El intervalo de inicio de la infusión del antibiótico hasta la realización de la incisión debe ser menor de 60 minutos.\\n\\nTu respuesta (solamente una letra):\n",
            "MIR-2024-v01-t01-Q080              1                                                                                                                                                                                                                                           mistralai/Mixtral-8x22B-Instruct-v0.1              C                   A                                                                                                                                                                                                                                                                                                                                                                                                                                                                                                                                                                                                                                                                                                                                                                                                                                                                                Eres un Médico que está realizando el examen MIR, un test estandarizado en español que determinará si obtienes tu residencia. Analiza cuidadosamente la siguiente pregunta y determina la respuesta correcta. Puedes razonar internamente, pero NO incluyas ningún razonamiento en la respuesta final. Responde ÚNICAMENTE con una letra: A, B, C o D. Si no estás seguro, responde con N. Cualquier texto adicional invalidará tu respuesta y restará puntos.\\n\\nPregunta: Con respecto a la parálisis facial, ¿cuál de los siguientes signos y síntomas nos haría pensar en un origen central?\\n\\nA) La presencia de ageusia asociada a la parálisis facial.\\nB) La presencia de hipoestesia o dolor en la región del pabellón auricular del mismo lado que la parálisis.\\nC) Si la debilidad de los músculos faciales sólo afecta a la mitad inferior de la hemicara afectada sin afectación de los músculos palpebrales ni de la frente.\\nD) Si hay disminución de la secreción lacrimal en el ojo correspondiente al lado de la parálisis facial.\\n\\nTu respuesta (solamente una letra):\n",
            "MIR-2024-v01-t01-Q030              1                                                                                                                                                                                                                                         meta-llama/Llama-3.3-70B-Instruct-Turbo              B                   C                                                                                                                                                                                                                                                                                                                                                                                                                                                                                                                                                                                                                                                             Eres un Médico que está realizando el examen MIR, un test estandarizado en español que determinará si obtienes tu residencia. Analiza cuidadosamente la siguiente pregunta y determina la respuesta correcta. Puedes razonar internamente, pero NO incluyas ningún razonamiento en la respuesta final. Responde ÚNICAMENTE con una letra: A, B, C o D. Si no estás seguro, responde con N. Cualquier texto adicional invalidará tu respuesta y restará puntos.\\n\\nPregunta: La utilización baja de energía por el músculo liso es fundamental para el gasto de energía corporal (órganos como los intestinos, la vejiga urinaria o la vesícula biliar mantienen una contracción muscular tónica casi indefinidamente). A este respecto, señale la afirmación correcta:\\n\\nA) La disposición física de los filamentos de miosina y actina es similar a la del músculo esquelético.\\nB) En esa contracción, es fundamental la lentitud de la unión y separación de los puentes cruzados entre los filamentos de actina y miosina.\\nC) La fuerza máxima de contracción es con frecuencia menor que la que se produce en el músculo esquelético.\\nD) La contracción prolongada exige que la excitación de las fibras musculares se mantenga mientras lo haga esa contracción.\\n\\nTu respuesta (solamente una letra):\n",
            "MIR-2024-v01-t01-Q034              1                                                                                                                                                                                                                                           mistralai/Mixtral-8x22B-Instruct-v0.1              D                   B                                                                                                                                                                                                                                                                                                                                                                                                                                                                                                                                                                                                                                                                                                                                                                                                                                                                                                                                                            Eres un Médico que está realizando el examen MIR, un test estandarizado en español que determinará si obtienes tu residencia. Analiza cuidadosamente la siguiente pregunta y determina la respuesta correcta. Puedes razonar internamente, pero NO incluyas ningún razonamiento en la respuesta final. Responde ÚNICAMENTE con una letra: A, B, C o D. Si no estás seguro, responde con N. Cualquier texto adicional invalidará tu respuesta y restará puntos.\\n\\nPregunta: La exploración ecográfica de una mujer gestante de 26 semanas muestra hallazgos consistentes con osteogénesis imperfecta tipo II (gen COL1A1/COL1A2). La paciente tuvo un embarazo previo con la misma patología. Ni ella ni su pareja tienen manifestaciones clínicas de osteogénesis imperfecta. ¿Cuál de las siguientes es la explicación más probable para la recurrencia?:\\n\\nA) Herencia autosómica recesiva.\\nB) Mutación de novo.\\nC) Penetrancia incompleta.\\nD) Mosaicismo germinal.\\n\\nTu respuesta (solamente una letra):\n",
            "MIR-2024-v01-t01-Q040              1                                                                                                                                                                                                                                                      claude-3-7-sonnet-20250219              A                   B                                                                                                                                                                                                                                                                                                                                                                                                                                                                                                                                                                                                                                                                                                                                                                                                                                                                                                                                                                                                                                                                                                                                                                                                                                                                    Eres un Médico que está realizando el examen MIR, un test estandarizado en español que determinará si obtienes tu residencia. Analiza cuidadosamente la siguiente pregunta y determina la respuesta correcta. Puedes razonar internamente, pero NO incluyas ningún razonamiento en la respuesta final. Responde ÚNICAMENTE con una letra: A, B, C o D. Si no estás seguro, responde con N. Cualquier texto adicional invalidará tu respuesta y restará puntos.\\n\\nPregunta: La medida adecuada para estimar el riesgo individual de enfermar es:\\n\\nA) La incidencia acumulada.\\nB) La densidad de incidencia.\\nC) La prevalencia puntual.\\nD) El riesgo relativo.\\n\\nTu respuesta (solamente una letra):\n",
            "MIR-2024-v01-t01-Q029              1                                                                                                                                                                                                                                           mistralai/Mixtral-8x22B-Instruct-v0.1              D                   C                                                                                                                                                                                                                                                                                                                                                                                                                                                                                                                                                                                                                                                                                                                                                                                                                                                                                                                                                 Eres un Médico que está realizando el examen MIR, un test estandarizado en español que determinará si obtienes tu residencia. Analiza cuidadosamente la siguiente pregunta y determina la respuesta correcta. Puedes razonar internamente, pero NO incluyas ningún razonamiento en la respuesta final. Responde ÚNICAMENTE con una letra: A, B, C o D. Si no estás seguro, responde con N. Cualquier texto adicional invalidará tu respuesta y restará puntos.\\n\\nPregunta: En relación con el proceso de envejecimiento, respecto a los principales cambios morfológicos de los aparatos y sistemas, indique la respuesta INCORRECTA:\\n\\nA) En el aparato respiratorio, calcificación de los cartílagos traqueales.\\nB) En el sistema nervioso, aumento del tamaño de los surcos interhemisféricos y de los ventrículos cerebrales.\\nC) En el aparato cardiovascular, reducción en el número de células marcapaso.\\nD) En el sistema nefrourológico, reducción del tejido mesangial.\\n\\nTu respuesta (solamente una letra):\n",
            "MIR-2024-v01-t01-Q071              1                                                                                                                                                                                                                                                    Google-Gemini-gemini-1.5-pro              D                   A                                                                                                                                                                                                                                                                                                                                                                                                                                                                                                                                                                                                                                                                                                                                                                                                                                                                                                                                                                                                                                                                                                                   Eres un Médico que está realizando el examen MIR, un test estandarizado en español que determinará si obtienes tu residencia. Analiza cuidadosamente la siguiente pregunta y determina la respuesta correcta. Puedes razonar internamente, pero NO incluyas ningún razonamiento en la respuesta final. Responde ÚNICAMENTE con una letra: A, B, C o D. Si no estás seguro, responde con N. Cualquier texto adicional invalidará tu respuesta y restará puntos.\\n\\nPregunta: Todas las siguientes pueden ser manifestaciones tardías de sífilis congénita, habitualmente no evidentes clínicamente en los 2 primeros años de vida. Indique la manifestación que NO es habitual en esta patología:\\n\\nA) Dientes de Hutchinson.\\nB) Nariz en silla de montar.\\nC) Queratitis intersticial.\\nD) Cardiopatía congénita.\\n\\nTu respuesta (solamente una letra):\n",
            "MIR-2024-v01-t01-Q060              1                                                                                                                                                                                                                                           mistralai/Mixtral-8x22B-Instruct-v0.1              A                   B                                                                                                                                                                                                                                                                                                                                                                                                                                                                                                                                                                                                                                                                                                                        Eres un Médico que está realizando el examen MIR, un test estandarizado en español que determinará si obtienes tu residencia. Analiza cuidadosamente la siguiente pregunta y determina la respuesta correcta. Puedes razonar internamente, pero NO incluyas ningún razonamiento en la respuesta final. Responde ÚNICAMENTE con una letra: A, B, C o D. Si no estás seguro, responde con N. Cualquier texto adicional invalidará tu respuesta y restará puntos.\\n\\nPregunta: Mujer con gestación monocorial biamniótica de 22 semanas que acude a urgencias por dinámica uterina ocasional. En la ecografía se observa feto 1 con peso estimado en el percentil 80 y columna máxima vertical de líquido amniótico de 11 cm, vejiga urinaria distendida y aumentada de tamaño y feto 2 con un peso en el percentil 25 con una columna máxima de líquido amniótico de 0,5 cm y vejiga urinaria no visible. Exploración vaginal anodina. La longitud cervical es de 36 mm. ¿Cuál es el diagnóstico más probable?:\\n\\nA) Trasfusión feto-fetal.\\nB) Discordancia de crecimiento fetal con crecimiento fetal restringido selectivo del feto\\nC) Rotura prematura de membranas de feto\\nD) Malformación renal feto 2.\\n\\nTu respuesta (solamente una letra):\n",
            "MIR-2024-v01-t01-Q066              1                                                                                                                                                                                                                                                                   grok-2-latest              A                   B                                                                                                                                                                                                                                                                                                                                                                                                                                                                                                                                                                                                                                                                                                                                                                                                                                                                                               Eres un Médico que está realizando el examen MIR, un test estandarizado en español que determinará si obtienes tu residencia. Analiza cuidadosamente la siguiente pregunta y determina la respuesta correcta. Puedes razonar internamente, pero NO incluyas ningún razonamiento en la respuesta final. Responde ÚNICAMENTE con una letra: A, B, C o D. Si no estás seguro, responde con N. Cualquier texto adicional invalidará tu respuesta y restará puntos.\\n\\nPregunta: El síndrome de Guillain-Barré es considerado una polineuropatía postinfecciosa que presenta todas las características siguientes, EXCEPTO una:\\n\\nA) Existe hiperreflexia tendinosa en las extremidades que manifiestan debilidad.\\nB) Es predominantemente un trastorno motor, aunque puede haber síntomas sensitivos.\\nC) En el líquido cefalorraquídeo las proteínas están elevadas, sin pleocitosis y con glucorraquia normal.\\nD) El tratamiento con inmunoglobulina intravenosa acelera la recuperación, pero no modifica la evolución a largo plazo.\\n\\nTu respuesta (solamente una letra):\n",
            "MIR-2024-v01-t01-Q032              1                                                                                                                                                                                                                                                    Google-Gemini-gemini-1.5-pro              A                   D                                                                                                                                                                                                                                                                                                                                                                                                                                                                                                                                                                                                                                                                                                                                                                                                                                                                                                                                                                                                                                                                                          Eres un Médico que está realizando el examen MIR, un test estandarizado en español que determinará si obtienes tu residencia. Analiza cuidadosamente la siguiente pregunta y determina la respuesta correcta. Puedes razonar internamente, pero NO incluyas ningún razonamiento en la respuesta final. Responde ÚNICAMENTE con una letra: A, B, C o D. Si no estás seguro, responde con N. Cualquier texto adicional invalidará tu respuesta y restará puntos.\\n\\nPregunta: En un paciente diagnosticado de una neoplasia maligna de nasofaringe que presenta dolor y edema orbitario, neuropatía de los pares craneales III, IV y VI, y neuropatía de la rama V1 del V par craneal, indique qué estructura es más probable que se encuentre infiltrada:\\n\\nA) Seno cavernoso.\\nB) Hipófisis.\\nC) Agujero yugular.\\nD) Fosa pterigopalatina.\\n\\nTu respuesta (solamente una letra):\n",
            "MIR-2024-v01-t01-Q095              1                                                                                                                                                                                                                                         meta-llama/Llama-3.3-70B-Instruct-Turbo              A                   D                                                                                                                                                                                                                                                                                                                                                                                                                                                                                                                                                                                                                                                                                                                                                                         Eres un Médico que está realizando el examen MIR, un test estandarizado en español que determinará si obtienes tu residencia. Analiza cuidadosamente la siguiente pregunta y determina la respuesta correcta. Puedes razonar internamente, pero NO incluyas ningún razonamiento en la respuesta final. Responde ÚNICAMENTE con una letra: A, B, C o D. Si no estás seguro, responde con N. Cualquier texto adicional invalidará tu respuesta y restará puntos.\\n\\nPregunta: Mujer de 83 años hospitalizada por neumonía adquirida en la comunidad por neumococo. Presenta una artritis aguda de carpo derecho. Sospechamos enfermedad por depósito de pirofosfato pero no se observa condrocalcinosis en la radiografía de carpos ni se ha conseguido obtener líquido sinovial durante la artrocentesis. ¿Qué radiografías añadiremos al cribado con el objetivo de identificar condrocalcinosis?:\\n\\nA) Radiografía anteroposterior de rodillas y de sínfisis de pubis.\\nB) Radiografía anteroposterior de rodillas y de hombros.\\nC) Radiografía anteroposterior de sínfisis de pubis y de hombros.\\nD) Radiografía anteroposterior de rodillas y de codos.\\n\\nTu respuesta (solamente una letra):\n",
            "MIR-2024-v01-t01-Q086              1                                                                                                                                                                                                                                           mistralai/Mixtral-8x22B-Instruct-v0.1              C                   D                                                                                                                                                                                                                                                                                                                                                                                                                                                                                                                                                                                                                                                                                                                                                                                                                                                                                                                                                                                                                                                                                                                                    Eres un Médico que está realizando el examen MIR, un test estandarizado en español que determinará si obtienes tu residencia. Analiza cuidadosamente la siguiente pregunta y determina la respuesta correcta. Puedes razonar internamente, pero NO incluyas ningún razonamiento en la respuesta final. Responde ÚNICAMENTE con una letra: A, B, C o D. Si no estás seguro, responde con N. Cualquier texto adicional invalidará tu respuesta y restará puntos.\\n\\nPregunta: El APACHE-II (Acute Physiologic Assessment and Chronic Health Evaluation II) es un índice cuantitativo de gravedad que se calcula en el paciente crítico utilizando las siguientes variables, EXCEPTO:\\n\\nA) Recuento de leucocitos en sangre.\\nB) Escala de coma de Glasgow.\\nC) Lactato en sangre.\\nD) pH en sangre.\\n\\nTu respuesta (solamente una letra):\n",
            "MIR-2024-v01-t01-Q114              1                                                                                                                                                                                                                                   meta-llama/Meta-Llama-3.1-405B-Instruct-Turbo              D                   A                                                                                                                                                                                                                                                                                                                                                                                                                                                                                                                                                                                                                                                                                                                                                                                                                                                                                                                                                                                                                                                                                                                                                                                         Eres un Médico que está realizando el examen MIR, un test estandarizado en español que determinará si obtienes tu residencia. Analiza cuidadosamente la siguiente pregunta y determina la respuesta correcta. Puedes razonar internamente, pero NO incluyas ningún razonamiento en la respuesta final. Responde ÚNICAMENTE con una letra: A, B, C o D. Si no estás seguro, responde con N. Cualquier texto adicional invalidará tu respuesta y restará puntos.\\n\\nPregunta: En el estudio de las enfermedades intersticiales difusas del pulmón, señale en que entidad el lavado broncoalveolar posee valor diagnóstico:\\n\\nA) Sarcoidosis.\\nB) Fibrosis pulmonar idiopática.\\nC) Neumonitis por hipersensibilidad.\\nD) Proteinosis alveolar.\\n\\nTu respuesta (solamente una letra):\n",
            "MIR-2024-v01-t01-Q141              1                                                                                                                                                                                                                                                    Google-Gemini-gemini-1.5-pro              A                   B                                                                                                                                                                                                                                                                                                                                                                                                                                                                                                                                                                                                                                                                                                                                                                                                                                                                                                                                                                                                                                                                                                                                                                                                                                                                                                     Eres un Médico que está realizando el examen MIR, un test estandarizado en español que determinará si obtienes tu residencia. Analiza cuidadosamente la siguiente pregunta y determina la respuesta correcta. Puedes razonar internamente, pero NO incluyas ningún razonamiento en la respuesta final. Responde ÚNICAMENTE con una letra: A, B, C o D. Si no estás seguro, responde con N. Cualquier texto adicional invalidará tu respuesta y restará puntos.\\n\\nPregunta: ¿A cuál de las siguientes proteínas presentes en la superficie celular se une el fármaco pembrolizumab?:\\n\\nA) PD-1.\\nB) PD-L1.\\nC) CTLA-4.\\nD) HER2.\\n\\nTu respuesta (solamente una letra):\n",
            "MIR-2024-v01-t01-Q119              1                                                                                                                                                                                                                                         meta-llama/Llama-3.3-70B-Instruct-Turbo              C                   A                                                                                                                                                                                                                                                                                                                                                                                                                                                                                                                                                                                                                                    Eres un Médico que está realizando el examen MIR, un test estandarizado en español que determinará si obtienes tu residencia. Analiza cuidadosamente la siguiente pregunta y determina la respuesta correcta. Puedes razonar internamente, pero NO incluyas ningún razonamiento en la respuesta final. Responde ÚNICAMENTE con una letra: A, B, C o D. Si no estás seguro, responde con N. Cualquier texto adicional invalidará tu respuesta y restará puntos.\\n\\nPregunta: Un hombre con diagnóstico de melanoma avanzado y en tratamiento con nivolumab (fármaco anti-PD-1) desarrolla elevación de las transaminasas siete veces los valores normales, junto con elevación de la bilirrubina total (2,3 mg/dL). Se han descartado cuadros infecciosos y no ha mejorado tras suspender el fármaco. ¿Cuál de las siguientes afirmaciones es cierta?\\n\\nA) Es una hepatitis inmunomediada por nivolumab y es indistinguible de una hepatitis autoinmune.\\nB) La reintroducción del fármaco una vez resuelta conlleva la reaparición del cuadro en la mayoría de los casos.\\nC) Los corticoides a dosis de 1 mg/kg de prednisona o equivalente son el tratamiento de elección en esta situación.\\nD) La aparición de esta entidad es tardía, generalmente meses después de iniciado el tratamiento.\\n\\nTu respuesta (solamente una letra):\n",
            "MIR-2024-v01-t01-Q122              1                                                                                                                                                                                                                                                    Google-Gemini-gemini-1.5-pro              C                   A                                                                                                                                                                                                                                                                                                                                                                                                                                                                                                                                                                                                                                                                                                                                                                                                                         Eres un Médico que está realizando el examen MIR, un test estandarizado en español que determinará si obtienes tu residencia. Analiza cuidadosamente la siguiente pregunta y determina la respuesta correcta. Puedes razonar internamente, pero NO incluyas ningún razonamiento en la respuesta final. Responde ÚNICAMENTE con una letra: A, B, C o D. Si no estás seguro, responde con N. Cualquier texto adicional invalidará tu respuesta y restará puntos.\\n\\nPregunta: Mujer de 67 años con antecedentes de infección por VHC que acude a urgencias por hematemesis. A la exploración observamos ascitis y ligera ictericia. ¿Cuál es la actitud diagnóstica y terapéutica más adecuada?\\n\\nA) Estabilizar hemodinámicamente, hacer una endoscopia y colocar un TIPS si tiene hemorragia por varices.\\nB) Realizar una paracentesis, seguido de una endoscopia y ligadura de varices.\\nC) Estabilizar al paciente, iniciar un fármaco vasoactivo, realizar una endoscopia y practicar una ligadura si hay hemorragia por varices.\\nD) Esperar al resultado de la endoscopia para actuar en consecuencia.\\n\\nTu respuesta (solamente una letra):\n",
            "MIR-2024-v01-t01-Q088              1                                                                                                                                                                                                                                           mistralai/Mixtral-8x22B-Instruct-v0.1              D                   C                                                                                                                                                                                                                                                                                                                                              Eres un Médico que está realizando el examen MIR, un test estandarizado en español que determinará si obtienes tu residencia. Analiza cuidadosamente la siguiente pregunta y determina la respuesta correcta. Puedes razonar internamente, pero NO incluyas ningún razonamiento en la respuesta final. Responde ÚNICAMENTE con una letra: A, B, C o D. Si no estás seguro, responde con N. Cualquier texto adicional invalidará tu respuesta y restará puntos.\\n\\nPregunta: Mujer de 63 años, diabética en tratamiento con antidiabéticos orales que consulta por dolor en hombro derecho de 3 meses de evolución sin antecedente traumático. El dolor le limita el movimiento completo del hombro y desde hace una semana le impide el descanso nocturno. En la exploración el médico constata limitación para el movimiento activo de la abducción a más de 100º, de la flexión a 110º, rotación externa a 45º e interna lleva la mano al glúteo con dificultad. No presenta limitación en la movilidad pasiva de la extremidad. La orientación diagnóstica más probable y la actuación inicial es:\\n\\nA) Tendinosis del manguito rotador. Crioterapia, AINEs tópicos y cabestrillo una semana.\\nB) Tendinosis cálcica del supraespinoso derecho. Crioterapia 3 veces al día e indicar fisioterapia.\\nC) Tendinosis del supraespinoso derecho. Infiltración, paracetamol cada 8 horas y solicitar resonancia magnética.\\nD) Tendinosis del supraespinoso derecho. Crioterapia, AINEs orales y ejercicios en su domicilio. Visita de control y si no mejora solicitar prueba de imagen.\\n\\nTu respuesta (solamente una letra):\n",
            "MIR-2024-v01-t01-Q100              1                                                                                                                                                                                                                                           mistralai/Mixtral-8x22B-Instruct-v0.1              C                   B                                                                                                                                                                                                                                                                                                                                                                                                                                                                                                                                                                                                                                                                                                                                                                                                                         Eres un Médico que está realizando el examen MIR, un test estandarizado en español que determinará si obtienes tu residencia. Analiza cuidadosamente la siguiente pregunta y determina la respuesta correcta. Puedes razonar internamente, pero NO incluyas ningún razonamiento en la respuesta final. Responde ÚNICAMENTE con una letra: A, B, C o D. Si no estás seguro, responde con N. Cualquier texto adicional invalidará tu respuesta y restará puntos.\\n\\nPregunta: Un entrenamiento aeróbico intenso y prolongado produce una serie de adaptaciones cardiovasculares que suelen denominarse \"corazón de deportista\". Entre las siguientes adaptaciones fisiológicas, señale la respuesta INCORRECTA:\\n\\nA) Bradicadia sinusal por aumento del tono vagal.\\nB) Bloqueo aurículo-ventricular de primer grado, de segundo grado Mobitz I e incluso de tercer grado durante el sueño.\\nC) Bloqueo completo de rama izquierda del haz de His por hipertrofia ventricular izquierda.\\nD) Bloqueo de rama derecha del haz de His por dilatación fisiológica ventricular derecha en deportes de resistencia.\\n\\nTu respuesta (solamente una letra):\n",
            "MIR-2024-v01-t01-Q098              1                                                                                                                                                                                                                                                         deepseek-ai/DeepSeek-V3              C                   D                                                                                                                                                                                                                                                                                                                                                                                                                                                                                                                                                                                                                                                                                                                                                                                                                                                                               Eres un Médico que está realizando el examen MIR, un test estandarizado en español que determinará si obtienes tu residencia. Analiza cuidadosamente la siguiente pregunta y determina la respuesta correcta. Puedes razonar internamente, pero NO incluyas ningún razonamiento en la respuesta final. Responde ÚNICAMENTE con una letra: A, B, C o D. Si no estás seguro, responde con N. Cualquier texto adicional invalidará tu respuesta y restará puntos.\\n\\nPregunta: Joven de 16 años con astenia desde hace 1 mes, que durante un partido de fútbol sufre un síncope. A su llegada al hospital inconsciente y hemodinámicamente inestable presenta síntomas y signos de accidente cerebrovascular, de isquemia mesentérica y de isquemia arterial periférica, en miembro superior izquierdo y de ambos miembros inferiores. ¿Cuál cree que es el diagnóstico de sospecha?:\\n\\nA) Bloqueo aurículo-ventricular de 3º grado.\\nB) Insuficiencia mitral aguda.\\nC) Mixoma de aurícula izquierda.\\nD) Rotura de aneurisma de arteria cerebral media.\\n\\nTu respuesta (solamente una letra):\n",
            "MIR-2024-v01-t01-Q111              1                                                                                                                                                                                                                                                    Google-Gemini-gemini-1.5-pro              A                   B                                                                                                                                                                                                                                                                                                                                                                                                                                                                                                                                                                                                                                                                                                                                                                                                                                                                                                                                                                                                                                            Eres un Médico que está realizando el examen MIR, un test estandarizado en español que determinará si obtienes tu residencia. Analiza cuidadosamente la siguiente pregunta y determina la respuesta correcta. Puedes razonar internamente, pero NO incluyas ningún razonamiento en la respuesta final. Responde ÚNICAMENTE con una letra: A, B, C o D. Si no estás seguro, responde con N. Cualquier texto adicional invalidará tu respuesta y restará puntos.\\n\\nPregunta: ¿Qué hallazgos de los descritos a continuación son MENOS probables en la exploración física de un paciente con fibrosis a nivel del intersticio pulmonar?:\\n\\nA) Sibilancias bilaterales en la auscultación pulmonar.\\nB) Crepitantes teleinspiratorios bibasales.\\nC) Disminución del murmullo vesicular con acropaquia.\\nD) Vibraciones vocales disminuidas con crepitantes tipo velcro, de carácter \"seco\".\\n\\nTu respuesta (solamente una letra):\n",
            "MIR-2024-v01-t01-Q166              1                                                                                                                                                                                                                                           mistralai/Mixtral-8x22B-Instruct-v0.1              B                   D                                                                                                                                                                                                                                                                                                                                   Eres un Médico que está realizando el examen MIR, un test estandarizado en español que determinará si obtienes tu residencia. Analiza cuidadosamente la siguiente pregunta y determina la respuesta correcta. Puedes razonar internamente, pero NO incluyas ningún razonamiento en la respuesta final. Responde ÚNICAMENTE con una letra: A, B, C o D. Si no estás seguro, responde con N. Cualquier texto adicional invalidará tu respuesta y restará puntos.\\n\\nPregunta: Mujer de 72 años, procedente del medio rural que acude al servicio de urgencias por un cuadro de dolor abdominal, vómitos y diarrea líquida, que posteriormente se hace sanguinolenta, de 6 días de duración. No refiere fiebre ni tratamiento antibiótico previo. Se toman muestras para hemocultivo y estudio microbiológico de las heces y se inicia tratamiento con fluidoterapia intensiva. 48 horas después se observa disminución del nivel de conciencia y la presencia de anemia (hematocrito de 25%, hemoglobina de 7,9 g/dL), trombopenia (plaquetas de 60.000/mL), creatinina de 3,2 mg/dL, hematuria y hemoglobinuria. En el estudio de sangre periférica se aprecian abundantes esquistocitos circulantes (más del 10%). Señale la respuesta INCORRECTA:\\n\\nA) Debe tratar de identificar infección por E. coli, serotipo 0157:H7 y detección por PCR de toxina Shiga (Stx1 y/o Stx2) y genes relacionados.\\nB) Debe iniciar tratamiento antibiótico.\\nC) El cuadro clínico y analítico descarta la posibilidad de infección por Clostridium diffícile.\\nD) La plasmaféresis no es útil en esta paciente.\\n\\nTu respuesta (solamente una letra):\n",
            "MIR-2024-v01-t01-Q179              1                                                                                                                                                                                                                                           mistralai/Mixtral-8x22B-Instruct-v0.1              D                   C                                                                                                                                                                                                                                                                                                                                                                                                                                                                                                                                         Eres un Médico que está realizando el examen MIR, un test estandarizado en español que determinará si obtienes tu residencia. Analiza cuidadosamente la siguiente pregunta y determina la respuesta correcta. Puedes razonar internamente, pero NO incluyas ningún razonamiento en la respuesta final. Responde ÚNICAMENTE con una letra: A, B, C o D. Si no estás seguro, responde con N. Cualquier texto adicional invalidará tu respuesta y restará puntos.\\n\\nPregunta: Respecto al tratamiento del dolor en cuidados paliativos, indique, de las siguientes afirmaciones, cuál es correcta:\\n\\nA) En la actualidad existen comercializados diferentes fármacos opioides para el tratamiento del dolor moderado o grave en personas que reciben cuidados paliativos, superando en perfil de efectos adversos y en efectividad a la morfina y relegándola a un papel testimonial.\\nB) La adicción es un problema creciente en pacientes que precisan morfina en su fase final de vida y es más frecuente cuando se emplean fármacos con efecto de larga duración (metadona o morfina de liberación prolongada).\\nC) El fentanilo oral transmucoso tiene un perfil de acción que lo hace útil en el dolor crónico no irruptivo y de carácter crónico.\\nD) La metadona es un fármaco analgésico con escasa excreción renal por lo que es útil en personas con aclaramiento renal disminuido.\\n\\nTu respuesta (solamente una letra):\n",
            "MIR-2024-v01-t01-Q177              1                                                                                                                                                                                                                                                                   grok-2-latest              C                   B Eres un Médico que está realizando el examen MIR, un test estandarizado en español que determinará si obtienes tu residencia. Analiza cuidadosamente la siguiente pregunta y determina la respuesta correcta. Puedes razonar internamente, pero NO incluyas ningún razonamiento en la respuesta final. Responde ÚNICAMENTE con una letra: A, B, C o D. Si no estás seguro, responde con N. Cualquier texto adicional invalidará tu respuesta y restará puntos.\\n\\nPregunta: Mujer de 80 años que ingresa en el hospital para estudio de anemia tras ser llevada por sus hijos a urgencias por rectorragia y decaimiento físico. Clínicamente se encuentra estable. Está diagnosticada de un deterioro cognitivo, con ideación y juicio frecuentemente incoherentes y alteraciones conductuales para lo que toma risperidona. Se sospecha neoplasia maligna de colon y se plantea realizar una colonoscopia. Usted verifica que la paciente es incapaz de entender adecuadamente lo que se le explica sobre tal prueba, su naturaleza, objetivos, posibles complicaciones, o sus consecuencias diagnósticas y eventualmente terapéuticas. En tal caso, ¿cuál de las siguientes respuestas es correcta?:\\n\\nA) El médico queda eximido de plantear un proceso de consentimiento informado a la paciente, y se considera suficiente su criterio como médico para que se realice la colonoscopia.\\nB) El médico deberá solicitar la comparecencia del Juez, para que autorice la prueba, ante la incapacidad intelectual de la enferma para decidir convenientemente por sí misma.\\nC) Por no tener la paciente capacidad para decidir, deben hacerlo por ella sus familiares, debiendo quedar constancia escrita en el impreso de consentimiento informado.\\nD) Es jurídicamente aceptable un acuerdo entre el médico y los familiares de la enferma basado en un consentimiento informado verbal para que se practique la colonoscopia.\\n\\nTu respuesta (solamente una letra):\n",
            "MIR-2024-v01-t01-Q157              1                                                                                                                                                                                                                                           mistralai/Mixtral-8x22B-Instruct-v0.1              A                   N                                                                                                                                                                                                                                                                                                                                                                                                                                                                                                                                                                                                                                                                                                                                                                                                                                                                                                                                                                                                                                                                                                                                                                                                                                                    Eres un Médico que está realizando el examen MIR, un test estandarizado en español que determinará si obtienes tu residencia. Analiza cuidadosamente la siguiente pregunta y determina la respuesta correcta. Puedes razonar internamente, pero NO incluyas ningún razonamiento en la respuesta final. Responde ÚNICAMENTE con una letra: A, B, C o D. Si no estás seguro, responde con N. Cualquier texto adicional invalidará tu respuesta y restará puntos.\\n\\nPregunta: ¿Qué fármaco de los mencionados a continuación ha de tenerse en cuenta cuando se evalúa a un paciente con hiperparatiroidismo?:\\n\\nA) Hidroclorotiazida.\\nB) Losartán.\\nC) Amlodipino.\\nD) Doxazosina.\\n\\nTu respuesta (solamente una letra):\n",
            "MIR-2024-v01-t01-Q187              1                                                                                                                                                                                                                                         meta-llama/Llama-3.3-70B-Instruct-Turbo              C                   D                                                                                                                                                                                                                                                                                                                                                                                                                                              Eres un Médico que está realizando el examen MIR, un test estandarizado en español que determinará si obtienes tu residencia. Analiza cuidadosamente la siguiente pregunta y determina la respuesta correcta. Puedes razonar internamente, pero NO incluyas ningún razonamiento en la respuesta final. Responde ÚNICAMENTE con una letra: A, B, C o D. Si no estás seguro, responde con N. Cualquier texto adicional invalidará tu respuesta y restará puntos.\\n\\nPregunta: En cuanto al uso de anticonceptivos en mujeres jóvenes en las consultas de Atención Primaria, es importante tener en cuenta diversos aspectos para la prescripción. ¿Cuál de las siguientes es INCORRECTA?:\\n\\nA) Se ha de ofrecer consejo contraceptivo estructurado según los criterios de elegibilidad de la Organización Mundial de la Salud (OMS), e información tanto para la prevención de embarazos no planificados, como de enfermedades de transmisión sexual (ETS).\\nB) Como método anticonceptivo de urgencias, las opciones recomendadas son la toma de levonorgestrel, de acetato de ulipristal o la inserción de un DIU de cobre.\\nC) Ante la indicación de anticonceptivos orales se recomienda el cribado rutinario de trombofilia y dislipemia y citologías de control anuales.\\nD) El riesgo de tromboembolia venosa con el consumo de anticonceptivos orales es bajo, siendo el riesgo menor en los de segunda generación, frente al mayor riesgo en los de tercera y cuarta generación.\\n\\nTu respuesta (solamente una letra):\n",
            "MIR-2024-v01-t01-Q185              1                                                                                                                                                                                                                                                      Qwen/Qwen2-VL-72B-Instruct              B                   D                                                                                                                                                                                                                                                                                                                                                                                                                                                                                                                                                                                                                                                                                                                                                                                                                                                                                                                                                                                          Eres un Médico que está realizando el examen MIR, un test estandarizado en español que determinará si obtienes tu residencia. Analiza cuidadosamente la siguiente pregunta y determina la respuesta correcta. Puedes razonar internamente, pero NO incluyas ningún razonamiento en la respuesta final. Responde ÚNICAMENTE con una letra: A, B, C o D. Si no estás seguro, responde con N. Cualquier texto adicional invalidará tu respuesta y restará puntos.\\n\\nPregunta: Mujer de 61 años con adenocarcinoma rectal avanzado. Presenta dolor neuropático con irradiación perineal y molestias urinarias en relación con masa presacra. Mejoró con tratamiento con opioides (morfina 60 mg cada 12h) pero no tolera más aumento de dosis ni fármacos adyuvantes. ¿Cuál es el tratamiento de elección?:\\n\\nA) Bloqueo del plexo celiaco.\\nB) Bloqueo del ganglio impar.\\nC) Bloqueo de nervios esplácnicos.\\nD) Bloqueo del nervio pudendo.\\n\\nTu respuesta (solamente una letra):\n",
            "MIR-2024-v01-t01-Q202              1                                                                                                                                                                                                                                         meta-llama/Llama-3.3-70B-Instruct-Turbo              A                   B                                                                                                                                                                                                                                                                                                                                                                                                                                                                                                                                                                                                                                                                                              Eres un Médico que está realizando el examen MIR, un test estandarizado en español que determinará si obtienes tu residencia. Analiza cuidadosamente la siguiente pregunta y determina la respuesta correcta. Puedes razonar internamente, pero NO incluyas ningún razonamiento en la respuesta final. Responde ÚNICAMENTE con una letra: A, B, C o D. Si no estás seguro, responde con N. Cualquier texto adicional invalidará tu respuesta y restará puntos.\\n\\nPregunta: Hombre de 45 años que refiere desde hace 3 meses dolor en codo derecho irradiado a antebrazo, no asociado a parestesias ni sensación subjetiva de pérdida de fuerza. La intensidad del dolor va empeorando a lo largo del día, principalmente con trabajo de ordenador y con actividades deportivas. A la exploración física no se observan signos inflamatorios externos, presenta dolor a la palpación de epitróclea humeral y se reproduce su dolor al distender y resistir la musculatura flexora de antebrazo y mano. ¿Cuál de los siguientes es el diagnóstico más probable?:\\n\\nA) Epicondilopatía medial.\\nB) Epicondilopatía lateral.\\nC) Síndrome compartimental crónico.\\nD) Neuropatía cubital por atrapamiento en canal epitrócleo-olecraniano.\\n\\nTu respuesta (solamente una letra):\n",
            "MIR-2024-v01-t01-Q207              1                                                                                                                                                                                                                                           mistralai/Mixtral-8x22B-Instruct-v0.1              A                   D                                                                                                                                                                                                                                                                                                                                                                                                                                                                                                                                                                                                                                                                                                                                                                                                                                                                                                                                                                                                                                                                                                                                       Eres un Médico que está realizando el examen MIR, un test estandarizado en español que determinará si obtienes tu residencia. Analiza cuidadosamente la siguiente pregunta y determina la respuesta correcta. Puedes razonar internamente, pero NO incluyas ningún razonamiento en la respuesta final. Responde ÚNICAMENTE con una letra: A, B, C o D. Si no estás seguro, responde con N. Cualquier texto adicional invalidará tu respuesta y restará puntos.\\n\\nPregunta: En relación con el estudio de la causalidad en epidemiología, solo uno de los siguientes es un criterio o consideración causal de Bradford Hill. Señálelo:\\n\\nA) Gradiente biológico (relación dosis-respuesta).\\nB) Ausencia de sesgos.\\nC) Ausencia de confusión.\\nD) Significación estadística de la asociación.\\n\\nTu respuesta (solamente una letra):\n",
            "MIR-2024-v01-t01-Q210              1                                                                                                                                                                                                                                           mistralai/Mixtral-8x22B-Instruct-v0.1              B                   D                                                                                                                                                                                                                                                                                                                                                                                                                                                                                                                                                                                                                                                                                                                                                                                                                                                                                                                                                                                                                                                                                     Eres un Médico que está realizando el examen MIR, un test estandarizado en español que determinará si obtienes tu residencia. Analiza cuidadosamente la siguiente pregunta y determina la respuesta correcta. Puedes razonar internamente, pero NO incluyas ningún razonamiento en la respuesta final. Responde ÚNICAMENTE con una letra: A, B, C o D. Si no estás seguro, responde con N. Cualquier texto adicional invalidará tu respuesta y restará puntos.\\n\\nPregunta: Acude por primera vez a la consulta una paciente de 17 años con anorexia nerviosa de un año de evolución. En la exploración física y analítica son característicos los siguientes signos EXCEPTO:\\n\\nA) Lanugo.\\nB) Taquicardia.\\nC) Hipopotasemia si existen conductas purgativas como los vómitos o el uso de laxantes.\\nD) Disminución de hormonas gonadotróficas.\\n\\nTu respuesta (solamente una letra):\n"
          ]
        }
      ]
    }
  ]
}